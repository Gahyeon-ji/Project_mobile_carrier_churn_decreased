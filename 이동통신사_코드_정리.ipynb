{
 "cells": [
  {
   "cell_type": "markdown",
   "id": "69a13907",
   "metadata": {},
   "source": [
    "# 0. 패키지 임포트"
   ]
  },
  {
   "cell_type": "code",
   "execution_count": 3,
   "id": "4b3dc8a1",
   "metadata": {},
   "outputs": [
    {
     "name": "stdout",
     "output_type": "stream",
     "text": [
      "Collecting xgboost\n",
      "  Using cached xgboost-1.5.2-py3-none-win_amd64.whl (106.6 MB)\n",
      "Requirement already satisfied: numpy in c:\\users\\82106\\anaconda3\\lib\\site-packages (from xgboost) (1.22.2+mkl)\n",
      "Requirement already satisfied: scipy in c:\\users\\82106\\anaconda3\\lib\\site-packages (from xgboost) (1.7.1)\n",
      "Installing collected packages: xgboost\n",
      "Successfully installed xgboost-1.5.2\n"
     ]
    }
   ],
   "source": [
    "# !pip install xgboost"
   ]
  },
  {
   "cell_type": "code",
   "execution_count": 4,
   "id": "57285d98",
   "metadata": {},
   "outputs": [
    {
     "name": "stderr",
     "output_type": "stream",
     "text": [
      "C:\\Users\\82106\\anaconda3\\lib\\site-packages\\statsmodels\\tsa\\base\\tsa_model.py:7: FutureWarning: pandas.Int64Index is deprecated and will be removed from pandas in a future version. Use pandas.Index with the appropriate dtype instead.\n",
      "  from pandas import (to_datetime, Int64Index, DatetimeIndex, Period,\n",
      "C:\\Users\\82106\\anaconda3\\lib\\site-packages\\statsmodels\\tsa\\base\\tsa_model.py:7: FutureWarning: pandas.Float64Index is deprecated and will be removed from pandas in a future version. Use pandas.Index with the appropriate dtype instead.\n",
      "  from pandas import (to_datetime, Int64Index, DatetimeIndex, Period,\n",
      "C:\\Users\\82106\\anaconda3\\lib\\site-packages\\xgboost\\compat.py:36: FutureWarning: pandas.Int64Index is deprecated and will be removed from pandas in a future version. Use pandas.Index with the appropriate dtype instead.\n",
      "  from pandas import MultiIndex, Int64Index\n"
     ]
    }
   ],
   "source": [
    "#패키지 임포트\n",
    "import os\n",
    "import pandas as pd\n",
    "import numpy as np\n",
    "import matplotlib\n",
    "import matplotlib.pyplot as plt\n",
    "import seaborn as sns\n",
    "\n",
    "%matplotlib inline\n",
    "from statsmodels.formula.api import ols\n",
    "import statsmodels.formula.api as smf\n",
    "from statsmodels.api import qqplot,add_constant\n",
    "#선형모델 formula\n",
    "from statsmodels.stats.outliers_influence import variance_inflation_factor\n",
    "\n",
    "from sklearn.linear_model import LinearRegression\n",
    "#후진 제거법\n",
    "from sklearn.feature_selection import RFE\n",
    "#표준화 회귀계수 산출\n",
    "from sklearn.preprocessing import StandardScaler\n",
    "from sklearn.preprocessing import RobustScaler\n",
    "from sklearn.metrics import confusion_matrix\n",
    "\n",
    "matplotlib.rc('font',family = 'NanumGothic')\n",
    "from scipy.stats import shapiro\n",
    "\n",
    "from sklearn.tree import export_graphviz\n",
    "\n",
    "from sklearn.model_selection import train_test_split\n",
    "\n",
    "from sklearn.tree import DecisionTreeRegressor\n",
    "from sklearn.tree import DecisionTreeClassifier\n",
    "from sklearn.ensemble import RandomForestRegressor\n",
    "from sklearn.ensemble import RandomForestClassifier\n",
    "from sklearn.model_selection import GridSearchCV\n",
    "\n",
    "import os\n",
    "import sklearn\n",
    "os.environ['PATH'] +=os.pathsep+'/home/piai/anaconda3/lib/python3.8/site-packages/graphviz'\n",
    "\n",
    "from sklearn.ensemble import GradientBoostingRegressor\n",
    "from sklearn.ensemble import GradientBoostingClassifier\n",
    "from xgboost import XGBClassifier\n",
    "from sklearn.neural_network import MLPClassifier\n",
    "from sklearn import linear_model\n",
    "from sklearn.svm import SVC\n",
    "\n",
    "# import warnings\n",
    "# warnings.filterwarnings(action='ignore')"
   ]
  },
  {
   "cell_type": "markdown",
   "id": "bba4b4da",
   "metadata": {},
   "source": [
    "# 1. 데이터 불러오기"
   ]
  },
  {
   "cell_type": "code",
   "execution_count": 5,
   "id": "b36b85fd",
   "metadata": {},
   "outputs": [
    {
     "name": "stdout",
     "output_type": "stream",
     "text": [
      "<class 'pandas.core.frame.DataFrame'>\n",
      "RangeIndex: 5023 entries, 0 to 5022\n",
      "Data columns (total 31 columns):\n",
      " #   Column                   Non-Null Count  Dtype  \n",
      "---  ------                   --------------  -----  \n",
      " 0   CustomerId               5023 non-null   object \n",
      " 1   ContractID               5023 non-null   object \n",
      " 2   CustomerLTV              5023 non-null   int64  \n",
      " 3   ChurnScore               5023 non-null   int64  \n",
      " 4   SatisScore               5023 non-null   int64  \n",
      " 5   ChurnLabel               5023 non-null   object \n",
      " 6   Gender                   5023 non-null   object \n",
      " 7   Age                      5023 non-null   int64  \n",
      " 8   AgeGroup                 5023 non-null   object \n",
      " 9   Married                  5023 non-null   object \n",
      " 10  Dependents               5023 non-null   object \n",
      " 11  noDependents             5023 non-null   int64  \n",
      " 12  Referrals                5023 non-null   object \n",
      " 13  noReferrals              5023 non-null   int64  \n",
      " 14  Contract                 5023 non-null   object \n",
      " 15  PaperlessBilling         5023 non-null   object \n",
      " 16  PaymentMethod            5023 non-null   object \n",
      " 17  OnlineSecurity           5023 non-null   object \n",
      " 18  OnlineBackup             5023 non-null   object \n",
      " 19  DeviceProtection         5023 non-null   object \n",
      " 20  TechSupport              5023 non-null   object \n",
      " 21  UnlimitedData            5023 non-null   object \n",
      " 22  AvgDownloadGB            5023 non-null   int64  \n",
      " 23  TotalRefund              5023 non-null   float64\n",
      " 24  TotalExtraDataCharge     5023 non-null   int64  \n",
      " 25  AvgLongDistanceCharge    5023 non-null   float64\n",
      " 26  TotalLongDistanceCharge  5023 non-null   float64\n",
      " 27  StartDate                5023 non-null   object \n",
      " 28  EndDate                  898 non-null    object \n",
      " 29  ChurnCategory            898 non-null    object \n",
      " 30  ChurnReason              898 non-null    object \n",
      "dtypes: float64(3), int64(8), object(20)\n",
      "memory usage: 1.2+ MB\n"
     ]
    }
   ],
   "source": [
    "customer_df = pd.read_csv('telco_customer.csv',encoding='utf-8') # 고객의 특징 데이터\n",
    "# customer_df = customer_df[customer_df['AgeGroup']!='10대'] # 미국 기업의 데이터 특성상 10대 결혼한 케이스가 있음 정제 필요\n",
    "customer_df.info()"
   ]
  },
  {
   "cell_type": "code",
   "execution_count": 6,
   "id": "99020be8",
   "metadata": {},
   "outputs": [
    {
     "name": "stdout",
     "output_type": "stream",
     "text": [
      "<class 'pandas.core.frame.DataFrame'>\n",
      "RangeIndex: 218710 entries, 0 to 218709\n",
      "Data columns (total 4 columns):\n",
      " #   Column      Non-Null Count   Dtype  \n",
      "---  ------      --------------   -----  \n",
      " 0   CustomerId  218710 non-null  object \n",
      " 1   ContractID  218710 non-null  object \n",
      " 2   ChargeDate  218710 non-null  object \n",
      " 3   ChargeAmt   218710 non-null  float64\n",
      "dtypes: float64(1), object(3)\n",
      "memory usage: 6.7+ MB\n"
     ]
    }
   ],
   "source": [
    "charge_df = pd.read_csv('telco_charge.csv',encoding = 'euc-kr') # 고객의 요금납부 데이터\n",
    "charge_df.info()"
   ]
  },
  {
   "cell_type": "markdown",
   "id": "45341dab",
   "metadata": {},
   "source": [
    "# 1-2. 결측치&이상치 제거"
   ]
  },
  {
   "cell_type": "code",
   "execution_count": 7,
   "id": "83e4b30e",
   "metadata": {},
   "outputs": [
    {
     "data": {
      "text/plain": [
       "CustomerId    0\n",
       "ContractID    0\n",
       "ChargeDate    0\n",
       "ChargeAmt     0\n",
       "dtype: int64"
      ]
     },
     "execution_count": 7,
     "metadata": {},
     "output_type": "execute_result"
    }
   ],
   "source": [
    "charge_df.isnull().sum()\n",
    "# 이상치 없음"
   ]
  },
  {
   "cell_type": "code",
   "execution_count": 8,
   "id": "e33a1f77",
   "metadata": {},
   "outputs": [
    {
     "data": {
      "text/plain": [
       "CustomerId                    0\n",
       "ContractID                    0\n",
       "CustomerLTV                   0\n",
       "ChurnScore                    0\n",
       "SatisScore                    0\n",
       "ChurnLabel                    0\n",
       "Gender                        0\n",
       "Age                           0\n",
       "AgeGroup                      0\n",
       "Married                       0\n",
       "Dependents                    0\n",
       "noDependents                  0\n",
       "Referrals                     0\n",
       "noReferrals                   0\n",
       "Contract                      0\n",
       "PaperlessBilling              0\n",
       "PaymentMethod                 0\n",
       "OnlineSecurity                0\n",
       "OnlineBackup                  0\n",
       "DeviceProtection              0\n",
       "TechSupport                   0\n",
       "UnlimitedData                 0\n",
       "AvgDownloadGB                 0\n",
       "TotalRefund                   0\n",
       "TotalExtraDataCharge          0\n",
       "AvgLongDistanceCharge         0\n",
       "TotalLongDistanceCharge       0\n",
       "StartDate                     0\n",
       "EndDate                    4125\n",
       "ChurnCategory              4125\n",
       "ChurnReason                4125\n",
       "dtype: int64"
      ]
     },
     "execution_count": 8,
     "metadata": {},
     "output_type": "execute_result"
    }
   ],
   "source": [
    "customer_df.isnull().sum()\n",
    "# EndDate, ChurnCategory, ChurnReason 공통적으로 4136개의 결측치가 존재함 "
   ]
  },
  {
   "cell_type": "code",
   "execution_count": 9,
   "id": "b175fe12",
   "metadata": {},
   "outputs": [
    {
     "data": {
      "text/plain": [
       "0       01-01-2020\n",
       "1       04-01-2020\n",
       "2       06-01-2020\n",
       "3       02-01-2020\n",
       "4       02-01-2020\n",
       "           ...    \n",
       "5018           NaN\n",
       "5019           NaN\n",
       "5020           NaN\n",
       "5021           NaN\n",
       "5022           NaN\n",
       "Name: EndDate, Length: 5023, dtype: object"
      ]
     },
     "execution_count": 9,
     "metadata": {},
     "output_type": "execute_result"
    }
   ],
   "source": [
    "customer_df['EndDate'] # 이탈 날짜"
   ]
  },
  {
   "cell_type": "code",
   "execution_count": 10,
   "id": "a6389c4e",
   "metadata": {},
   "outputs": [
    {
     "data": {
      "text/plain": [
       "0            Competitor\n",
       "1       Dissatisfaction\n",
       "2            Competitor\n",
       "3            Competitor\n",
       "4            Competitor\n",
       "             ...       \n",
       "5018                NaN\n",
       "5019                NaN\n",
       "5020                NaN\n",
       "5021                NaN\n",
       "5022                NaN\n",
       "Name: ChurnCategory, Length: 5023, dtype: object"
      ]
     },
     "execution_count": 10,
     "metadata": {},
     "output_type": "execute_result"
    }
   ],
   "source": [
    "customer_df['ChurnCategory'] # 이탈 이유 카테고리"
   ]
  },
  {
   "cell_type": "code",
   "execution_count": 11,
   "id": "9890e87a",
   "metadata": {},
   "outputs": [
    {
     "data": {
      "text/plain": [
       "0       Competitor offered higher download speeds\n",
       "1                         Product dissatisfaction\n",
       "2                      Attitude of support person\n",
       "3                   Competitor had better devices\n",
       "4                    Competitor offered more data\n",
       "                          ...                    \n",
       "5018                                          NaN\n",
       "5019                                          NaN\n",
       "5020                                          NaN\n",
       "5021                                          NaN\n",
       "5022                                          NaN\n",
       "Name: ChurnReason, Length: 5023, dtype: object"
      ]
     },
     "execution_count": 11,
     "metadata": {},
     "output_type": "execute_result"
    }
   ],
   "source": [
    "customer_df['ChurnReason'] # 이탈 이유"
   ]
  },
  {
   "cell_type": "markdown",
   "id": "c9d2354e",
   "metadata": {},
   "source": [
    "이탈에 관한 변수에 대한 NaN은 결측치로 보지 않음    \n",
    "계약 지속 고객의 경우에 이탈 날짜, 이탈 이유는 없기때문에 결측치가 아닌 정상적인 데이터로 판단"
   ]
  },
  {
   "cell_type": "markdown",
   "id": "449431a4",
   "metadata": {},
   "source": [
    "# 1-3. 파생 변수 만들기"
   ]
  },
  {
   "cell_type": "markdown",
   "id": "e4ad05bf",
   "metadata": {},
   "source": [
    "- AvgCharge : 평균 과금액(월)       \n",
    "- TotalCharge : 총 과금액(총 기간)    \n",
    "- TotalRevenue : 총 매출(TotalCharge + TotalExtraDataCharge + TotalLongDistanceCharge - TotalRefund)\n",
    "- TenureMonths : 사용기간(월) "
   ]
  },
  {
   "cell_type": "markdown",
   "id": "01645317",
   "metadata": {},
   "source": [
    "### 1) AvgCharge"
   ]
  },
  {
   "cell_type": "code",
   "execution_count": 12,
   "id": "f4223dbf",
   "metadata": {},
   "outputs": [
    {
     "data": {
      "text/html": [
       "<div>\n",
       "<style scoped>\n",
       "    .dataframe tbody tr th:only-of-type {\n",
       "        vertical-align: middle;\n",
       "    }\n",
       "\n",
       "    .dataframe tbody tr th {\n",
       "        vertical-align: top;\n",
       "    }\n",
       "\n",
       "    .dataframe thead th {\n",
       "        text-align: right;\n",
       "    }\n",
       "</style>\n",
       "<table border=\"1\" class=\"dataframe\">\n",
       "  <thead>\n",
       "    <tr style=\"text-align: right;\">\n",
       "      <th></th>\n",
       "      <th>ChargeAmt</th>\n",
       "    </tr>\n",
       "    <tr>\n",
       "      <th>CustomerId</th>\n",
       "      <th></th>\n",
       "    </tr>\n",
       "  </thead>\n",
       "  <tbody>\n",
       "    <tr>\n",
       "      <th>C-10001</th>\n",
       "      <td>73.877778</td>\n",
       "    </tr>\n",
       "    <tr>\n",
       "      <th>C-10002</th>\n",
       "      <td>99.715385</td>\n",
       "    </tr>\n",
       "    <tr>\n",
       "      <th>C-10003</th>\n",
       "      <td>114.732857</td>\n",
       "    </tr>\n",
       "    <tr>\n",
       "      <th>C-10004</th>\n",
       "      <td>87.972222</td>\n",
       "    </tr>\n",
       "    <tr>\n",
       "      <th>C-10005</th>\n",
       "      <td>93.982308</td>\n",
       "    </tr>\n",
       "    <tr>\n",
       "      <th>...</th>\n",
       "      <td>...</td>\n",
       "    </tr>\n",
       "    <tr>\n",
       "      <th>C-15120</th>\n",
       "      <td>88.189130</td>\n",
       "    </tr>\n",
       "    <tr>\n",
       "      <th>C-15121</th>\n",
       "      <td>57.250000</td>\n",
       "    </tr>\n",
       "    <tr>\n",
       "      <th>C-15122</th>\n",
       "      <td>89.604545</td>\n",
       "    </tr>\n",
       "    <tr>\n",
       "      <th>C-15123</th>\n",
       "      <td>71.155970</td>\n",
       "    </tr>\n",
       "    <tr>\n",
       "      <th>C-15124</th>\n",
       "      <td>61.469841</td>\n",
       "    </tr>\n",
       "  </tbody>\n",
       "</table>\n",
       "<p>5113 rows × 1 columns</p>\n",
       "</div>"
      ],
      "text/plain": [
       "             ChargeAmt\n",
       "CustomerId            \n",
       "C-10001      73.877778\n",
       "C-10002      99.715385\n",
       "C-10003     114.732857\n",
       "C-10004      87.972222\n",
       "C-10005      93.982308\n",
       "...                ...\n",
       "C-15120      88.189130\n",
       "C-15121      57.250000\n",
       "C-15122      89.604545\n",
       "C-15123      71.155970\n",
       "C-15124      61.469841\n",
       "\n",
       "[5113 rows x 1 columns]"
      ]
     },
     "execution_count": 12,
     "metadata": {},
     "output_type": "execute_result"
    }
   ],
   "source": [
    "AvgCharge = pd.DataFrame(charge_df.groupby('CustomerId')['ChargeAmt'].mean()) # 한 고객의 총 과금액의 평균\n",
    "AvgCharge"
   ]
  },
  {
   "cell_type": "code",
   "execution_count": 13,
   "id": "4f2f245a",
   "metadata": {},
   "outputs": [],
   "source": [
    "customer_df = pd.merge(customer_df, AvgCharge, how='left', on='CustomerId') # 기존 데이터프레임과 병합"
   ]
  },
  {
   "cell_type": "code",
   "execution_count": 14,
   "id": "3b377eb7",
   "metadata": {},
   "outputs": [
    {
     "name": "stdout",
     "output_type": "stream",
     "text": [
      "CustomerId                    0\n",
      "ContractID                    0\n",
      "CustomerLTV                   0\n",
      "ChurnScore                    0\n",
      "SatisScore                    0\n",
      "ChurnLabel                    0\n",
      "Gender                        0\n",
      "Age                           0\n",
      "AgeGroup                      0\n",
      "Married                       0\n",
      "Dependents                    0\n",
      "noDependents                  0\n",
      "Referrals                     0\n",
      "noReferrals                   0\n",
      "Contract                      0\n",
      "PaperlessBilling              0\n",
      "PaymentMethod                 0\n",
      "OnlineSecurity                0\n",
      "OnlineBackup                  0\n",
      "DeviceProtection              0\n",
      "TechSupport                   0\n",
      "UnlimitedData                 0\n",
      "AvgDownloadGB                 0\n",
      "TotalRefund                   0\n",
      "TotalExtraDataCharge          0\n",
      "AvgLongDistanceCharge         0\n",
      "TotalLongDistanceCharge       0\n",
      "StartDate                     0\n",
      "EndDate                    4125\n",
      "ChurnCategory              4125\n",
      "ChurnReason                4125\n",
      "ChargeAmt                     0\n",
      "dtype: int64\n"
     ]
    }
   ],
   "source": [
    "customer_df['ChargeAmt'].isnull().sum() \n",
    "# 결측치 11명 확인 : 아직 과금액을 내지 않은 고객(한 달이 되지 않은 고객)\n",
    "\n",
    "customer_df['ChargeAmt'].fillna(0,inplace=True)\n",
    "print(customer_df.isnull().sum())\n",
    "\n",
    "customer_df.rename(columns={'ChargeAmt':'AvgCharge'},inplace=True)"
   ]
  },
  {
   "cell_type": "markdown",
   "id": "3b808a65",
   "metadata": {},
   "source": [
    "### 2) TotalCharge"
   ]
  },
  {
   "cell_type": "code",
   "execution_count": 15,
   "id": "1290e810",
   "metadata": {},
   "outputs": [
    {
     "data": {
      "text/html": [
       "<div>\n",
       "<style scoped>\n",
       "    .dataframe tbody tr th:only-of-type {\n",
       "        vertical-align: middle;\n",
       "    }\n",
       "\n",
       "    .dataframe tbody tr th {\n",
       "        vertical-align: top;\n",
       "    }\n",
       "\n",
       "    .dataframe thead th {\n",
       "        text-align: right;\n",
       "    }\n",
       "</style>\n",
       "<table border=\"1\" class=\"dataframe\">\n",
       "  <thead>\n",
       "    <tr style=\"text-align: right;\">\n",
       "      <th></th>\n",
       "      <th>CustomerId</th>\n",
       "      <th>ContractID</th>\n",
       "      <th>CustomerLTV</th>\n",
       "      <th>ChurnScore</th>\n",
       "      <th>SatisScore</th>\n",
       "      <th>ChurnLabel</th>\n",
       "      <th>Gender</th>\n",
       "      <th>Age</th>\n",
       "      <th>AgeGroup</th>\n",
       "      <th>Married</th>\n",
       "      <th>...</th>\n",
       "      <th>TotalRefund</th>\n",
       "      <th>TotalExtraDataCharge</th>\n",
       "      <th>AvgLongDistanceCharge</th>\n",
       "      <th>TotalLongDistanceCharge</th>\n",
       "      <th>StartDate</th>\n",
       "      <th>EndDate</th>\n",
       "      <th>ChurnCategory</th>\n",
       "      <th>ChurnReason</th>\n",
       "      <th>AvgCharge</th>\n",
       "      <th>TotalCharge</th>\n",
       "    </tr>\n",
       "  </thead>\n",
       "  <tbody>\n",
       "    <tr>\n",
       "      <th>0</th>\n",
       "      <td>C-10710</td>\n",
       "      <td>G2QEWraUUx</td>\n",
       "      <td>2860</td>\n",
       "      <td>91</td>\n",
       "      <td>1</td>\n",
       "      <td>Yes</td>\n",
       "      <td>Female</td>\n",
       "      <td>62</td>\n",
       "      <td>60대</td>\n",
       "      <td>Yes</td>\n",
       "      <td>...</td>\n",
       "      <td>0.0</td>\n",
       "      <td>0</td>\n",
       "      <td>15.7</td>\n",
       "      <td>172.6</td>\n",
       "      <td>02-01-2019</td>\n",
       "      <td>01-01-2020</td>\n",
       "      <td>Competitor</td>\n",
       "      <td>Competitor offered higher download speeds</td>\n",
       "      <td>68.860000</td>\n",
       "      <td>688.60</td>\n",
       "    </tr>\n",
       "    <tr>\n",
       "      <th>1</th>\n",
       "      <td>C-10042</td>\n",
       "      <td>34kMTWHw29</td>\n",
       "      <td>5980</td>\n",
       "      <td>85</td>\n",
       "      <td>1</td>\n",
       "      <td>Yes</td>\n",
       "      <td>Female</td>\n",
       "      <td>78</td>\n",
       "      <td>70대</td>\n",
       "      <td>No</td>\n",
       "      <td>...</td>\n",
       "      <td>0.0</td>\n",
       "      <td>120</td>\n",
       "      <td>11.6</td>\n",
       "      <td>127.5</td>\n",
       "      <td>05-01-2019</td>\n",
       "      <td>04-01-2020</td>\n",
       "      <td>Dissatisfaction</td>\n",
       "      <td>Product dissatisfaction</td>\n",
       "      <td>102.063636</td>\n",
       "      <td>1122.70</td>\n",
       "    </tr>\n",
       "    <tr>\n",
       "      <th>2</th>\n",
       "      <td>C-10513</td>\n",
       "      <td>3eSje7ubR4</td>\n",
       "      <td>2044</td>\n",
       "      <td>70</td>\n",
       "      <td>1</td>\n",
       "      <td>Yes</td>\n",
       "      <td>Male</td>\n",
       "      <td>39</td>\n",
       "      <td>30대</td>\n",
       "      <td>Yes</td>\n",
       "      <td>...</td>\n",
       "      <td>0.0</td>\n",
       "      <td>0</td>\n",
       "      <td>21.6</td>\n",
       "      <td>237.4</td>\n",
       "      <td>07-01-2019</td>\n",
       "      <td>06-01-2020</td>\n",
       "      <td>Competitor</td>\n",
       "      <td>Attitude of support person</td>\n",
       "      <td>78.159091</td>\n",
       "      <td>859.75</td>\n",
       "    </tr>\n",
       "    <tr>\n",
       "      <th>3</th>\n",
       "      <td>C-10657</td>\n",
       "      <td>JkLnJ4unvX</td>\n",
       "      <td>2437</td>\n",
       "      <td>74</td>\n",
       "      <td>1</td>\n",
       "      <td>Yes</td>\n",
       "      <td>Male</td>\n",
       "      <td>77</td>\n",
       "      <td>70대</td>\n",
       "      <td>No</td>\n",
       "      <td>...</td>\n",
       "      <td>0.0</td>\n",
       "      <td>0</td>\n",
       "      <td>0.0</td>\n",
       "      <td>0.0</td>\n",
       "      <td>02-01-2019</td>\n",
       "      <td>02-01-2020</td>\n",
       "      <td>Competitor</td>\n",
       "      <td>Competitor had better devices</td>\n",
       "      <td>45.577273</td>\n",
       "      <td>501.35</td>\n",
       "    </tr>\n",
       "    <tr>\n",
       "      <th>4</th>\n",
       "      <td>C-10934</td>\n",
       "      <td>K8yDzLiZq3</td>\n",
       "      <td>4306</td>\n",
       "      <td>87</td>\n",
       "      <td>1</td>\n",
       "      <td>Yes</td>\n",
       "      <td>Male</td>\n",
       "      <td>57</td>\n",
       "      <td>50대</td>\n",
       "      <td>Yes</td>\n",
       "      <td>...</td>\n",
       "      <td>23.7</td>\n",
       "      <td>0</td>\n",
       "      <td>18.3</td>\n",
       "      <td>219.1</td>\n",
       "      <td>02-01-2019</td>\n",
       "      <td>02-01-2020</td>\n",
       "      <td>Competitor</td>\n",
       "      <td>Competitor offered more data</td>\n",
       "      <td>84.522727</td>\n",
       "      <td>929.75</td>\n",
       "    </tr>\n",
       "    <tr>\n",
       "      <th>...</th>\n",
       "      <td>...</td>\n",
       "      <td>...</td>\n",
       "      <td>...</td>\n",
       "      <td>...</td>\n",
       "      <td>...</td>\n",
       "      <td>...</td>\n",
       "      <td>...</td>\n",
       "      <td>...</td>\n",
       "      <td>...</td>\n",
       "      <td>...</td>\n",
       "      <td>...</td>\n",
       "      <td>...</td>\n",
       "      <td>...</td>\n",
       "      <td>...</td>\n",
       "      <td>...</td>\n",
       "      <td>...</td>\n",
       "      <td>...</td>\n",
       "      <td>...</td>\n",
       "      <td>...</td>\n",
       "      <td>...</td>\n",
       "      <td>...</td>\n",
       "    </tr>\n",
       "    <tr>\n",
       "      <th>5018</th>\n",
       "      <td>C-14491</td>\n",
       "      <td>qFB3Ceg7eH</td>\n",
       "      <td>6011</td>\n",
       "      <td>46</td>\n",
       "      <td>5</td>\n",
       "      <td>No</td>\n",
       "      <td>Male</td>\n",
       "      <td>40</td>\n",
       "      <td>40대</td>\n",
       "      <td>Yes</td>\n",
       "      <td>...</td>\n",
       "      <td>0.0</td>\n",
       "      <td>0</td>\n",
       "      <td>4.2</td>\n",
       "      <td>298.8</td>\n",
       "      <td>01-01-2014</td>\n",
       "      <td>NaN</td>\n",
       "      <td>NaN</td>\n",
       "      <td>NaN</td>\n",
       "      <td>26.074648</td>\n",
       "      <td>1851.30</td>\n",
       "    </tr>\n",
       "    <tr>\n",
       "      <th>5019</th>\n",
       "      <td>C-14512</td>\n",
       "      <td>JuUWYz23oJ</td>\n",
       "      <td>6082</td>\n",
       "      <td>54</td>\n",
       "      <td>5</td>\n",
       "      <td>No</td>\n",
       "      <td>Male</td>\n",
       "      <td>62</td>\n",
       "      <td>60대</td>\n",
       "      <td>Yes</td>\n",
       "      <td>...</td>\n",
       "      <td>0.0</td>\n",
       "      <td>0</td>\n",
       "      <td>43.8</td>\n",
       "      <td>3156.5</td>\n",
       "      <td>01-01-2014</td>\n",
       "      <td>NaN</td>\n",
       "      <td>NaN</td>\n",
       "      <td>NaN</td>\n",
       "      <td>103.786620</td>\n",
       "      <td>7368.85</td>\n",
       "    </tr>\n",
       "    <tr>\n",
       "      <th>5020</th>\n",
       "      <td>C-14532</td>\n",
       "      <td>5QTAS8rbQQ</td>\n",
       "      <td>5425</td>\n",
       "      <td>59</td>\n",
       "      <td>5</td>\n",
       "      <td>No</td>\n",
       "      <td>Female</td>\n",
       "      <td>42</td>\n",
       "      <td>40대</td>\n",
       "      <td>No</td>\n",
       "      <td>...</td>\n",
       "      <td>0.0</td>\n",
       "      <td>0</td>\n",
       "      <td>24.2</td>\n",
       "      <td>1741.7</td>\n",
       "      <td>01-01-2014</td>\n",
       "      <td>NaN</td>\n",
       "      <td>NaN</td>\n",
       "      <td>NaN</td>\n",
       "      <td>115.538028</td>\n",
       "      <td>8203.20</td>\n",
       "    </tr>\n",
       "    <tr>\n",
       "      <th>5021</th>\n",
       "      <td>C-14611</td>\n",
       "      <td>ERiWyytih2</td>\n",
       "      <td>5832</td>\n",
       "      <td>53</td>\n",
       "      <td>5</td>\n",
       "      <td>No</td>\n",
       "      <td>Female</td>\n",
       "      <td>70</td>\n",
       "      <td>70대</td>\n",
       "      <td>Yes</td>\n",
       "      <td>...</td>\n",
       "      <td>0.0</td>\n",
       "      <td>80</td>\n",
       "      <td>18.2</td>\n",
       "      <td>1306.8</td>\n",
       "      <td>01-01-2014</td>\n",
       "      <td>NaN</td>\n",
       "      <td>NaN</td>\n",
       "      <td>NaN</td>\n",
       "      <td>109.719014</td>\n",
       "      <td>7790.05</td>\n",
       "    </tr>\n",
       "    <tr>\n",
       "      <th>5022</th>\n",
       "      <td>C-14956</td>\n",
       "      <td>W8mica2L4w</td>\n",
       "      <td>4689</td>\n",
       "      <td>75</td>\n",
       "      <td>5</td>\n",
       "      <td>No</td>\n",
       "      <td>Male</td>\n",
       "      <td>23</td>\n",
       "      <td>20대</td>\n",
       "      <td>Yes</td>\n",
       "      <td>...</td>\n",
       "      <td>0.0</td>\n",
       "      <td>0</td>\n",
       "      <td>35.1</td>\n",
       "      <td>2525.0</td>\n",
       "      <td>01-01-2014</td>\n",
       "      <td>NaN</td>\n",
       "      <td>NaN</td>\n",
       "      <td>NaN</td>\n",
       "      <td>84.390141</td>\n",
       "      <td>5991.70</td>\n",
       "    </tr>\n",
       "  </tbody>\n",
       "</table>\n",
       "<p>5023 rows × 33 columns</p>\n",
       "</div>"
      ],
      "text/plain": [
       "     CustomerId  ContractID  CustomerLTV  ChurnScore  SatisScore ChurnLabel  \\\n",
       "0       C-10710  G2QEWraUUx         2860          91           1        Yes   \n",
       "1       C-10042  34kMTWHw29         5980          85           1        Yes   \n",
       "2       C-10513  3eSje7ubR4         2044          70           1        Yes   \n",
       "3       C-10657  JkLnJ4unvX         2437          74           1        Yes   \n",
       "4       C-10934  K8yDzLiZq3         4306          87           1        Yes   \n",
       "...         ...         ...          ...         ...         ...        ...   \n",
       "5018    C-14491  qFB3Ceg7eH         6011          46           5         No   \n",
       "5019    C-14512  JuUWYz23oJ         6082          54           5         No   \n",
       "5020    C-14532  5QTAS8rbQQ         5425          59           5         No   \n",
       "5021    C-14611  ERiWyytih2         5832          53           5         No   \n",
       "5022    C-14956  W8mica2L4w         4689          75           5         No   \n",
       "\n",
       "      Gender  Age AgeGroup Married  ... TotalRefund  TotalExtraDataCharge  \\\n",
       "0     Female   62      60대     Yes  ...         0.0                     0   \n",
       "1     Female   78      70대      No  ...         0.0                   120   \n",
       "2       Male   39      30대     Yes  ...         0.0                     0   \n",
       "3       Male   77      70대      No  ...         0.0                     0   \n",
       "4       Male   57      50대     Yes  ...        23.7                     0   \n",
       "...      ...  ...      ...     ...  ...         ...                   ...   \n",
       "5018    Male   40      40대     Yes  ...         0.0                     0   \n",
       "5019    Male   62      60대     Yes  ...         0.0                     0   \n",
       "5020  Female   42      40대      No  ...         0.0                     0   \n",
       "5021  Female   70      70대     Yes  ...         0.0                    80   \n",
       "5022    Male   23      20대     Yes  ...         0.0                     0   \n",
       "\n",
       "     AvgLongDistanceCharge  TotalLongDistanceCharge   StartDate     EndDate  \\\n",
       "0                     15.7                    172.6  02-01-2019  01-01-2020   \n",
       "1                     11.6                    127.5  05-01-2019  04-01-2020   \n",
       "2                     21.6                    237.4  07-01-2019  06-01-2020   \n",
       "3                      0.0                      0.0  02-01-2019  02-01-2020   \n",
       "4                     18.3                    219.1  02-01-2019  02-01-2020   \n",
       "...                    ...                      ...         ...         ...   \n",
       "5018                   4.2                    298.8  01-01-2014         NaN   \n",
       "5019                  43.8                   3156.5  01-01-2014         NaN   \n",
       "5020                  24.2                   1741.7  01-01-2014         NaN   \n",
       "5021                  18.2                   1306.8  01-01-2014         NaN   \n",
       "5022                  35.1                   2525.0  01-01-2014         NaN   \n",
       "\n",
       "        ChurnCategory                                ChurnReason   AvgCharge  \\\n",
       "0          Competitor  Competitor offered higher download speeds   68.860000   \n",
       "1     Dissatisfaction                    Product dissatisfaction  102.063636   \n",
       "2          Competitor                 Attitude of support person   78.159091   \n",
       "3          Competitor              Competitor had better devices   45.577273   \n",
       "4          Competitor               Competitor offered more data   84.522727   \n",
       "...               ...                                        ...         ...   \n",
       "5018              NaN                                        NaN   26.074648   \n",
       "5019              NaN                                        NaN  103.786620   \n",
       "5020              NaN                                        NaN  115.538028   \n",
       "5021              NaN                                        NaN  109.719014   \n",
       "5022              NaN                                        NaN   84.390141   \n",
       "\n",
       "     TotalCharge  \n",
       "0         688.60  \n",
       "1        1122.70  \n",
       "2         859.75  \n",
       "3         501.35  \n",
       "4         929.75  \n",
       "...          ...  \n",
       "5018     1851.30  \n",
       "5019     7368.85  \n",
       "5020     8203.20  \n",
       "5021     7790.05  \n",
       "5022     5991.70  \n",
       "\n",
       "[5023 rows x 33 columns]"
      ]
     },
     "execution_count": 15,
     "metadata": {},
     "output_type": "execute_result"
    }
   ],
   "source": [
    "TotalCharge = pd.DataFrame(charge_df.groupby('CustomerId')['ChargeAmt'].sum()) # 한 고객의 총 과금액의 합계\n",
    "customer_df = pd.merge(customer_df,TotalCharge,how='left', on='CustomerId')\n",
    "customer_df.rename(columns ={'ChargeAmt' : 'TotalCharge'}, inplace = True)\n",
    "customer_df"
   ]
  },
  {
   "cell_type": "code",
   "execution_count": 16,
   "id": "79bd5347",
   "metadata": {},
   "outputs": [
    {
     "data": {
      "text/plain": [
       "0"
      ]
     },
     "execution_count": 16,
     "metadata": {},
     "output_type": "execute_result"
    }
   ],
   "source": [
    "customer_df['TotalCharge'].fillna(0,inplace=True)\n",
    "customer_df['TotalCharge'].isnull().sum()"
   ]
  },
  {
   "cell_type": "markdown",
   "id": "aa71e3b7",
   "metadata": {},
   "source": [
    "### 3) TotalRevenue"
   ]
  },
  {
   "cell_type": "code",
   "execution_count": 17,
   "id": "429f5856",
   "metadata": {},
   "outputs": [
    {
     "data": {
      "text/html": [
       "<div>\n",
       "<style scoped>\n",
       "    .dataframe tbody tr th:only-of-type {\n",
       "        vertical-align: middle;\n",
       "    }\n",
       "\n",
       "    .dataframe tbody tr th {\n",
       "        vertical-align: top;\n",
       "    }\n",
       "\n",
       "    .dataframe thead th {\n",
       "        text-align: right;\n",
       "    }\n",
       "</style>\n",
       "<table border=\"1\" class=\"dataframe\">\n",
       "  <thead>\n",
       "    <tr style=\"text-align: right;\">\n",
       "      <th></th>\n",
       "      <th>CustomerId</th>\n",
       "      <th>ContractID</th>\n",
       "      <th>CustomerLTV</th>\n",
       "      <th>ChurnScore</th>\n",
       "      <th>SatisScore</th>\n",
       "      <th>ChurnLabel</th>\n",
       "      <th>Gender</th>\n",
       "      <th>Age</th>\n",
       "      <th>AgeGroup</th>\n",
       "      <th>Married</th>\n",
       "      <th>...</th>\n",
       "      <th>TotalExtraDataCharge</th>\n",
       "      <th>AvgLongDistanceCharge</th>\n",
       "      <th>TotalLongDistanceCharge</th>\n",
       "      <th>StartDate</th>\n",
       "      <th>EndDate</th>\n",
       "      <th>ChurnCategory</th>\n",
       "      <th>ChurnReason</th>\n",
       "      <th>AvgCharge</th>\n",
       "      <th>TotalCharge</th>\n",
       "      <th>TotalRevenue</th>\n",
       "    </tr>\n",
       "  </thead>\n",
       "  <tbody>\n",
       "    <tr>\n",
       "      <th>0</th>\n",
       "      <td>C-10710</td>\n",
       "      <td>G2QEWraUUx</td>\n",
       "      <td>2860</td>\n",
       "      <td>91</td>\n",
       "      <td>1</td>\n",
       "      <td>Yes</td>\n",
       "      <td>Female</td>\n",
       "      <td>62</td>\n",
       "      <td>60대</td>\n",
       "      <td>Yes</td>\n",
       "      <td>...</td>\n",
       "      <td>0</td>\n",
       "      <td>15.7</td>\n",
       "      <td>172.6</td>\n",
       "      <td>02-01-2019</td>\n",
       "      <td>01-01-2020</td>\n",
       "      <td>Competitor</td>\n",
       "      <td>Competitor offered higher download speeds</td>\n",
       "      <td>68.860000</td>\n",
       "      <td>688.60</td>\n",
       "      <td>861.20</td>\n",
       "    </tr>\n",
       "    <tr>\n",
       "      <th>1</th>\n",
       "      <td>C-10042</td>\n",
       "      <td>34kMTWHw29</td>\n",
       "      <td>5980</td>\n",
       "      <td>85</td>\n",
       "      <td>1</td>\n",
       "      <td>Yes</td>\n",
       "      <td>Female</td>\n",
       "      <td>78</td>\n",
       "      <td>70대</td>\n",
       "      <td>No</td>\n",
       "      <td>...</td>\n",
       "      <td>120</td>\n",
       "      <td>11.6</td>\n",
       "      <td>127.5</td>\n",
       "      <td>05-01-2019</td>\n",
       "      <td>04-01-2020</td>\n",
       "      <td>Dissatisfaction</td>\n",
       "      <td>Product dissatisfaction</td>\n",
       "      <td>102.063636</td>\n",
       "      <td>1122.70</td>\n",
       "      <td>1370.20</td>\n",
       "    </tr>\n",
       "    <tr>\n",
       "      <th>2</th>\n",
       "      <td>C-10513</td>\n",
       "      <td>3eSje7ubR4</td>\n",
       "      <td>2044</td>\n",
       "      <td>70</td>\n",
       "      <td>1</td>\n",
       "      <td>Yes</td>\n",
       "      <td>Male</td>\n",
       "      <td>39</td>\n",
       "      <td>30대</td>\n",
       "      <td>Yes</td>\n",
       "      <td>...</td>\n",
       "      <td>0</td>\n",
       "      <td>21.6</td>\n",
       "      <td>237.4</td>\n",
       "      <td>07-01-2019</td>\n",
       "      <td>06-01-2020</td>\n",
       "      <td>Competitor</td>\n",
       "      <td>Attitude of support person</td>\n",
       "      <td>78.159091</td>\n",
       "      <td>859.75</td>\n",
       "      <td>1097.15</td>\n",
       "    </tr>\n",
       "    <tr>\n",
       "      <th>3</th>\n",
       "      <td>C-10657</td>\n",
       "      <td>JkLnJ4unvX</td>\n",
       "      <td>2437</td>\n",
       "      <td>74</td>\n",
       "      <td>1</td>\n",
       "      <td>Yes</td>\n",
       "      <td>Male</td>\n",
       "      <td>77</td>\n",
       "      <td>70대</td>\n",
       "      <td>No</td>\n",
       "      <td>...</td>\n",
       "      <td>0</td>\n",
       "      <td>0.0</td>\n",
       "      <td>0.0</td>\n",
       "      <td>02-01-2019</td>\n",
       "      <td>02-01-2020</td>\n",
       "      <td>Competitor</td>\n",
       "      <td>Competitor had better devices</td>\n",
       "      <td>45.577273</td>\n",
       "      <td>501.35</td>\n",
       "      <td>501.35</td>\n",
       "    </tr>\n",
       "    <tr>\n",
       "      <th>4</th>\n",
       "      <td>C-10934</td>\n",
       "      <td>K8yDzLiZq3</td>\n",
       "      <td>4306</td>\n",
       "      <td>87</td>\n",
       "      <td>1</td>\n",
       "      <td>Yes</td>\n",
       "      <td>Male</td>\n",
       "      <td>57</td>\n",
       "      <td>50대</td>\n",
       "      <td>Yes</td>\n",
       "      <td>...</td>\n",
       "      <td>0</td>\n",
       "      <td>18.3</td>\n",
       "      <td>219.1</td>\n",
       "      <td>02-01-2019</td>\n",
       "      <td>02-01-2020</td>\n",
       "      <td>Competitor</td>\n",
       "      <td>Competitor offered more data</td>\n",
       "      <td>84.522727</td>\n",
       "      <td>929.75</td>\n",
       "      <td>1125.15</td>\n",
       "    </tr>\n",
       "    <tr>\n",
       "      <th>...</th>\n",
       "      <td>...</td>\n",
       "      <td>...</td>\n",
       "      <td>...</td>\n",
       "      <td>...</td>\n",
       "      <td>...</td>\n",
       "      <td>...</td>\n",
       "      <td>...</td>\n",
       "      <td>...</td>\n",
       "      <td>...</td>\n",
       "      <td>...</td>\n",
       "      <td>...</td>\n",
       "      <td>...</td>\n",
       "      <td>...</td>\n",
       "      <td>...</td>\n",
       "      <td>...</td>\n",
       "      <td>...</td>\n",
       "      <td>...</td>\n",
       "      <td>...</td>\n",
       "      <td>...</td>\n",
       "      <td>...</td>\n",
       "      <td>...</td>\n",
       "    </tr>\n",
       "    <tr>\n",
       "      <th>5018</th>\n",
       "      <td>C-14491</td>\n",
       "      <td>qFB3Ceg7eH</td>\n",
       "      <td>6011</td>\n",
       "      <td>46</td>\n",
       "      <td>5</td>\n",
       "      <td>No</td>\n",
       "      <td>Male</td>\n",
       "      <td>40</td>\n",
       "      <td>40대</td>\n",
       "      <td>Yes</td>\n",
       "      <td>...</td>\n",
       "      <td>0</td>\n",
       "      <td>4.2</td>\n",
       "      <td>298.8</td>\n",
       "      <td>01-01-2014</td>\n",
       "      <td>NaN</td>\n",
       "      <td>NaN</td>\n",
       "      <td>NaN</td>\n",
       "      <td>26.074648</td>\n",
       "      <td>1851.30</td>\n",
       "      <td>2150.10</td>\n",
       "    </tr>\n",
       "    <tr>\n",
       "      <th>5019</th>\n",
       "      <td>C-14512</td>\n",
       "      <td>JuUWYz23oJ</td>\n",
       "      <td>6082</td>\n",
       "      <td>54</td>\n",
       "      <td>5</td>\n",
       "      <td>No</td>\n",
       "      <td>Male</td>\n",
       "      <td>62</td>\n",
       "      <td>60대</td>\n",
       "      <td>Yes</td>\n",
       "      <td>...</td>\n",
       "      <td>0</td>\n",
       "      <td>43.8</td>\n",
       "      <td>3156.5</td>\n",
       "      <td>01-01-2014</td>\n",
       "      <td>NaN</td>\n",
       "      <td>NaN</td>\n",
       "      <td>NaN</td>\n",
       "      <td>103.786620</td>\n",
       "      <td>7368.85</td>\n",
       "      <td>10525.35</td>\n",
       "    </tr>\n",
       "    <tr>\n",
       "      <th>5020</th>\n",
       "      <td>C-14532</td>\n",
       "      <td>5QTAS8rbQQ</td>\n",
       "      <td>5425</td>\n",
       "      <td>59</td>\n",
       "      <td>5</td>\n",
       "      <td>No</td>\n",
       "      <td>Female</td>\n",
       "      <td>42</td>\n",
       "      <td>40대</td>\n",
       "      <td>No</td>\n",
       "      <td>...</td>\n",
       "      <td>0</td>\n",
       "      <td>24.2</td>\n",
       "      <td>1741.7</td>\n",
       "      <td>01-01-2014</td>\n",
       "      <td>NaN</td>\n",
       "      <td>NaN</td>\n",
       "      <td>NaN</td>\n",
       "      <td>115.538028</td>\n",
       "      <td>8203.20</td>\n",
       "      <td>9944.90</td>\n",
       "    </tr>\n",
       "    <tr>\n",
       "      <th>5021</th>\n",
       "      <td>C-14611</td>\n",
       "      <td>ERiWyytih2</td>\n",
       "      <td>5832</td>\n",
       "      <td>53</td>\n",
       "      <td>5</td>\n",
       "      <td>No</td>\n",
       "      <td>Female</td>\n",
       "      <td>70</td>\n",
       "      <td>70대</td>\n",
       "      <td>Yes</td>\n",
       "      <td>...</td>\n",
       "      <td>80</td>\n",
       "      <td>18.2</td>\n",
       "      <td>1306.8</td>\n",
       "      <td>01-01-2014</td>\n",
       "      <td>NaN</td>\n",
       "      <td>NaN</td>\n",
       "      <td>NaN</td>\n",
       "      <td>109.719014</td>\n",
       "      <td>7790.05</td>\n",
       "      <td>9176.85</td>\n",
       "    </tr>\n",
       "    <tr>\n",
       "      <th>5022</th>\n",
       "      <td>C-14956</td>\n",
       "      <td>W8mica2L4w</td>\n",
       "      <td>4689</td>\n",
       "      <td>75</td>\n",
       "      <td>5</td>\n",
       "      <td>No</td>\n",
       "      <td>Male</td>\n",
       "      <td>23</td>\n",
       "      <td>20대</td>\n",
       "      <td>Yes</td>\n",
       "      <td>...</td>\n",
       "      <td>0</td>\n",
       "      <td>35.1</td>\n",
       "      <td>2525.0</td>\n",
       "      <td>01-01-2014</td>\n",
       "      <td>NaN</td>\n",
       "      <td>NaN</td>\n",
       "      <td>NaN</td>\n",
       "      <td>84.390141</td>\n",
       "      <td>5991.70</td>\n",
       "      <td>8516.70</td>\n",
       "    </tr>\n",
       "  </tbody>\n",
       "</table>\n",
       "<p>5023 rows × 34 columns</p>\n",
       "</div>"
      ],
      "text/plain": [
       "     CustomerId  ContractID  CustomerLTV  ChurnScore  SatisScore ChurnLabel  \\\n",
       "0       C-10710  G2QEWraUUx         2860          91           1        Yes   \n",
       "1       C-10042  34kMTWHw29         5980          85           1        Yes   \n",
       "2       C-10513  3eSje7ubR4         2044          70           1        Yes   \n",
       "3       C-10657  JkLnJ4unvX         2437          74           1        Yes   \n",
       "4       C-10934  K8yDzLiZq3         4306          87           1        Yes   \n",
       "...         ...         ...          ...         ...         ...        ...   \n",
       "5018    C-14491  qFB3Ceg7eH         6011          46           5         No   \n",
       "5019    C-14512  JuUWYz23oJ         6082          54           5         No   \n",
       "5020    C-14532  5QTAS8rbQQ         5425          59           5         No   \n",
       "5021    C-14611  ERiWyytih2         5832          53           5         No   \n",
       "5022    C-14956  W8mica2L4w         4689          75           5         No   \n",
       "\n",
       "      Gender  Age AgeGroup Married  ... TotalExtraDataCharge  \\\n",
       "0     Female   62      60대     Yes  ...                    0   \n",
       "1     Female   78      70대      No  ...                  120   \n",
       "2       Male   39      30대     Yes  ...                    0   \n",
       "3       Male   77      70대      No  ...                    0   \n",
       "4       Male   57      50대     Yes  ...                    0   \n",
       "...      ...  ...      ...     ...  ...                  ...   \n",
       "5018    Male   40      40대     Yes  ...                    0   \n",
       "5019    Male   62      60대     Yes  ...                    0   \n",
       "5020  Female   42      40대      No  ...                    0   \n",
       "5021  Female   70      70대     Yes  ...                   80   \n",
       "5022    Male   23      20대     Yes  ...                    0   \n",
       "\n",
       "      AvgLongDistanceCharge TotalLongDistanceCharge   StartDate     EndDate  \\\n",
       "0                      15.7                   172.6  02-01-2019  01-01-2020   \n",
       "1                      11.6                   127.5  05-01-2019  04-01-2020   \n",
       "2                      21.6                   237.4  07-01-2019  06-01-2020   \n",
       "3                       0.0                     0.0  02-01-2019  02-01-2020   \n",
       "4                      18.3                   219.1  02-01-2019  02-01-2020   \n",
       "...                     ...                     ...         ...         ...   \n",
       "5018                    4.2                   298.8  01-01-2014         NaN   \n",
       "5019                   43.8                  3156.5  01-01-2014         NaN   \n",
       "5020                   24.2                  1741.7  01-01-2014         NaN   \n",
       "5021                   18.2                  1306.8  01-01-2014         NaN   \n",
       "5022                   35.1                  2525.0  01-01-2014         NaN   \n",
       "\n",
       "        ChurnCategory                                ChurnReason   AvgCharge  \\\n",
       "0          Competitor  Competitor offered higher download speeds   68.860000   \n",
       "1     Dissatisfaction                    Product dissatisfaction  102.063636   \n",
       "2          Competitor                 Attitude of support person   78.159091   \n",
       "3          Competitor              Competitor had better devices   45.577273   \n",
       "4          Competitor               Competitor offered more data   84.522727   \n",
       "...               ...                                        ...         ...   \n",
       "5018              NaN                                        NaN   26.074648   \n",
       "5019              NaN                                        NaN  103.786620   \n",
       "5020              NaN                                        NaN  115.538028   \n",
       "5021              NaN                                        NaN  109.719014   \n",
       "5022              NaN                                        NaN   84.390141   \n",
       "\n",
       "     TotalCharge TotalRevenue  \n",
       "0         688.60       861.20  \n",
       "1        1122.70      1370.20  \n",
       "2         859.75      1097.15  \n",
       "3         501.35       501.35  \n",
       "4         929.75      1125.15  \n",
       "...          ...          ...  \n",
       "5018     1851.30      2150.10  \n",
       "5019     7368.85     10525.35  \n",
       "5020     8203.20      9944.90  \n",
       "5021     7790.05      9176.85  \n",
       "5022     5991.70      8516.70  \n",
       "\n",
       "[5023 rows x 34 columns]"
      ]
     },
     "execution_count": 17,
     "metadata": {},
     "output_type": "execute_result"
    }
   ],
   "source": [
    "customer_df['TotalRevenue'] = customer_df[\"TotalCharge\"] + customer_df[\"TotalExtraDataCharge\"] + customer_df[\"TotalLongDistanceCharge\"] - customer_df[\"TotalRefund\"] # 과금액들의 합 - 총 환불액\n",
    "customer_df"
   ]
  },
  {
   "cell_type": "markdown",
   "id": "7891550c",
   "metadata": {},
   "source": [
    "### 4) TenureMonths"
   ]
  },
  {
   "cell_type": "code",
   "execution_count": 18,
   "id": "e8c651fe",
   "metadata": {},
   "outputs": [
    {
     "data": {
      "text/html": [
       "<div>\n",
       "<style scoped>\n",
       "    .dataframe tbody tr th:only-of-type {\n",
       "        vertical-align: middle;\n",
       "    }\n",
       "\n",
       "    .dataframe tbody tr th {\n",
       "        vertical-align: top;\n",
       "    }\n",
       "\n",
       "    .dataframe thead th {\n",
       "        text-align: right;\n",
       "    }\n",
       "</style>\n",
       "<table border=\"1\" class=\"dataframe\">\n",
       "  <thead>\n",
       "    <tr style=\"text-align: right;\">\n",
       "      <th></th>\n",
       "      <th>CustomerId</th>\n",
       "      <th>ContractID</th>\n",
       "      <th>CustomerLTV</th>\n",
       "      <th>ChurnScore</th>\n",
       "      <th>SatisScore</th>\n",
       "      <th>ChurnLabel</th>\n",
       "      <th>Gender</th>\n",
       "      <th>Age</th>\n",
       "      <th>AgeGroup</th>\n",
       "      <th>Married</th>\n",
       "      <th>...</th>\n",
       "      <th>AvgLongDistanceCharge</th>\n",
       "      <th>TotalLongDistanceCharge</th>\n",
       "      <th>StartDate</th>\n",
       "      <th>EndDate</th>\n",
       "      <th>ChurnCategory</th>\n",
       "      <th>ChurnReason</th>\n",
       "      <th>AvgCharge</th>\n",
       "      <th>TotalCharge</th>\n",
       "      <th>TotalRevenue</th>\n",
       "      <th>TenureMonths</th>\n",
       "    </tr>\n",
       "  </thead>\n",
       "  <tbody>\n",
       "    <tr>\n",
       "      <th>0</th>\n",
       "      <td>C-10710</td>\n",
       "      <td>G2QEWraUUx</td>\n",
       "      <td>2860</td>\n",
       "      <td>91</td>\n",
       "      <td>1</td>\n",
       "      <td>Yes</td>\n",
       "      <td>Female</td>\n",
       "      <td>62</td>\n",
       "      <td>60대</td>\n",
       "      <td>Yes</td>\n",
       "      <td>...</td>\n",
       "      <td>15.7</td>\n",
       "      <td>172.6</td>\n",
       "      <td>02-01-2019</td>\n",
       "      <td>01-01-2020</td>\n",
       "      <td>Competitor</td>\n",
       "      <td>Competitor offered higher download speeds</td>\n",
       "      <td>68.860000</td>\n",
       "      <td>688.60</td>\n",
       "      <td>861.20</td>\n",
       "      <td>10</td>\n",
       "    </tr>\n",
       "    <tr>\n",
       "      <th>1</th>\n",
       "      <td>C-10042</td>\n",
       "      <td>34kMTWHw29</td>\n",
       "      <td>5980</td>\n",
       "      <td>85</td>\n",
       "      <td>1</td>\n",
       "      <td>Yes</td>\n",
       "      <td>Female</td>\n",
       "      <td>78</td>\n",
       "      <td>70대</td>\n",
       "      <td>No</td>\n",
       "      <td>...</td>\n",
       "      <td>11.6</td>\n",
       "      <td>127.5</td>\n",
       "      <td>05-01-2019</td>\n",
       "      <td>04-01-2020</td>\n",
       "      <td>Dissatisfaction</td>\n",
       "      <td>Product dissatisfaction</td>\n",
       "      <td>102.063636</td>\n",
       "      <td>1122.70</td>\n",
       "      <td>1370.20</td>\n",
       "      <td>11</td>\n",
       "    </tr>\n",
       "    <tr>\n",
       "      <th>2</th>\n",
       "      <td>C-10513</td>\n",
       "      <td>3eSje7ubR4</td>\n",
       "      <td>2044</td>\n",
       "      <td>70</td>\n",
       "      <td>1</td>\n",
       "      <td>Yes</td>\n",
       "      <td>Male</td>\n",
       "      <td>39</td>\n",
       "      <td>30대</td>\n",
       "      <td>Yes</td>\n",
       "      <td>...</td>\n",
       "      <td>21.6</td>\n",
       "      <td>237.4</td>\n",
       "      <td>07-01-2019</td>\n",
       "      <td>06-01-2020</td>\n",
       "      <td>Competitor</td>\n",
       "      <td>Attitude of support person</td>\n",
       "      <td>78.159091</td>\n",
       "      <td>859.75</td>\n",
       "      <td>1097.15</td>\n",
       "      <td>11</td>\n",
       "    </tr>\n",
       "    <tr>\n",
       "      <th>3</th>\n",
       "      <td>C-10657</td>\n",
       "      <td>JkLnJ4unvX</td>\n",
       "      <td>2437</td>\n",
       "      <td>74</td>\n",
       "      <td>1</td>\n",
       "      <td>Yes</td>\n",
       "      <td>Male</td>\n",
       "      <td>77</td>\n",
       "      <td>70대</td>\n",
       "      <td>No</td>\n",
       "      <td>...</td>\n",
       "      <td>0.0</td>\n",
       "      <td>0.0</td>\n",
       "      <td>02-01-2019</td>\n",
       "      <td>02-01-2020</td>\n",
       "      <td>Competitor</td>\n",
       "      <td>Competitor had better devices</td>\n",
       "      <td>45.577273</td>\n",
       "      <td>501.35</td>\n",
       "      <td>501.35</td>\n",
       "      <td>11</td>\n",
       "    </tr>\n",
       "    <tr>\n",
       "      <th>4</th>\n",
       "      <td>C-10934</td>\n",
       "      <td>K8yDzLiZq3</td>\n",
       "      <td>4306</td>\n",
       "      <td>87</td>\n",
       "      <td>1</td>\n",
       "      <td>Yes</td>\n",
       "      <td>Male</td>\n",
       "      <td>57</td>\n",
       "      <td>50대</td>\n",
       "      <td>Yes</td>\n",
       "      <td>...</td>\n",
       "      <td>18.3</td>\n",
       "      <td>219.1</td>\n",
       "      <td>02-01-2019</td>\n",
       "      <td>02-01-2020</td>\n",
       "      <td>Competitor</td>\n",
       "      <td>Competitor offered more data</td>\n",
       "      <td>84.522727</td>\n",
       "      <td>929.75</td>\n",
       "      <td>1125.15</td>\n",
       "      <td>11</td>\n",
       "    </tr>\n",
       "    <tr>\n",
       "      <th>...</th>\n",
       "      <td>...</td>\n",
       "      <td>...</td>\n",
       "      <td>...</td>\n",
       "      <td>...</td>\n",
       "      <td>...</td>\n",
       "      <td>...</td>\n",
       "      <td>...</td>\n",
       "      <td>...</td>\n",
       "      <td>...</td>\n",
       "      <td>...</td>\n",
       "      <td>...</td>\n",
       "      <td>...</td>\n",
       "      <td>...</td>\n",
       "      <td>...</td>\n",
       "      <td>...</td>\n",
       "      <td>...</td>\n",
       "      <td>...</td>\n",
       "      <td>...</td>\n",
       "      <td>...</td>\n",
       "      <td>...</td>\n",
       "      <td>...</td>\n",
       "    </tr>\n",
       "    <tr>\n",
       "      <th>5018</th>\n",
       "      <td>C-14491</td>\n",
       "      <td>qFB3Ceg7eH</td>\n",
       "      <td>6011</td>\n",
       "      <td>46</td>\n",
       "      <td>5</td>\n",
       "      <td>No</td>\n",
       "      <td>Male</td>\n",
       "      <td>40</td>\n",
       "      <td>40대</td>\n",
       "      <td>Yes</td>\n",
       "      <td>...</td>\n",
       "      <td>4.2</td>\n",
       "      <td>298.8</td>\n",
       "      <td>01-01-2014</td>\n",
       "      <td>NaN</td>\n",
       "      <td>NaN</td>\n",
       "      <td>NaN</td>\n",
       "      <td>26.074648</td>\n",
       "      <td>1851.30</td>\n",
       "      <td>2150.10</td>\n",
       "      <td>71</td>\n",
       "    </tr>\n",
       "    <tr>\n",
       "      <th>5019</th>\n",
       "      <td>C-14512</td>\n",
       "      <td>JuUWYz23oJ</td>\n",
       "      <td>6082</td>\n",
       "      <td>54</td>\n",
       "      <td>5</td>\n",
       "      <td>No</td>\n",
       "      <td>Male</td>\n",
       "      <td>62</td>\n",
       "      <td>60대</td>\n",
       "      <td>Yes</td>\n",
       "      <td>...</td>\n",
       "      <td>43.8</td>\n",
       "      <td>3156.5</td>\n",
       "      <td>01-01-2014</td>\n",
       "      <td>NaN</td>\n",
       "      <td>NaN</td>\n",
       "      <td>NaN</td>\n",
       "      <td>103.786620</td>\n",
       "      <td>7368.85</td>\n",
       "      <td>10525.35</td>\n",
       "      <td>71</td>\n",
       "    </tr>\n",
       "    <tr>\n",
       "      <th>5020</th>\n",
       "      <td>C-14532</td>\n",
       "      <td>5QTAS8rbQQ</td>\n",
       "      <td>5425</td>\n",
       "      <td>59</td>\n",
       "      <td>5</td>\n",
       "      <td>No</td>\n",
       "      <td>Female</td>\n",
       "      <td>42</td>\n",
       "      <td>40대</td>\n",
       "      <td>No</td>\n",
       "      <td>...</td>\n",
       "      <td>24.2</td>\n",
       "      <td>1741.7</td>\n",
       "      <td>01-01-2014</td>\n",
       "      <td>NaN</td>\n",
       "      <td>NaN</td>\n",
       "      <td>NaN</td>\n",
       "      <td>115.538028</td>\n",
       "      <td>8203.20</td>\n",
       "      <td>9944.90</td>\n",
       "      <td>71</td>\n",
       "    </tr>\n",
       "    <tr>\n",
       "      <th>5021</th>\n",
       "      <td>C-14611</td>\n",
       "      <td>ERiWyytih2</td>\n",
       "      <td>5832</td>\n",
       "      <td>53</td>\n",
       "      <td>5</td>\n",
       "      <td>No</td>\n",
       "      <td>Female</td>\n",
       "      <td>70</td>\n",
       "      <td>70대</td>\n",
       "      <td>Yes</td>\n",
       "      <td>...</td>\n",
       "      <td>18.2</td>\n",
       "      <td>1306.8</td>\n",
       "      <td>01-01-2014</td>\n",
       "      <td>NaN</td>\n",
       "      <td>NaN</td>\n",
       "      <td>NaN</td>\n",
       "      <td>109.719014</td>\n",
       "      <td>7790.05</td>\n",
       "      <td>9176.85</td>\n",
       "      <td>71</td>\n",
       "    </tr>\n",
       "    <tr>\n",
       "      <th>5022</th>\n",
       "      <td>C-14956</td>\n",
       "      <td>W8mica2L4w</td>\n",
       "      <td>4689</td>\n",
       "      <td>75</td>\n",
       "      <td>5</td>\n",
       "      <td>No</td>\n",
       "      <td>Male</td>\n",
       "      <td>23</td>\n",
       "      <td>20대</td>\n",
       "      <td>Yes</td>\n",
       "      <td>...</td>\n",
       "      <td>35.1</td>\n",
       "      <td>2525.0</td>\n",
       "      <td>01-01-2014</td>\n",
       "      <td>NaN</td>\n",
       "      <td>NaN</td>\n",
       "      <td>NaN</td>\n",
       "      <td>84.390141</td>\n",
       "      <td>5991.70</td>\n",
       "      <td>8516.70</td>\n",
       "      <td>71</td>\n",
       "    </tr>\n",
       "  </tbody>\n",
       "</table>\n",
       "<p>5023 rows × 35 columns</p>\n",
       "</div>"
      ],
      "text/plain": [
       "     CustomerId  ContractID  CustomerLTV  ChurnScore  SatisScore ChurnLabel  \\\n",
       "0       C-10710  G2QEWraUUx         2860          91           1        Yes   \n",
       "1       C-10042  34kMTWHw29         5980          85           1        Yes   \n",
       "2       C-10513  3eSje7ubR4         2044          70           1        Yes   \n",
       "3       C-10657  JkLnJ4unvX         2437          74           1        Yes   \n",
       "4       C-10934  K8yDzLiZq3         4306          87           1        Yes   \n",
       "...         ...         ...          ...         ...         ...        ...   \n",
       "5018    C-14491  qFB3Ceg7eH         6011          46           5         No   \n",
       "5019    C-14512  JuUWYz23oJ         6082          54           5         No   \n",
       "5020    C-14532  5QTAS8rbQQ         5425          59           5         No   \n",
       "5021    C-14611  ERiWyytih2         5832          53           5         No   \n",
       "5022    C-14956  W8mica2L4w         4689          75           5         No   \n",
       "\n",
       "      Gender  Age AgeGroup Married  ... AvgLongDistanceCharge  \\\n",
       "0     Female   62      60대     Yes  ...                  15.7   \n",
       "1     Female   78      70대      No  ...                  11.6   \n",
       "2       Male   39      30대     Yes  ...                  21.6   \n",
       "3       Male   77      70대      No  ...                   0.0   \n",
       "4       Male   57      50대     Yes  ...                  18.3   \n",
       "...      ...  ...      ...     ...  ...                   ...   \n",
       "5018    Male   40      40대     Yes  ...                   4.2   \n",
       "5019    Male   62      60대     Yes  ...                  43.8   \n",
       "5020  Female   42      40대      No  ...                  24.2   \n",
       "5021  Female   70      70대     Yes  ...                  18.2   \n",
       "5022    Male   23      20대     Yes  ...                  35.1   \n",
       "\n",
       "      TotalLongDistanceCharge   StartDate     EndDate    ChurnCategory  \\\n",
       "0                       172.6  02-01-2019  01-01-2020       Competitor   \n",
       "1                       127.5  05-01-2019  04-01-2020  Dissatisfaction   \n",
       "2                       237.4  07-01-2019  06-01-2020       Competitor   \n",
       "3                         0.0  02-01-2019  02-01-2020       Competitor   \n",
       "4                       219.1  02-01-2019  02-01-2020       Competitor   \n",
       "...                       ...         ...         ...              ...   \n",
       "5018                    298.8  01-01-2014         NaN              NaN   \n",
       "5019                   3156.5  01-01-2014         NaN              NaN   \n",
       "5020                   1741.7  01-01-2014         NaN              NaN   \n",
       "5021                   1306.8  01-01-2014         NaN              NaN   \n",
       "5022                   2525.0  01-01-2014         NaN              NaN   \n",
       "\n",
       "                                    ChurnReason   AvgCharge TotalCharge  \\\n",
       "0     Competitor offered higher download speeds   68.860000      688.60   \n",
       "1                       Product dissatisfaction  102.063636     1122.70   \n",
       "2                    Attitude of support person   78.159091      859.75   \n",
       "3                 Competitor had better devices   45.577273      501.35   \n",
       "4                  Competitor offered more data   84.522727      929.75   \n",
       "...                                         ...         ...         ...   \n",
       "5018                                        NaN   26.074648     1851.30   \n",
       "5019                                        NaN  103.786620     7368.85   \n",
       "5020                                        NaN  115.538028     8203.20   \n",
       "5021                                        NaN  109.719014     7790.05   \n",
       "5022                                        NaN   84.390141     5991.70   \n",
       "\n",
       "     TotalRevenue TenureMonths  \n",
       "0          861.20           10  \n",
       "1         1370.20           11  \n",
       "2         1097.15           11  \n",
       "3          501.35           11  \n",
       "4         1125.15           11  \n",
       "...           ...          ...  \n",
       "5018      2150.10           71  \n",
       "5019     10525.35           71  \n",
       "5020      9944.90           71  \n",
       "5021      9176.85           71  \n",
       "5022      8516.70           71  \n",
       "\n",
       "[5023 rows x 35 columns]"
      ]
     },
     "execution_count": 18,
     "metadata": {},
     "output_type": "execute_result"
    }
   ],
   "source": [
    "month = pd.DataFrame(charge_df.groupby('CustomerId')['CustomerId'].count()) # 한 고객의 count 수\n",
    "month.rename(columns={'CustomerId':'count'},inplace=True)\n",
    "# month\n",
    "customer_df = pd.merge(customer_df,month,how='left', on='CustomerId')\n",
    "customer_df.rename(columns={'count':'TenureMonths'},inplace=True)\n",
    "customer_df"
   ]
  },
  {
   "cell_type": "code",
   "execution_count": 19,
   "id": "8e1af5e1",
   "metadata": {},
   "outputs": [
    {
     "data": {
      "text/plain": [
       "0"
      ]
     },
     "execution_count": 19,
     "metadata": {},
     "output_type": "execute_result"
    }
   ],
   "source": [
    "customer_df['TenureMonths'].isnull().sum() # 11개의 결측치\n",
    "# 결측치는 아직 한 달이 채 안되었을 때 나타나는 값임\n",
    "customer_df['TenureMonths'].fillna(0,inplace=True)\n",
    "customer_df['TenureMonths'].isnull().sum() # 0개로 수정됌"
   ]
  },
  {
   "cell_type": "markdown",
   "id": "9806af95",
   "metadata": {},
   "source": [
    "# 2. 탐색적 분석"
   ]
  },
  {
   "cell_type": "markdown",
   "id": "139d5577",
   "metadata": {},
   "source": [
    "# 2-1. 현황 분석"
   ]
  },
  {
   "cell_type": "code",
   "execution_count": 20,
   "id": "4a5a3b4a",
   "metadata": {},
   "outputs": [
    {
     "data": {
      "text/plain": [
       "<matplotlib.legend.Legend at 0x1ffef2bd970>"
      ]
     },
     "execution_count": 20,
     "metadata": {},
     "output_type": "execute_result"
    },
    {
     "data": {
      "image/png": "[encoded data removed]",
      "text/plain": [
       "<Figure size 432x288 with 1 Axes>"
      ]
     },
     "metadata": {
      "needs_background": "light"
     },
     "output_type": "display_data"
    }
   ],
   "source": [
    "# 기존의 LTV 모델 점수 분포\n",
    "# LTV(Life Time Value) : 고객 생애 가치로 사용자 1명당 서비스에서 이탈하기 전까지 지불하는 금액을 의미함\n",
    "def fun_plot_hist(data, var):\n",
    "    plt.hist(data[data[\"ChurnLabel\"] == \"No\"][var], label = \"유지\", alpha = 0.5)  # 이탈 하지 않은 사람의 분포\n",
    "    plt.hist(data[data[\"ChurnLabel\"] == \"Yes\"][var], label = \"이탈\", alpha = 0.5) # 이탈 한 사람의 분포\n",
    "    \n",
    "fun_plot_hist(customer_df,'CustomerLTV')\n",
    "plt.title(\"기존 LTV 점수 분포\", fontsize=14)\n",
    "plt.xlabel(\"LTV 점수\", labelpad=5)\n",
    "plt.ylabel(\"고객 수\", rotation=0, labelpad=25)\n",
    "plt.legend(shadow=True)"
   ]
  },
  {
   "cell_type": "markdown",
   "id": "f587d46a",
   "metadata": {},
   "source": [
    "- LTV 점수에 상관없이 이탈률이 일정함\n",
    "- 현재 모델은 핵심 고객을 분류하지 못하고 있음\n",
    "- 고객의 특성에 맞춘 LTV 모델 개선으로 핵심고객 분류가 필요함"
   ]
  },
  {
   "cell_type": "code",
   "execution_count": 21,
   "id": "76751a0b",
   "metadata": {},
   "outputs": [
    {
     "data": {
      "text/plain": [
       "Text(0.5, 0, '년도')"
      ]
     },
     "execution_count": 21,
     "metadata": {},
     "output_type": "execute_result"
    },
    {
     "data": {
      "image/png": "[encoded data removed]",
      "text/plain": [
       "<Figure size 432x288 with 1 Axes>"
      ]
     },
     "metadata": {
      "needs_background": "light"
     },
     "output_type": "display_data"
    }
   ],
   "source": [
    "# 총 매출 매트릭스\n",
    "charge_df['ChargeDate'] = pd.to_datetime(charge_df['ChargeDate']) # 과금일에서 년도만 뽑아내기 위해선 object가 아닌 datetime 형태여야함\n",
    "charge_df['year'] = charge_df['ChargeDate'].dt.year # year 형태만 추출\n",
    "annual_sales = charge_df.groupby('year').sum()\n",
    "annual_sales.plot.bar(y='ChargeAmt')\n",
    "plt.ticklabel_format(axis=\"y\", style=\"sci\", scilimits= (1,1)) # 10^m에서 10^n 범위밖으로 나갈 경우 과학적 표기법을 사용하기 때문에 변환\n",
    "plt.xticks(rotation=0)\n",
    "plt.title(\"연간 총 매출액\", fontsize=14)\n",
    "plt.ylabel(\"매출액\", rotation=0, labelpad=20)\n",
    "plt.xlabel(\"년도\",labelpad=5)"
   ]
  },
  {
   "cell_type": "markdown",
   "id": "1e997729",
   "metadata": {},
   "source": [
    "- 총매출액이 증가하다가 2020년에 급격하게 하락하고 있음\n",
    "- 핵심 고객 유지 및 신규 고객 유치를 통한 매출 증대 필요"
   ]
  },
  {
   "cell_type": "code",
   "execution_count": 22,
   "id": "22a50426",
   "metadata": {
    "scrolled": true
   },
   "outputs": [
    {
     "name": "stdout",
     "output_type": "stream",
     "text": [
      "                 ChurnCategory\n",
      "Competitor                 394\n",
      "Dissatisfaction            151\n",
      "Attitude                   144\n",
      "Price                      108\n",
      "Other                      101\n",
      "                                           ChurnReason\n",
      "Competitor offered higher download speeds           97\n",
      "Attitude of support person                          95\n",
      "Competitor offered more data                        80\n",
      "Don't know                                          74\n",
      "Competitor made better offer                        61\n",
      "Attitude of service provider                        60\n",
      "Competitor had better devices                       56\n",
      "Product dissatisfaction                             55\n",
      "Service dissatisfaction                             46\n",
      "Price too high                                      46\n",
      "Lack of self-service on Website                     43\n",
      "Network reliability                                 41\n",
      "Extra data charges                                  35\n",
      "Moved                                               28\n",
      "Lack of affordable download/upload speed            23\n",
      "Long distance charges                               22\n",
      "Limited range of services                           16\n",
      "Poor expertise of phone support                     11\n",
      "Poor expertise of online support                     7\n",
      "Deceased                                             2\n"
     ]
    }
   ],
   "source": [
    "# 이탈 이유\n",
    "print(pd.DataFrame(customer_df['ChurnCategory'].value_counts()))\n",
    "print(pd.DataFrame(customer_df['ChurnReason'].value_counts()))"
   ]
  },
  {
   "attachments": {
    "image.png": {
     "image/png": "[encoded data removed]"
    }
   },
   "cell_type": "markdown",
   "id": "2244f707",
   "metadata": {},
   "source": [
    "![image.png](attachment:image.png)"
   ]
  },
  {
   "cell_type": "markdown",
   "id": "726e1a7c",
   "metadata": {},
   "source": [
    "# 2-2. 이탈률 개선을 위한 분석\n",
    "#### 고객 특성 : 결혼 여부, 부양자 수, 추천 횟수, 만족도 인사이트 도출"
   ]
  },
  {
   "cell_type": "code",
   "execution_count": 23,
   "id": "33c7d617",
   "metadata": {},
   "outputs": [
    {
     "data": {
      "image/png": "[encoded data removed]",
      "text/plain": [
       "<Figure size 1152x1440 with 12 Axes>"
      ]
     },
     "metadata": {
      "needs_background": "light"
     },
     "output_type": "display_data"
    }
   ],
   "source": [
    "# 영향을 미치는 인자\n",
    "\n",
    "influence_val = customer_df[['CustomerLTV','ChurnScore','SatisScore','AgeGroup',\n",
    "                           'Married','Dependents','noDependents','Referrals','noReferrals',\n",
    "                           'Contract','AvgCharge','TenureMonths']]\n",
    "\n",
    "a = list(range(1,13))\n",
    "fig, axes = plt.subplots(4,3,figsize=(16,20))\n",
    "\n",
    "for var, i in zip(influence_val.columns,a):\n",
    "    plt.subplot(5,3,i)\n",
    "    plt.hist(customer_df[customer_df[\"ChurnLabel\"] == \"No\"][var], label = \"유지\", alpha = 0.5) \n",
    "    plt.hist(customer_df[customer_df[\"ChurnLabel\"] == \"Yes\"][var], label = \"이탈\", alpha = 0.5)\n",
    "    plt.title(var)\n",
    "    plt.legend()\n",
    "plt.show()"
   ]
  },
  {
   "cell_type": "markdown",
   "id": "fc95f646",
   "metadata": {},
   "source": [
    "- 만족도 점수 : 3점 미만 이탈, 3점 초과는 유지\n",
    "- 결혼 여부 : 결혼한 고객일 수록 유지 확률이 높음\n",
    "- 부양자 여부 : 부양자가 없을 때 이탈하고 있음\n",
    "- 연령대 : 70~80대 많이 이탈 하고 있음. 적은 고객의 수이므로 해석에 유의해야함.\n",
    "- 추천 여부 : 추천 수가 낮을 수록 이탈 확률이 높음\n",
    "- 평균 다운로드 양 : 적을수록 이탈 확률이 높음\n",
    "- 평균 요금 : 평균 요금이 높아질 수록 이탈 확률이 높음"
   ]
  },
  {
   "cell_type": "code",
   "execution_count": 24,
   "id": "9a5a72e6",
   "metadata": {},
   "outputs": [
    {
     "data": {
      "image/png": "[encoded data removed]",
      "text/plain": [
       "<Figure size 1152x1440 with 15 Axes>"
      ]
     },
     "metadata": {
      "needs_background": "light"
     },
     "output_type": "display_data"
    }
   ],
   "source": [
    "# 영향을 주지 못하는 인자\n",
    "\n",
    "uninfluence_val = customer_df[['Gender', 'PaperlessBilling','PaymentMethod','OnlineSecurity',\n",
    "                              'OnlineBackup','DeviceProtection','TechSupport','UnlimitedData',\n",
    "                              'TotalRefund','TotalExtraDataCharge','AvgLongDistanceCharge',\n",
    "                              'TotalLongDistanceCharge','TotalCharge','TotalRevenue']]\n",
    "\n",
    "a = list(range(1,16))\n",
    "fig, axes = plt.subplots(5,3,figsize=(16,20))\n",
    "\n",
    "for var, i in zip(uninfluence_val.columns,a):\n",
    "    plt.subplot(5,3,i)\n",
    "    plt.hist(customer_df[customer_df[\"ChurnLabel\"] == \"No\"][var], label = \"유지\", alpha = 0.5) \n",
    "    plt.hist(customer_df[customer_df[\"ChurnLabel\"] == \"Yes\"][var], label = \"이탈\", alpha = 0.5)\n",
    "    plt.title(var)\n",
    "    plt.legend()\n",
    "plt.show()"
   ]
  },
  {
   "cell_type": "markdown",
   "id": "8e2abefa",
   "metadata": {},
   "source": [
    "- 이탈한 고객과 이탈하지 않은 고객에 대한 비율의 차이가 거의 없음\n",
    "- 즉, 이탈에 영향을 주지 않았다고 생각할 수 있음"
   ]
  },
  {
   "cell_type": "markdown",
   "id": "b1ef8e5b",
   "metadata": {},
   "source": [
    "# 2-3. 이탈 여부 변수에 대한 추가분석\n",
    "#### Churnlabel 변수에 영향을 주는 중요 변수는 무엇일까?"
   ]
  },
  {
   "cell_type": "code",
   "execution_count": 25,
   "id": "c0c20845",
   "metadata": {},
   "outputs": [
    {
     "data": {
      "text/html": [
       "<div>\n",
       "<style scoped>\n",
       "    .dataframe tbody tr th:only-of-type {\n",
       "        vertical-align: middle;\n",
       "    }\n",
       "\n",
       "    .dataframe tbody tr th {\n",
       "        vertical-align: top;\n",
       "    }\n",
       "\n",
       "    .dataframe thead th {\n",
       "        text-align: right;\n",
       "    }\n",
       "</style>\n",
       "<table border=\"1\" class=\"dataframe\">\n",
       "  <thead>\n",
       "    <tr style=\"text-align: right;\">\n",
       "      <th></th>\n",
       "      <th>ChurnScore</th>\n",
       "      <th>SatisScore</th>\n",
       "      <th>ChurnLabel</th>\n",
       "      <th>AgeGroup</th>\n",
       "      <th>Married</th>\n",
       "      <th>Dependents</th>\n",
       "      <th>noDependents</th>\n",
       "      <th>Referrals</th>\n",
       "      <th>noReferrals</th>\n",
       "      <th>Contract</th>\n",
       "      <th>AvgCharge</th>\n",
       "      <th>TenureMonths</th>\n",
       "    </tr>\n",
       "  </thead>\n",
       "  <tbody>\n",
       "    <tr>\n",
       "      <th>0</th>\n",
       "      <td>91</td>\n",
       "      <td>1</td>\n",
       "      <td>Yes</td>\n",
       "      <td>60대</td>\n",
       "      <td>Yes</td>\n",
       "      <td>No</td>\n",
       "      <td>0</td>\n",
       "      <td>Yes</td>\n",
       "      <td>1</td>\n",
       "      <td>1Year</td>\n",
       "      <td>68.860000</td>\n",
       "      <td>10</td>\n",
       "    </tr>\n",
       "    <tr>\n",
       "      <th>1</th>\n",
       "      <td>85</td>\n",
       "      <td>1</td>\n",
       "      <td>Yes</td>\n",
       "      <td>70대</td>\n",
       "      <td>No</td>\n",
       "      <td>Yes</td>\n",
       "      <td>1</td>\n",
       "      <td>No</td>\n",
       "      <td>0</td>\n",
       "      <td>1Year</td>\n",
       "      <td>102.063636</td>\n",
       "      <td>11</td>\n",
       "    </tr>\n",
       "    <tr>\n",
       "      <th>2</th>\n",
       "      <td>70</td>\n",
       "      <td>1</td>\n",
       "      <td>Yes</td>\n",
       "      <td>30대</td>\n",
       "      <td>Yes</td>\n",
       "      <td>No</td>\n",
       "      <td>0</td>\n",
       "      <td>Yes</td>\n",
       "      <td>1</td>\n",
       "      <td>1Year</td>\n",
       "      <td>78.159091</td>\n",
       "      <td>11</td>\n",
       "    </tr>\n",
       "    <tr>\n",
       "      <th>3</th>\n",
       "      <td>74</td>\n",
       "      <td>1</td>\n",
       "      <td>Yes</td>\n",
       "      <td>70대</td>\n",
       "      <td>No</td>\n",
       "      <td>No</td>\n",
       "      <td>0</td>\n",
       "      <td>No</td>\n",
       "      <td>0</td>\n",
       "      <td>1Year</td>\n",
       "      <td>45.577273</td>\n",
       "      <td>11</td>\n",
       "    </tr>\n",
       "    <tr>\n",
       "      <th>4</th>\n",
       "      <td>87</td>\n",
       "      <td>1</td>\n",
       "      <td>Yes</td>\n",
       "      <td>50대</td>\n",
       "      <td>Yes</td>\n",
       "      <td>No</td>\n",
       "      <td>0</td>\n",
       "      <td>Yes</td>\n",
       "      <td>3</td>\n",
       "      <td>1Year</td>\n",
       "      <td>84.522727</td>\n",
       "      <td>11</td>\n",
       "    </tr>\n",
       "  </tbody>\n",
       "</table>\n",
       "</div>"
      ],
      "text/plain": [
       "   ChurnScore  SatisScore ChurnLabel AgeGroup Married Dependents  \\\n",
       "0          91           1        Yes      60대     Yes         No   \n",
       "1          85           1        Yes      70대      No        Yes   \n",
       "2          70           1        Yes      30대     Yes         No   \n",
       "3          74           1        Yes      70대      No         No   \n",
       "4          87           1        Yes      50대     Yes         No   \n",
       "\n",
       "   noDependents Referrals  noReferrals Contract   AvgCharge  TenureMonths  \n",
       "0             0       Yes            1    1Year   68.860000            10  \n",
       "1             1        No            0    1Year  102.063636            11  \n",
       "2             0       Yes            1    1Year   78.159091            11  \n",
       "3             0        No            0    1Year   45.577273            11  \n",
       "4             0       Yes            3    1Year   84.522727            11  "
      ]
     },
     "execution_count": 25,
     "metadata": {},
     "output_type": "execute_result"
    }
   ],
   "source": [
    "churn_df = customer_df.drop(['CustomerId','ContractID','CustomerLTV','Gender','Age',\n",
    "                            'PaperlessBilling','PaymentMethod','OnlineSecurity','OnlineBackup',\n",
    "                            'DeviceProtection','TechSupport','UnlimitedData','AvgDownloadGB',\n",
    "                            'TotalRefund','TotalExtraDataCharge','AvgLongDistanceCharge',\n",
    "                            'TotalLongDistanceCharge','StartDate','EndDate','ChurnCategory','ChurnReason',\n",
    "                            'TotalCharge','TotalRevenue'],axis=1) # 의미 없는 변수(명목변수, 서비스 여부) 제거 후 분석\n",
    "churn_df.head()"
   ]
  },
  {
   "cell_type": "code",
   "execution_count": 26,
   "id": "e1b3eff2",
   "metadata": {},
   "outputs": [],
   "source": [
    "# 더미화 : 이후 회귀분석에 사용하기 위해서 범주형 변수를 연속형 변수로 변환 \n",
    "churn_df.replace({'Yes':1, 'No':0},inplace=True)\n",
    "churn_df.replace({'Male':1, 'Female':0}, inplace=True)\n",
    "churn_df.replace({'2Year':1, '1Year':0}, inplace=True)\n",
    "\n",
    "churn_df['TenureMonths'].fillna(0,inplace=True) # 1개월 미만 사용자인 경우 0 입력"
   ]
  },
  {
   "cell_type": "code",
   "execution_count": 27,
   "id": "c174ca7a",
   "metadata": {},
   "outputs": [],
   "source": [
    "churn_y = churn_df[['ChurnLabel']] # y 지정\n",
    "churn_x = churn_df.drop('ChurnLabel', axis=1) # x 지정\n",
    "# churn_x.info()\n",
    "churn_dummies_x = pd.get_dummies(churn_x)\n",
    "# churn_dummies_x.info()"
   ]
  },
  {
   "cell_type": "code",
   "execution_count": 28,
   "id": "6c4c7925",
   "metadata": {},
   "outputs": [
    {
     "name": "stdout",
     "output_type": "stream",
     "text": [
      "train data X size : (3516, 17)\n",
      "train data Y size : (3516, 1)\n",
      "test data X size : (1507, 17)\n",
      "test data Y size : (1507, 1)\n"
     ]
    }
   ],
   "source": [
    "df_train_x,df_test_x,df_train_y,df_test_y = train_test_split(churn_dummies_x,churn_y,\n",
    "                                                            test_size = 0.3, random_state=1234)\n",
    "\n",
    "print('train data X size : {}'.format(df_train_x.shape))\n",
    "print('train data Y size : {}'.format(df_train_y.shape))\n",
    "print('test data X size : {}'.format(df_test_x.shape))\n",
    "print('test data Y size : {}'.format(df_test_y.shape))"
   ]
  },
  {
   "cell_type": "code",
   "execution_count": 29,
   "id": "b0d7cd29",
   "metadata": {},
   "outputs": [
    {
     "name": "stdout",
     "output_type": "stream",
     "text": [
      "Accuracy on training set : 1.000\n",
      "Accuracy on test set : 0.977\n"
     ]
    }
   ],
   "source": [
    "tree = DecisionTreeClassifier(random_state=1234)\n",
    "tree.fit(df_train_x,df_train_y)\n",
    "print('Accuracy on training set : {:.3f}'.format(tree.score(df_train_x,df_train_y)))\n",
    "print('Accuracy on test set : {:.3f}'.format(tree.score(df_test_x,df_test_y)))\n",
    "# train 100%로 과대적합"
   ]
  },
  {
   "cell_type": "code",
   "execution_count": 30,
   "id": "c52ed75b",
   "metadata": {},
   "outputs": [
    {
     "data": {
      "text/html": [
       "<div>\n",
       "<style scoped>\n",
       "    .dataframe tbody tr th:only-of-type {\n",
       "        vertical-align: middle;\n",
       "    }\n",
       "\n",
       "    .dataframe tbody tr th {\n",
       "        vertical-align: top;\n",
       "    }\n",
       "\n",
       "    .dataframe thead th {\n",
       "        text-align: right;\n",
       "    }\n",
       "</style>\n",
       "<table border=\"1\" class=\"dataframe\">\n",
       "  <thead>\n",
       "    <tr style=\"text-align: right;\">\n",
       "      <th></th>\n",
       "      <th>Depth</th>\n",
       "      <th>TrainScore</th>\n",
       "      <th>TestScore</th>\n",
       "    </tr>\n",
       "  </thead>\n",
       "  <tbody>\n",
       "    <tr>\n",
       "      <th>0</th>\n",
       "      <td>1</td>\n",
       "      <td>0.960</td>\n",
       "      <td>0.965</td>\n",
       "    </tr>\n",
       "    <tr>\n",
       "      <th>1</th>\n",
       "      <td>2</td>\n",
       "      <td>0.982</td>\n",
       "      <td>0.985</td>\n",
       "    </tr>\n",
       "    <tr>\n",
       "      <th>2</th>\n",
       "      <td>3</td>\n",
       "      <td>0.982</td>\n",
       "      <td>0.985</td>\n",
       "    </tr>\n",
       "    <tr>\n",
       "      <th>3</th>\n",
       "      <td>4</td>\n",
       "      <td>0.982</td>\n",
       "      <td>0.985</td>\n",
       "    </tr>\n",
       "    <tr>\n",
       "      <th>4</th>\n",
       "      <td>5</td>\n",
       "      <td>0.982</td>\n",
       "      <td>0.985</td>\n",
       "    </tr>\n",
       "    <tr>\n",
       "      <th>5</th>\n",
       "      <td>6</td>\n",
       "      <td>0.982</td>\n",
       "      <td>0.985</td>\n",
       "    </tr>\n",
       "    <tr>\n",
       "      <th>6</th>\n",
       "      <td>7</td>\n",
       "      <td>0.982</td>\n",
       "      <td>0.985</td>\n",
       "    </tr>\n",
       "    <tr>\n",
       "      <th>7</th>\n",
       "      <td>8</td>\n",
       "      <td>0.984</td>\n",
       "      <td>0.985</td>\n",
       "    </tr>\n",
       "    <tr>\n",
       "      <th>8</th>\n",
       "      <td>9</td>\n",
       "      <td>0.985</td>\n",
       "      <td>0.977</td>\n",
       "    </tr>\n",
       "    <tr>\n",
       "      <th>9</th>\n",
       "      <td>10</td>\n",
       "      <td>0.989</td>\n",
       "      <td>0.981</td>\n",
       "    </tr>\n",
       "  </tbody>\n",
       "</table>\n",
       "</div>"
      ],
      "text/plain": [
       "   Depth  TrainScore  TestScore\n",
       "0      1       0.960      0.965\n",
       "1      2       0.982      0.985\n",
       "2      3       0.982      0.985\n",
       "3      4       0.982      0.985\n",
       "4      5       0.982      0.985\n",
       "5      6       0.982      0.985\n",
       "6      7       0.982      0.985\n",
       "7      8       0.984      0.985\n",
       "8      9       0.985      0.977\n",
       "9     10       0.989      0.981"
      ]
     },
     "execution_count": 30,
     "metadata": {},
     "output_type": "execute_result"
    }
   ],
   "source": [
    "# 하이퍼 파라미터 조정 : 트리의 최대 깊이\n",
    "# 갚이 클수록 모델의 복잡도가 올라감\n",
    "\n",
    "train_score = []; test_score = []\n",
    "\n",
    "para_depth = [depth for depth in range(1,11)]\n",
    "\n",
    "for v_max_depth in para_depth:\n",
    "    tree = DecisionTreeClassifier(random_state=1234\n",
    "                                , max_depth=v_max_depth)\n",
    "    tree.fit(df_train_x,df_train_y)\n",
    "    train_score.append(tree.score(df_train_x,df_train_y))\n",
    "    \n",
    "    test_score.append(tree.score(df_test_x,df_test_y))\n",
    "    \n",
    "df_score_depth = pd.DataFrame()\n",
    "df_score_depth['Depth'] = para_depth\n",
    "df_score_depth[\"TrainScore\"]= train_score\n",
    "df_score_depth[\"TestScore\"]= test_score\n",
    "df_score_depth.round(3)"
   ]
  },
  {
   "cell_type": "code",
   "execution_count": 31,
   "id": "45b289a4",
   "metadata": {},
   "outputs": [
    {
     "data": {
      "text/plain": [
       "<matplotlib.legend.Legend at 0x1fff2a7a100>"
      ]
     },
     "execution_count": 31,
     "metadata": {},
     "output_type": "execute_result"
    },
    {
     "data": {
      "image/png": "[encoded data removed]",
      "text/plain": [
       "<Figure size 432x288 with 1 Axes>"
      ]
     },
     "metadata": {
      "needs_background": "light"
     },
     "output_type": "display_data"
    }
   ],
   "source": [
    "plt.plot(para_depth, train_score, linestyle = '-', label = 'Train Score')\n",
    "plt.plot(para_depth, test_score, linestyle = '--', label = 'Test Score')\n",
    "plt.legend()\n",
    "# train/test 데이터의 성능 변화를 고려하여 depth를 2로 결정"
   ]
  },
  {
   "cell_type": "code",
   "execution_count": 32,
   "id": "2c2c025e",
   "metadata": {},
   "outputs": [
    {
     "data": {
      "text/html": [
       "<div>\n",
       "<style scoped>\n",
       "    .dataframe tbody tr th:only-of-type {\n",
       "        vertical-align: middle;\n",
       "    }\n",
       "\n",
       "    .dataframe tbody tr th {\n",
       "        vertical-align: top;\n",
       "    }\n",
       "\n",
       "    .dataframe thead th {\n",
       "        text-align: right;\n",
       "    }\n",
       "</style>\n",
       "<table border=\"1\" class=\"dataframe\">\n",
       "  <thead>\n",
       "    <tr style=\"text-align: right;\">\n",
       "      <th></th>\n",
       "      <th>MinSampleSplit</th>\n",
       "      <th>TrainScore</th>\n",
       "      <th>TestScore</th>\n",
       "    </tr>\n",
       "  </thead>\n",
       "  <tbody>\n",
       "    <tr>\n",
       "      <th>0</th>\n",
       "      <td>20</td>\n",
       "      <td>0.982</td>\n",
       "      <td>0.985</td>\n",
       "    </tr>\n",
       "    <tr>\n",
       "      <th>1</th>\n",
       "      <td>40</td>\n",
       "      <td>0.982</td>\n",
       "      <td>0.985</td>\n",
       "    </tr>\n",
       "    <tr>\n",
       "      <th>2</th>\n",
       "      <td>60</td>\n",
       "      <td>0.982</td>\n",
       "      <td>0.985</td>\n",
       "    </tr>\n",
       "    <tr>\n",
       "      <th>3</th>\n",
       "      <td>80</td>\n",
       "      <td>0.982</td>\n",
       "      <td>0.985</td>\n",
       "    </tr>\n",
       "    <tr>\n",
       "      <th>4</th>\n",
       "      <td>100</td>\n",
       "      <td>0.982</td>\n",
       "      <td>0.985</td>\n",
       "    </tr>\n",
       "    <tr>\n",
       "      <th>5</th>\n",
       "      <td>120</td>\n",
       "      <td>0.982</td>\n",
       "      <td>0.985</td>\n",
       "    </tr>\n",
       "    <tr>\n",
       "      <th>6</th>\n",
       "      <td>140</td>\n",
       "      <td>0.982</td>\n",
       "      <td>0.985</td>\n",
       "    </tr>\n",
       "    <tr>\n",
       "      <th>7</th>\n",
       "      <td>160</td>\n",
       "      <td>0.982</td>\n",
       "      <td>0.985</td>\n",
       "    </tr>\n",
       "    <tr>\n",
       "      <th>8</th>\n",
       "      <td>180</td>\n",
       "      <td>0.982</td>\n",
       "      <td>0.985</td>\n",
       "    </tr>\n",
       "    <tr>\n",
       "      <th>9</th>\n",
       "      <td>200</td>\n",
       "      <td>0.982</td>\n",
       "      <td>0.985</td>\n",
       "    </tr>\n",
       "  </tbody>\n",
       "</table>\n",
       "</div>"
      ],
      "text/plain": [
       "   MinSampleSplit  TrainScore  TestScore\n",
       "0              20       0.982      0.985\n",
       "1              40       0.982      0.985\n",
       "2              60       0.982      0.985\n",
       "3              80       0.982      0.985\n",
       "4             100       0.982      0.985\n",
       "5             120       0.982      0.985\n",
       "6             140       0.982      0.985\n",
       "7             160       0.982      0.985\n",
       "8             180       0.982      0.985\n",
       "9             200       0.982      0.985"
      ]
     },
     "execution_count": 32,
     "metadata": {},
     "output_type": "execute_result"
    }
   ],
   "source": [
    "# 하이퍼 파라미터 조정 : 자식 노드를 분할하는데 필요한 최소 샘플 수\n",
    "\n",
    "train_score = []; test_score = []\n",
    "\n",
    "para_split = [n_split *20 for n_split in range(1,11)]\n",
    "\n",
    "for v_min_split in para_split:\n",
    "    tree = DecisionTreeClassifier(random_state=1234\n",
    "                                , max_depth=2, min_samples_split=v_min_split)\n",
    "    tree.fit(df_train_x,df_train_y)\n",
    "    train_score.append(tree.score(df_train_x,df_train_y))\n",
    "    \n",
    "    test_score.append(tree.score(df_test_x,df_test_y))\n",
    "    \n",
    "df_score_split = pd.DataFrame()\n",
    "df_score_split['MinSampleSplit'] = para_split\n",
    "df_score_split[\"TrainScore\"]= train_score\n",
    "df_score_split[\"TestScore\"]= test_score\n",
    "df_score_split.round(3)"
   ]
  },
  {
   "cell_type": "code",
   "execution_count": 33,
   "id": "8b8b2bd4",
   "metadata": {},
   "outputs": [
    {
     "data": {
      "text/plain": [
       "<matplotlib.legend.Legend at 0x1fff2af5fd0>"
      ]
     },
     "execution_count": 33,
     "metadata": {},
     "output_type": "execute_result"
    },
    {
     "data": {
      "image/png": "[encoded data removed]",
      "text/plain": [
       "<Figure size 432x288 with 1 Axes>"
      ]
     },
     "metadata": {
      "needs_background": "light"
     },
     "output_type": "display_data"
    }
   ],
   "source": [
    "plt.plot(para_split, train_score, linestyle = '-', label = 'Train Score')\n",
    "plt.plot(para_split, test_score, linestyle = '--', label = 'Test Score')\n",
    "plt.legend()\n",
    "\n",
    "# 분리노드의 최소자료 수는 커질수록 과적합이 방지되는 경향이 있으나 test score가 동일한 수준을 보이므로 20으로 설정"
   ]
  },
  {
   "cell_type": "code",
   "execution_count": 34,
   "id": "b972d140",
   "metadata": {},
   "outputs": [
    {
     "data": {
      "text/html": [
       "<div>\n",
       "<style scoped>\n",
       "    .dataframe tbody tr th:only-of-type {\n",
       "        vertical-align: middle;\n",
       "    }\n",
       "\n",
       "    .dataframe tbody tr th {\n",
       "        vertical-align: top;\n",
       "    }\n",
       "\n",
       "    .dataframe thead th {\n",
       "        text-align: right;\n",
       "    }\n",
       "</style>\n",
       "<table border=\"1\" class=\"dataframe\">\n",
       "  <thead>\n",
       "    <tr style=\"text-align: right;\">\n",
       "      <th></th>\n",
       "      <th>MinSampleLeaf</th>\n",
       "      <th>TrainScore</th>\n",
       "      <th>TestScore</th>\n",
       "    </tr>\n",
       "  </thead>\n",
       "  <tbody>\n",
       "    <tr>\n",
       "      <th>0</th>\n",
       "      <td>4</td>\n",
       "      <td>0.982</td>\n",
       "      <td>0.985</td>\n",
       "    </tr>\n",
       "    <tr>\n",
       "      <th>1</th>\n",
       "      <td>8</td>\n",
       "      <td>0.982</td>\n",
       "      <td>0.985</td>\n",
       "    </tr>\n",
       "    <tr>\n",
       "      <th>2</th>\n",
       "      <td>12</td>\n",
       "      <td>0.982</td>\n",
       "      <td>0.985</td>\n",
       "    </tr>\n",
       "    <tr>\n",
       "      <th>3</th>\n",
       "      <td>16</td>\n",
       "      <td>0.982</td>\n",
       "      <td>0.985</td>\n",
       "    </tr>\n",
       "    <tr>\n",
       "      <th>4</th>\n",
       "      <td>20</td>\n",
       "      <td>0.982</td>\n",
       "      <td>0.985</td>\n",
       "    </tr>\n",
       "    <tr>\n",
       "      <th>5</th>\n",
       "      <td>24</td>\n",
       "      <td>0.982</td>\n",
       "      <td>0.985</td>\n",
       "    </tr>\n",
       "    <tr>\n",
       "      <th>6</th>\n",
       "      <td>28</td>\n",
       "      <td>0.982</td>\n",
       "      <td>0.985</td>\n",
       "    </tr>\n",
       "    <tr>\n",
       "      <th>7</th>\n",
       "      <td>32</td>\n",
       "      <td>0.982</td>\n",
       "      <td>0.985</td>\n",
       "    </tr>\n",
       "    <tr>\n",
       "      <th>8</th>\n",
       "      <td>36</td>\n",
       "      <td>0.982</td>\n",
       "      <td>0.985</td>\n",
       "    </tr>\n",
       "    <tr>\n",
       "      <th>9</th>\n",
       "      <td>40</td>\n",
       "      <td>0.982</td>\n",
       "      <td>0.985</td>\n",
       "    </tr>\n",
       "  </tbody>\n",
       "</table>\n",
       "</div>"
      ],
      "text/plain": [
       "   MinSampleLeaf  TrainScore  TestScore\n",
       "0              4       0.982      0.985\n",
       "1              8       0.982      0.985\n",
       "2             12       0.982      0.985\n",
       "3             16       0.982      0.985\n",
       "4             20       0.982      0.985\n",
       "5             24       0.982      0.985\n",
       "6             28       0.982      0.985\n",
       "7             32       0.982      0.985\n",
       "8             36       0.982      0.985\n",
       "9             40       0.982      0.985"
      ]
     },
     "execution_count": 34,
     "metadata": {},
     "output_type": "execute_result"
    }
   ],
   "source": [
    "# 하이퍼 파라미터 조정 : 리프 노드에 있어야할 최소 샘플 수\n",
    "train_score = []; test_score = []\n",
    "\n",
    "para_leaf = [n_leaf *4 for n_leaf in range(1,11)]\n",
    "\n",
    "for v_min_leaf in para_leaf:\n",
    "    tree = DecisionTreeClassifier(random_state=1234\n",
    "                                , max_depth=2, min_samples_leaf=v_min_leaf, min_samples_split=200)#\n",
    "    tree.fit(df_train_x,df_train_y)\n",
    "    train_score.append(tree.score(df_train_x,df_train_y))\n",
    "    \n",
    "    test_score.append(tree.score(df_test_x,df_test_y))\n",
    "    \n",
    "df_score_leaf = pd.DataFrame()\n",
    "df_score_leaf['MinSampleLeaf'] = para_leaf\n",
    "df_score_leaf[\"TrainScore\"]= train_score\n",
    "df_score_leaf[\"TestScore\"]= test_score\n",
    "df_score_leaf.round(3)\n",
    "\n",
    "# 잎사귀 노드의 최소 자료 수는 커질 수록 과적합이 방지되므로 test score가 낮아지지 않는 선에서 가장 큰 값을 선택 \n",
    "# 전반적으로 같기 때문에 적당한 값으로 선택 "
   ]
  },
  {
   "cell_type": "code",
   "execution_count": 35,
   "id": "938607bc",
   "metadata": {},
   "outputs": [
    {
     "data": {
      "text/plain": [
       "DecisionTreeClassifier(max_depth=4, min_samples_leaf=16, min_samples_split=20,\n",
       "                       random_state=1234)"
      ]
     },
     "execution_count": 35,
     "metadata": {},
     "output_type": "execute_result"
    }
   ],
   "source": [
    "churn_dt_result = DecisionTreeClassifier(random_state=1234, max_depth=4, min_samples_leaf=16, min_samples_split=20)\n",
    "churn_dt_result.fit(df_train_x,df_train_y)"
   ]
  },
  {
   "cell_type": "code",
   "execution_count": 36,
   "id": "cbc36a79",
   "metadata": {},
   "outputs": [],
   "source": [
    "# 최종 모델 시각화 (생략)\n",
    "# import graphviz\n",
    "\n",
    "# v_feature_name = df_test_x.columns\n",
    "# export_graphviz(result, out_file = 'result_dt.dot', class_names = [\"STAY\",'OUT'],\n",
    "#                feature_names = v_feature_name, impurity=True,filled=True)\n",
    "\n",
    "# with open('tree_final.dot')as f:\n",
    "#     dot_grape = f.read()\n",
    "# display(graphviz.Source(dot_grape))"
   ]
  },
  {
   "cell_type": "code",
   "execution_count": 37,
   "id": "5243d807",
   "metadata": {
    "scrolled": true
   },
   "outputs": [
    {
     "name": "stdout",
     "output_type": "stream",
     "text": [
      "Accuracy: 0.985\n",
      "Confusion matrix: \n",
      "[[1238    0]\n",
      " [  22  247]]\n"
     ]
    }
   ],
   "source": [
    "y_pred = churn_dt_result.predict(df_test_x)\n",
    "print('Accuracy: {:.3f}'.format(churn_dt_result.score(df_test_x,df_test_y)))\n",
    "print('Confusion matrix: \\n{}'.format(confusion_matrix(df_test_y,y_pred)))"
   ]
  },
  {
   "cell_type": "code",
   "execution_count": 38,
   "id": "5f4f263e",
   "metadata": {},
   "outputs": [
    {
     "name": "stdout",
     "output_type": "stream",
     "text": [
      "recall : 0.983\n",
      "precision : 1.000\n",
      "F1 score : 0.991\n"
     ]
    }
   ],
   "source": [
    "a=1238/(1238+22) # recall\n",
    "b=1238/(1238+0) # precision\n",
    "print(\"recall : {:.3f}\".format(a))\n",
    "print(\"precision : {:.3f}\".format(b))\n",
    "\n",
    "c=2*(a*b)/(a+b) #F1 score\n",
    "print(\"F1 score : {:.3f}\".format(c))"
   ]
  },
  {
   "cell_type": "code",
   "execution_count": 39,
   "id": "c5734803",
   "metadata": {},
   "outputs": [
    {
     "name": "stdout",
     "output_type": "stream",
     "text": [
      "best estimator model :\n",
      "DecisionTreeClassifier(max_depth=7, min_samples_leaf=12, min_samples_split=20)\n",
      "\n",
      " best parameter : \n",
      "{'max_depth': 7, 'min_samples_leaf': 12, 'min_samples_split': 20}\n",
      "\n",
      "best score :\n",
      "0.982\n"
     ]
    }
   ],
   "source": [
    "# GridSearch를 이용해서 bestparameter 찾기 (참고용)\n",
    "estimator = DecisionTreeClassifier()\n",
    "\n",
    "param_grid = {\"max_depth\" : para_depth,\n",
    "             'min_samples_leaf':para_leaf,\n",
    "             'min_samples_split':para_split}\n",
    "grid_tree = GridSearchCV(estimator, param_grid, scoring = 'accuracy',n_jobs=-1)\n",
    "\n",
    "grid_tree.fit(df_train_x,df_train_y)\n",
    "print('best estimator model :\\n{}'.format(grid_tree.best_estimator_))\n",
    "print('\\n best parameter : \\n{}'.format(grid_tree.best_params_))\n",
    "print('\\nbest score :\\n{}'.format(grid_tree.best_score_.round(3)))"
   ]
  },
  {
   "cell_type": "code",
   "execution_count": 40,
   "id": "fc188750",
   "metadata": {},
   "outputs": [
    {
     "data": {
      "image/png": "[encoded data removed]",
      "text/plain": [
       "<Figure size 432x288 with 1 Axes>"
      ]
     },
     "metadata": {
      "needs_background": "light"
     },
     "output_type": "display_data"
    }
   ],
   "source": [
    "from sklearn.metrics import f1_score, roc_curve, auc\n",
    "model_f1_score=[]\n",
    "model_auc=[]\n",
    "y_pred = churn_dt_result.predict(df_test_x)\n",
    "fpr, tpr, thresholds = roc_curve(df_test_y, y_pred)\n",
    "roc_auc = auc(fpr,tpr)\n",
    "\n",
    "model_auc.append(roc_auc)\n",
    "plt.plot(fpr,tpr,label= \"AUC = %0.2f\"%roc_auc)\n",
    "plt.legend(loc = 'lower right')\n",
    "plt.ylabel(\"TPR\")\n",
    "plt.xlabel(\"FPR\")\n",
    "plt.show()"
   ]
  },
  {
   "cell_type": "code",
   "execution_count": 41,
   "id": "4d334393",
   "metadata": {},
   "outputs": [
    {
     "data": {
      "text/html": [
       "<div>\n",
       "<style scoped>\n",
       "    .dataframe tbody tr th:only-of-type {\n",
       "        vertical-align: middle;\n",
       "    }\n",
       "\n",
       "    .dataframe tbody tr th {\n",
       "        vertical-align: top;\n",
       "    }\n",
       "\n",
       "    .dataframe thead th {\n",
       "        text-align: right;\n",
       "    }\n",
       "</style>\n",
       "<table border=\"1\" class=\"dataframe\">\n",
       "  <thead>\n",
       "    <tr style=\"text-align: right;\">\n",
       "      <th></th>\n",
       "      <th>Feature</th>\n",
       "      <th>Importance</th>\n",
       "    </tr>\n",
       "  </thead>\n",
       "  <tbody>\n",
       "    <tr>\n",
       "      <th>1</th>\n",
       "      <td>SatisScore</td>\n",
       "      <td>0.843</td>\n",
       "    </tr>\n",
       "    <tr>\n",
       "      <th>0</th>\n",
       "      <td>ChurnScore</td>\n",
       "      <td>0.157</td>\n",
       "    </tr>\n",
       "    <tr>\n",
       "      <th>9</th>\n",
       "      <td>TenureMonths</td>\n",
       "      <td>0.000</td>\n",
       "    </tr>\n",
       "    <tr>\n",
       "      <th>15</th>\n",
       "      <td>AgeGroup_70대</td>\n",
       "      <td>0.000</td>\n",
       "    </tr>\n",
       "    <tr>\n",
       "      <th>14</th>\n",
       "      <td>AgeGroup_60대</td>\n",
       "      <td>0.000</td>\n",
       "    </tr>\n",
       "    <tr>\n",
       "      <th>13</th>\n",
       "      <td>AgeGroup_50대</td>\n",
       "      <td>0.000</td>\n",
       "    </tr>\n",
       "    <tr>\n",
       "      <th>12</th>\n",
       "      <td>AgeGroup_40대</td>\n",
       "      <td>0.000</td>\n",
       "    </tr>\n",
       "    <tr>\n",
       "      <th>11</th>\n",
       "      <td>AgeGroup_30대</td>\n",
       "      <td>0.000</td>\n",
       "    </tr>\n",
       "    <tr>\n",
       "      <th>10</th>\n",
       "      <td>AgeGroup_20대</td>\n",
       "      <td>0.000</td>\n",
       "    </tr>\n",
       "    <tr>\n",
       "      <th>8</th>\n",
       "      <td>AvgCharge</td>\n",
       "      <td>0.000</td>\n",
       "    </tr>\n",
       "    <tr>\n",
       "      <th>7</th>\n",
       "      <td>Contract</td>\n",
       "      <td>0.000</td>\n",
       "    </tr>\n",
       "    <tr>\n",
       "      <th>6</th>\n",
       "      <td>noReferrals</td>\n",
       "      <td>0.000</td>\n",
       "    </tr>\n",
       "    <tr>\n",
       "      <th>5</th>\n",
       "      <td>Referrals</td>\n",
       "      <td>0.000</td>\n",
       "    </tr>\n",
       "    <tr>\n",
       "      <th>4</th>\n",
       "      <td>noDependents</td>\n",
       "      <td>0.000</td>\n",
       "    </tr>\n",
       "    <tr>\n",
       "      <th>3</th>\n",
       "      <td>Dependents</td>\n",
       "      <td>0.000</td>\n",
       "    </tr>\n",
       "    <tr>\n",
       "      <th>2</th>\n",
       "      <td>Married</td>\n",
       "      <td>0.000</td>\n",
       "    </tr>\n",
       "    <tr>\n",
       "      <th>16</th>\n",
       "      <td>AgeGroup_80대</td>\n",
       "      <td>0.000</td>\n",
       "    </tr>\n",
       "  </tbody>\n",
       "</table>\n",
       "</div>"
      ],
      "text/plain": [
       "         Feature  Importance\n",
       "1     SatisScore       0.843\n",
       "0     ChurnScore       0.157\n",
       "9   TenureMonths       0.000\n",
       "15  AgeGroup_70대       0.000\n",
       "14  AgeGroup_60대       0.000\n",
       "13  AgeGroup_50대       0.000\n",
       "12  AgeGroup_40대       0.000\n",
       "11  AgeGroup_30대       0.000\n",
       "10  AgeGroup_20대       0.000\n",
       "8      AvgCharge       0.000\n",
       "7       Contract       0.000\n",
       "6    noReferrals       0.000\n",
       "5      Referrals       0.000\n",
       "4   noDependents       0.000\n",
       "3     Dependents       0.000\n",
       "2        Married       0.000\n",
       "16  AgeGroup_80대       0.000"
      ]
     },
     "execution_count": 41,
     "metadata": {},
     "output_type": "execute_result"
    }
   ],
   "source": [
    "# feature importance 확인\n",
    "v_feature_name = df_test_x.columns\n",
    "df_importance = pd.DataFrame()\n",
    "df_importance[\"Feature\"] = v_feature_name\n",
    "df_importance[\"Importance\"]=churn_dt_result.feature_importances_\n",
    "\n",
    "df_importance.sort_values(\"Importance\", ascending=False, inplace = True)\n",
    "df_importance.round(3)"
   ]
  },
  {
   "cell_type": "markdown",
   "id": "e78663fa",
   "metadata": {},
   "source": [
    "- 만족도 점수가 3점 미만은 이탈, 3점 초과는 유지로 극단적인 결과를 보였음\n",
    "- 이탈 여부 변수에 대해 가장 큰 영향을 미칠 수밖에 없음\n",
    "- 그렇다면 만족도에 영향을 주는 변수는 무엇일까?"
   ]
  },
  {
   "cell_type": "markdown",
   "id": "27f2ea0f",
   "metadata": {},
   "source": [
    "# 2-4. 만족도 변수에 대한  추가 분석\n",
    "#### 이탈에 큰 영향을 미치는 변수는 만족도! 그렇다면 만족도에 영향을 주는 중요 변수는 무엇일까?"
   ]
  },
  {
   "cell_type": "code",
   "execution_count": 42,
   "id": "8231f8d1",
   "metadata": {},
   "outputs": [],
   "source": [
    "satis_df = customer_df.drop(['CustomerId','ContractID','CustomerLTV','ChurnScore',\n",
    "                            'ChurnLabel','Gender','Age','PaymentMethod','OnlineBackup',\n",
    "                            'StartDate','EndDate','ChurnCategory','ChurnReason'],axis=1) # 의미 없는 변수(명목변수, 서비스 여부) 제거 후 분석"
   ]
  },
  {
   "cell_type": "code",
   "execution_count": 43,
   "id": "eb370a6c",
   "metadata": {},
   "outputs": [],
   "source": [
    "# 더미화 : 이후 회귀분석에 사용하기 위해서 범주형 변수를 연속형 변수로 변환 \n",
    "satis_df.replace({'Yes':1, 'No':0},inplace=True)\n",
    "satis_df.replace({'Male':1, 'Female':0}, inplace=True)\n",
    "satis_df.replace({'2Year':1, '1Year':0}, inplace=True)\n",
    "\n",
    "satis_df['TenureMonths'].fillna(0,inplace=True)\n",
    " # 1개월 미만 사용자인 경우 0 입력"
   ]
  },
  {
   "cell_type": "code",
   "execution_count": 44,
   "id": "e813ae8d",
   "metadata": {},
   "outputs": [],
   "source": [
    "satis_y = satis_df[['SatisScore']]\n",
    "satis_x = satis_df.drop('SatisScore', axis=1)\n",
    "\n",
    "satis_dummies_x = pd.get_dummies(satis_x)\n",
    "\n",
    "df_train_x,df_test_x,df_train_y,df_test_y = train_test_split(satis_dummies_x,\n",
    "                                                             satis_y,test_size=0.4,\n",
    "                                                             random_state=1234)"
   ]
  },
  {
   "cell_type": "code",
   "execution_count": 45,
   "id": "e64e01fa",
   "metadata": {},
   "outputs": [
    {
     "name": "stderr",
     "output_type": "stream",
     "text": [
      "C:\\Users\\82106\\AppData\\Local\\Temp/ipykernel_14112/1112867775.py:3: DataConversionWarning: A column-vector y was passed when a 1d array was expected. Please change the shape of y to (n_samples,), for example using ravel().\n",
      "  satisc_rf_uncustomized.fit(df_train_x, df_train_y)\n"
     ]
    },
    {
     "name": "stdout",
     "output_type": "stream",
     "text": [
      "Score on training set: 0.883\n",
      "Score on test set: 0.134\n"
     ]
    }
   ],
   "source": [
    "#모델 생성 - 기본옵션으로 모델 생성\n",
    "satisc_rf_uncustomized = RandomForestRegressor(random_state=1234)\n",
    "satisc_rf_uncustomized.fit(df_train_x, df_train_y)\n",
    "#train 데이터 설명력\n",
    "print('Score on training set: {:.3f}'.format(satisc_rf_uncustomized.score(df_train_x, df_train_y)))\n",
    "#test 데이터 설명력\n",
    "print('Score on test set: {:.3f}'.format(satisc_rf_uncustomized.score(df_test_x, df_test_y)))"
   ]
  },
  {
   "cell_type": "code",
   "execution_count": 46,
   "id": "b1d86487",
   "metadata": {},
   "outputs": [
    {
     "name": "stderr",
     "output_type": "stream",
     "text": [
      "C:\\Users\\82106\\AppData\\Local\\Temp/ipykernel_14112/2460562730.py:10: DataConversionWarning: A column-vector y was passed when a 1d array was expected. Please change the shape of y to (n_samples,), for example using ravel().\n",
      "  rf.fit(df_train_x, df_train_y)\n",
      "C:\\Users\\82106\\AppData\\Local\\Temp/ipykernel_14112/2460562730.py:10: DataConversionWarning: A column-vector y was passed when a 1d array was expected. Please change the shape of y to (n_samples,), for example using ravel().\n",
      "  rf.fit(df_train_x, df_train_y)\n",
      "C:\\Users\\82106\\AppData\\Local\\Temp/ipykernel_14112/2460562730.py:10: DataConversionWarning: A column-vector y was passed when a 1d array was expected. Please change the shape of y to (n_samples,), for example using ravel().\n",
      "  rf.fit(df_train_x, df_train_y)\n",
      "C:\\Users\\82106\\AppData\\Local\\Temp/ipykernel_14112/2460562730.py:10: DataConversionWarning: A column-vector y was passed when a 1d array was expected. Please change the shape of y to (n_samples,), for example using ravel().\n",
      "  rf.fit(df_train_x, df_train_y)\n"
     ]
    }
   ],
   "source": [
    "# 하이퍼  파라미터 조정 : n_estimators 트리 수 변경에 따른 모델 성능\n",
    "train_score = []; test_score = []\n",
    "\n",
    "#n_estimatos : 트리 수 변경 (1~400)\n",
    "# 무작정 트리 갯수를 늘리면 성능이 좋아지는 것 대비 시간이 과다 소요 가능성 있음\n",
    "para_n_tree = [n_tree * 1 for n_tree in range(1, 400, 100)]\n",
    "\n",
    "for v_n_estimators in para_n_tree :\n",
    "    rf = RandomForestRegressor(n_estimators = v_n_estimators, random_state = 1234)\n",
    "    rf.fit(df_train_x, df_train_y)\n",
    "    train_score.append(rf.score(df_train_x, df_train_y))\n",
    "    test_score.append(rf.score(df_test_x, df_test_y))\n",
    "\n",
    "#결과 저장\n",
    "df_score_n = pd.DataFrame()\n",
    "df_score_n['n_estimators']=para_n_tree\n",
    "df_score_n['TrainScore']=train_score\n",
    "df_score_n['TestScore']=test_score"
   ]
  },
  {
   "cell_type": "code",
   "execution_count": 47,
   "id": "9a722782",
   "metadata": {},
   "outputs": [
    {
     "data": {
      "text/plain": [
       "<function matplotlib.pyplot.legend(*args, **kwargs)>"
      ]
     },
     "execution_count": 47,
     "metadata": {},
     "output_type": "execute_result"
    },
    {
     "name": "stderr",
     "output_type": "stream",
     "text": [
      "C:\\Users\\82106\\anaconda3\\lib\\site-packages\\matplotlib\\backends\\backend_agg.py:240: RuntimeWarning: Glyph 8722 missing from current font.\n",
      "  font.set_text(s, 0.0, flags=flags)\n",
      "C:\\Users\\82106\\anaconda3\\lib\\site-packages\\matplotlib\\backends\\backend_agg.py:203: RuntimeWarning: Glyph 8722 missing from current font.\n",
      "  font.set_text(s, 0, flags=flags)\n"
     ]
    },
    {
     "data": {
      "image/png": "[encoded data removed]",
      "text/plain": [
       "<Figure size 432x288 with 1 Axes>"
      ]
     },
     "metadata": {
      "needs_background": "light"
     },
     "output_type": "display_data"
    }
   ],
   "source": [
    "plt.plot(para_n_tree, train_score, linestyle='-', label = 'Train Score')\n",
    "plt.plot(para_n_tree, test_score, linestyle='-', label = 'Test Score')\n",
    "plt.ylabel('score'); plt.xlabel('n_estimators')\n",
    "plt.legend"
   ]
  },
  {
   "cell_type": "code",
   "execution_count": 48,
   "id": "31c839c7",
   "metadata": {},
   "outputs": [
    {
     "name": "stderr",
     "output_type": "stream",
     "text": [
      "C:\\Users\\82106\\AppData\\Local\\Temp/ipykernel_14112/1416536449.py:12: DataConversionWarning: A column-vector y was passed when a 1d array was expected. Please change the shape of y to (n_samples,), for example using ravel().\n",
      "  rf.fit(df_train_x, df_train_y)\n",
      "C:\\Users\\82106\\AppData\\Local\\Temp/ipykernel_14112/1416536449.py:12: DataConversionWarning: A column-vector y was passed when a 1d array was expected. Please change the shape of y to (n_samples,), for example using ravel().\n",
      "  rf.fit(df_train_x, df_train_y)\n",
      "C:\\Users\\82106\\AppData\\Local\\Temp/ipykernel_14112/1416536449.py:12: DataConversionWarning: A column-vector y was passed when a 1d array was expected. Please change the shape of y to (n_samples,), for example using ravel().\n",
      "  rf.fit(df_train_x, df_train_y)\n",
      "C:\\Users\\82106\\AppData\\Local\\Temp/ipykernel_14112/1416536449.py:12: DataConversionWarning: A column-vector y was passed when a 1d array was expected. Please change the shape of y to (n_samples,), for example using ravel().\n",
      "  rf.fit(df_train_x, df_train_y)\n",
      "C:\\Users\\82106\\AppData\\Local\\Temp/ipykernel_14112/1416536449.py:12: DataConversionWarning: A column-vector y was passed when a 1d array was expected. Please change the shape of y to (n_samples,), for example using ravel().\n",
      "  rf.fit(df_train_x, df_train_y)\n",
      "C:\\Users\\82106\\AppData\\Local\\Temp/ipykernel_14112/1416536449.py:12: DataConversionWarning: A column-vector y was passed when a 1d array was expected. Please change the shape of y to (n_samples,), for example using ravel().\n",
      "  rf.fit(df_train_x, df_train_y)\n",
      "C:\\Users\\82106\\AppData\\Local\\Temp/ipykernel_14112/1416536449.py:12: DataConversionWarning: A column-vector y was passed when a 1d array was expected. Please change the shape of y to (n_samples,), for example using ravel().\n",
      "  rf.fit(df_train_x, df_train_y)\n",
      "C:\\Users\\82106\\AppData\\Local\\Temp/ipykernel_14112/1416536449.py:12: DataConversionWarning: A column-vector y was passed when a 1d array was expected. Please change the shape of y to (n_samples,), for example using ravel().\n",
      "  rf.fit(df_train_x, df_train_y)\n",
      "C:\\Users\\82106\\AppData\\Local\\Temp/ipykernel_14112/1416536449.py:12: DataConversionWarning: A column-vector y was passed when a 1d array was expected. Please change the shape of y to (n_samples,), for example using ravel().\n",
      "  rf.fit(df_train_x, df_train_y)\n",
      "C:\\Users\\82106\\AppData\\Local\\Temp/ipykernel_14112/1416536449.py:12: DataConversionWarning: A column-vector y was passed when a 1d array was expected. Please change the shape of y to (n_samples,), for example using ravel().\n",
      "  rf.fit(df_train_x, df_train_y)\n",
      "C:\\Users\\82106\\AppData\\Local\\Temp/ipykernel_14112/1416536449.py:12: DataConversionWarning: A column-vector y was passed when a 1d array was expected. Please change the shape of y to (n_samples,), for example using ravel().\n",
      "  rf.fit(df_train_x, df_train_y)\n"
     ]
    }
   ],
   "source": [
    "# 하이퍼 파라미터 조정 : 리프 노드가 되기 위해 필요한 최소한의 샘플 데이터 수\n",
    "# 불균형 데이터의 경우 특정 클래스의 데이터가 극도로 작을 수 있으므로 작게 설정 필요\n",
    "n_estimators = 150\n",
    "\n",
    "#train 및 test 설명력 결과 저장\n",
    "train_score = []; test_score = []\n",
    "para_leaf=[n_leaf * 1 for n_leaf in range(1, 110, 10)]\n",
    "\n",
    "for v_min_samples_leaf in para_leaf :\n",
    "    rf = RandomForestRegressor(n_estimators = 150, random_state = 1234,\n",
    "                              min_samples_leaf=v_min_samples_leaf)\n",
    "    rf.fit(df_train_x, df_train_y)\n",
    "    train_score.append(rf.score(df_train_x, df_train_y))\n",
    "    test_score.append(rf.score(df_test_x, df_test_y))\n",
    "\n",
    "#결과 저장\n",
    "df_score_leaf = pd.DataFrame()\n",
    "df_score_leaf['min_samples_leaf']=para_leaf\n",
    "df_score_leaf['TrainScore']=train_score\n",
    "df_score_leaf['TestScore']=test_score"
   ]
  },
  {
   "cell_type": "code",
   "execution_count": 49,
   "id": "12d4fd31",
   "metadata": {},
   "outputs": [
    {
     "data": {
      "text/html": [
       "<div>\n",
       "<style scoped>\n",
       "    .dataframe tbody tr th:only-of-type {\n",
       "        vertical-align: middle;\n",
       "    }\n",
       "\n",
       "    .dataframe tbody tr th {\n",
       "        vertical-align: top;\n",
       "    }\n",
       "\n",
       "    .dataframe thead th {\n",
       "        text-align: right;\n",
       "    }\n",
       "</style>\n",
       "<table border=\"1\" class=\"dataframe\">\n",
       "  <thead>\n",
       "    <tr style=\"text-align: right;\">\n",
       "      <th></th>\n",
       "      <th>min_samples_leaf</th>\n",
       "      <th>TrainScore</th>\n",
       "      <th>TestScore</th>\n",
       "    </tr>\n",
       "  </thead>\n",
       "  <tbody>\n",
       "    <tr>\n",
       "      <th>0</th>\n",
       "      <td>1</td>\n",
       "      <td>0.884</td>\n",
       "      <td>0.135</td>\n",
       "    </tr>\n",
       "    <tr>\n",
       "      <th>1</th>\n",
       "      <td>11</td>\n",
       "      <td>0.455</td>\n",
       "      <td>0.158</td>\n",
       "    </tr>\n",
       "    <tr>\n",
       "      <th>2</th>\n",
       "      <td>21</td>\n",
       "      <td>0.346</td>\n",
       "      <td>0.167</td>\n",
       "    </tr>\n",
       "    <tr>\n",
       "      <th>3</th>\n",
       "      <td>31</td>\n",
       "      <td>0.300</td>\n",
       "      <td>0.168</td>\n",
       "    </tr>\n",
       "    <tr>\n",
       "      <th>4</th>\n",
       "      <td>41</td>\n",
       "      <td>0.274</td>\n",
       "      <td>0.170</td>\n",
       "    </tr>\n",
       "    <tr>\n",
       "      <th>5</th>\n",
       "      <td>51</td>\n",
       "      <td>0.255</td>\n",
       "      <td>0.171</td>\n",
       "    </tr>\n",
       "    <tr>\n",
       "      <th>6</th>\n",
       "      <td>61</td>\n",
       "      <td>0.243</td>\n",
       "      <td>0.170</td>\n",
       "    </tr>\n",
       "    <tr>\n",
       "      <th>7</th>\n",
       "      <td>71</td>\n",
       "      <td>0.233</td>\n",
       "      <td>0.169</td>\n",
       "    </tr>\n",
       "    <tr>\n",
       "      <th>8</th>\n",
       "      <td>81</td>\n",
       "      <td>0.224</td>\n",
       "      <td>0.169</td>\n",
       "    </tr>\n",
       "    <tr>\n",
       "      <th>9</th>\n",
       "      <td>91</td>\n",
       "      <td>0.216</td>\n",
       "      <td>0.169</td>\n",
       "    </tr>\n",
       "    <tr>\n",
       "      <th>10</th>\n",
       "      <td>101</td>\n",
       "      <td>0.211</td>\n",
       "      <td>0.167</td>\n",
       "    </tr>\n",
       "  </tbody>\n",
       "</table>\n",
       "</div>"
      ],
      "text/plain": [
       "    min_samples_leaf  TrainScore  TestScore\n",
       "0                  1       0.884      0.135\n",
       "1                 11       0.455      0.158\n",
       "2                 21       0.346      0.167\n",
       "3                 31       0.300      0.168\n",
       "4                 41       0.274      0.170\n",
       "5                 51       0.255      0.171\n",
       "6                 61       0.243      0.170\n",
       "7                 71       0.233      0.169\n",
       "8                 81       0.224      0.169\n",
       "9                 91       0.216      0.169\n",
       "10               101       0.211      0.167"
      ]
     },
     "execution_count": 49,
     "metadata": {},
     "output_type": "execute_result"
    }
   ],
   "source": [
    "#모델 설명력 확인\n",
    "df_score_leaf.round(3)"
   ]
  },
  {
   "cell_type": "code",
   "execution_count": 50,
   "id": "36b4c76a",
   "metadata": {},
   "outputs": [
    {
     "data": {
      "text/plain": [
       "<function matplotlib.pyplot.legend(*args, **kwargs)>"
      ]
     },
     "execution_count": 50,
     "metadata": {},
     "output_type": "execute_result"
    },
    {
     "data": {
      "image/png": "[encoded data removed]",
      "text/plain": [
       "<Figure size 432x288 with 1 Axes>"
      ]
     },
     "metadata": {
      "needs_background": "light"
     },
     "output_type": "display_data"
    }
   ],
   "source": [
    "plt.plot(para_leaf, train_score, linestyle='-', label = 'Train Score')\n",
    "plt.plot(para_leaf, test_score, linestyle='-', label = 'Test Score')\n",
    "plt.ylabel('score'); plt.xlabel('min_samples_leaf')\n",
    "plt.legend"
   ]
  },
  {
   "cell_type": "code",
   "execution_count": 51,
   "id": "c54a26e5",
   "metadata": {},
   "outputs": [
    {
     "name": "stderr",
     "output_type": "stream",
     "text": [
      "C:\\Users\\82106\\AppData\\Local\\Temp/ipykernel_14112/828282674.py:13: DataConversionWarning: A column-vector y was passed when a 1d array was expected. Please change the shape of y to (n_samples,), for example using ravel().\n",
      "  rf.fit(df_train_x, df_train_y)\n",
      "C:\\Users\\82106\\AppData\\Local\\Temp/ipykernel_14112/828282674.py:13: DataConversionWarning: A column-vector y was passed when a 1d array was expected. Please change the shape of y to (n_samples,), for example using ravel().\n",
      "  rf.fit(df_train_x, df_train_y)\n",
      "C:\\Users\\82106\\AppData\\Local\\Temp/ipykernel_14112/828282674.py:13: DataConversionWarning: A column-vector y was passed when a 1d array was expected. Please change the shape of y to (n_samples,), for example using ravel().\n",
      "  rf.fit(df_train_x, df_train_y)\n",
      "C:\\Users\\82106\\AppData\\Local\\Temp/ipykernel_14112/828282674.py:13: DataConversionWarning: A column-vector y was passed when a 1d array was expected. Please change the shape of y to (n_samples,), for example using ravel().\n",
      "  rf.fit(df_train_x, df_train_y)\n",
      "C:\\Users\\82106\\AppData\\Local\\Temp/ipykernel_14112/828282674.py:13: DataConversionWarning: A column-vector y was passed when a 1d array was expected. Please change the shape of y to (n_samples,), for example using ravel().\n",
      "  rf.fit(df_train_x, df_train_y)\n",
      "C:\\Users\\82106\\AppData\\Local\\Temp/ipykernel_14112/828282674.py:13: DataConversionWarning: A column-vector y was passed when a 1d array was expected. Please change the shape of y to (n_samples,), for example using ravel().\n",
      "  rf.fit(df_train_x, df_train_y)\n",
      "C:\\Users\\82106\\AppData\\Local\\Temp/ipykernel_14112/828282674.py:13: DataConversionWarning: A column-vector y was passed when a 1d array was expected. Please change the shape of y to (n_samples,), for example using ravel().\n",
      "  rf.fit(df_train_x, df_train_y)\n",
      "C:\\Users\\82106\\AppData\\Local\\Temp/ipykernel_14112/828282674.py:13: DataConversionWarning: A column-vector y was passed when a 1d array was expected. Please change the shape of y to (n_samples,), for example using ravel().\n",
      "  rf.fit(df_train_x, df_train_y)\n",
      "C:\\Users\\82106\\AppData\\Local\\Temp/ipykernel_14112/828282674.py:13: DataConversionWarning: A column-vector y was passed when a 1d array was expected. Please change the shape of y to (n_samples,), for example using ravel().\n",
      "  rf.fit(df_train_x, df_train_y)\n",
      "C:\\Users\\82106\\AppData\\Local\\Temp/ipykernel_14112/828282674.py:13: DataConversionWarning: A column-vector y was passed when a 1d array was expected. Please change the shape of y to (n_samples,), for example using ravel().\n",
      "  rf.fit(df_train_x, df_train_y)\n",
      "C:\\Users\\82106\\AppData\\Local\\Temp/ipykernel_14112/828282674.py:13: DataConversionWarning: A column-vector y was passed when a 1d array was expected. Please change the shape of y to (n_samples,), for example using ravel().\n",
      "  rf.fit(df_train_x, df_train_y)\n"
     ]
    }
   ],
   "source": [
    "min_samples_leaf = 81\n",
    "# train, test의 차이가 크지 않으면서 높은 지점으로 대략 81지정\n",
    "\n",
    "train_score = []; test_score = []\n",
    "\n",
    "# 하이퍼 파라미터 조정 : 노드를 분할하기 위한 최소한의 샘플 데이터의 수\n",
    "# 작게 설정할 수록 분할 노드가 많아져 과적합 가능성 증가\n",
    "para_split=[n_split * 1 for n_split in range(1, 330, 30)]\n",
    "\n",
    "for v_min_samples_split in para_split :\n",
    "    rf = RandomForestRegressor(n_estimators = 150, random_state = 1234,\n",
    "                              min_samples_leaf=81, min_samples_split=v_min_samples_leaf)\n",
    "    rf.fit(df_train_x, df_train_y)\n",
    "    train_score.append(rf.score(df_train_x, df_train_y))\n",
    "    test_score.append(rf.score(df_test_x, df_test_y))\n",
    "\n",
    "#결과 저장\n",
    "df_score_split = pd.DataFrame()\n",
    "df_score_split['min_samples_split']=para_split\n",
    "df_score_split['TrainScore']=train_score\n",
    "df_score_split['TestScore']=test_score"
   ]
  },
  {
   "cell_type": "code",
   "execution_count": 52,
   "id": "5101bf91",
   "metadata": {},
   "outputs": [
    {
     "data": {
      "text/html": [
       "<div>\n",
       "<style scoped>\n",
       "    .dataframe tbody tr th:only-of-type {\n",
       "        vertical-align: middle;\n",
       "    }\n",
       "\n",
       "    .dataframe tbody tr th {\n",
       "        vertical-align: top;\n",
       "    }\n",
       "\n",
       "    .dataframe thead th {\n",
       "        text-align: right;\n",
       "    }\n",
       "</style>\n",
       "<table border=\"1\" class=\"dataframe\">\n",
       "  <thead>\n",
       "    <tr style=\"text-align: right;\">\n",
       "      <th></th>\n",
       "      <th>min_samples_split</th>\n",
       "      <th>TrainScore</th>\n",
       "      <th>TestScore</th>\n",
       "    </tr>\n",
       "  </thead>\n",
       "  <tbody>\n",
       "    <tr>\n",
       "      <th>0</th>\n",
       "      <td>1</td>\n",
       "      <td>0.224</td>\n",
       "      <td>0.169</td>\n",
       "    </tr>\n",
       "    <tr>\n",
       "      <th>1</th>\n",
       "      <td>31</td>\n",
       "      <td>0.224</td>\n",
       "      <td>0.169</td>\n",
       "    </tr>\n",
       "    <tr>\n",
       "      <th>2</th>\n",
       "      <td>61</td>\n",
       "      <td>0.224</td>\n",
       "      <td>0.169</td>\n",
       "    </tr>\n",
       "    <tr>\n",
       "      <th>3</th>\n",
       "      <td>91</td>\n",
       "      <td>0.224</td>\n",
       "      <td>0.169</td>\n",
       "    </tr>\n",
       "    <tr>\n",
       "      <th>4</th>\n",
       "      <td>121</td>\n",
       "      <td>0.224</td>\n",
       "      <td>0.169</td>\n",
       "    </tr>\n",
       "    <tr>\n",
       "      <th>5</th>\n",
       "      <td>151</td>\n",
       "      <td>0.224</td>\n",
       "      <td>0.169</td>\n",
       "    </tr>\n",
       "    <tr>\n",
       "      <th>6</th>\n",
       "      <td>181</td>\n",
       "      <td>0.224</td>\n",
       "      <td>0.169</td>\n",
       "    </tr>\n",
       "    <tr>\n",
       "      <th>7</th>\n",
       "      <td>211</td>\n",
       "      <td>0.224</td>\n",
       "      <td>0.169</td>\n",
       "    </tr>\n",
       "    <tr>\n",
       "      <th>8</th>\n",
       "      <td>241</td>\n",
       "      <td>0.224</td>\n",
       "      <td>0.169</td>\n",
       "    </tr>\n",
       "    <tr>\n",
       "      <th>9</th>\n",
       "      <td>271</td>\n",
       "      <td>0.224</td>\n",
       "      <td>0.169</td>\n",
       "    </tr>\n",
       "    <tr>\n",
       "      <th>10</th>\n",
       "      <td>301</td>\n",
       "      <td>0.224</td>\n",
       "      <td>0.169</td>\n",
       "    </tr>\n",
       "  </tbody>\n",
       "</table>\n",
       "</div>"
      ],
      "text/plain": [
       "    min_samples_split  TrainScore  TestScore\n",
       "0                   1       0.224      0.169\n",
       "1                  31       0.224      0.169\n",
       "2                  61       0.224      0.169\n",
       "3                  91       0.224      0.169\n",
       "4                 121       0.224      0.169\n",
       "5                 151       0.224      0.169\n",
       "6                 181       0.224      0.169\n",
       "7                 211       0.224      0.169\n",
       "8                 241       0.224      0.169\n",
       "9                 271       0.224      0.169\n",
       "10                301       0.224      0.169"
      ]
     },
     "execution_count": 52,
     "metadata": {},
     "output_type": "execute_result"
    }
   ],
   "source": [
    "#모델 설명력 확인\n",
    "df_score_split.round(3)"
   ]
  },
  {
   "cell_type": "code",
   "execution_count": 53,
   "id": "27bef9ed",
   "metadata": {},
   "outputs": [
    {
     "data": {
      "text/plain": [
       "<function matplotlib.pyplot.legend(*args, **kwargs)>"
      ]
     },
     "execution_count": 53,
     "metadata": {},
     "output_type": "execute_result"
    },
    {
     "data": {
      "image/png": "[encoded data removed]",
      "text/plain": [
       "<Figure size 432x288 with 1 Axes>"
      ]
     },
     "metadata": {
      "needs_background": "light"
     },
     "output_type": "display_data"
    }
   ],
   "source": [
    "plt.plot(para_split, train_score, linestyle='-', label = 'Train Score')\n",
    "plt.plot(para_split, test_score, linestyle='-', label = 'Test Score')\n",
    "plt.ylabel('score'); plt.xlabel('min_samples_split')\n",
    "plt.legend"
   ]
  },
  {
   "cell_type": "code",
   "execution_count": 54,
   "id": "6211cda6",
   "metadata": {},
   "outputs": [
    {
     "name": "stderr",
     "output_type": "stream",
     "text": [
      "C:\\Users\\82106\\AppData\\Local\\Temp/ipykernel_14112/3070909924.py:11: DataConversionWarning: A column-vector y was passed when a 1d array was expected. Please change the shape of y to (n_samples,), for example using ravel().\n",
      "  rf.fit(df_train_x, df_train_y)\n",
      "C:\\Users\\82106\\AppData\\Local\\Temp/ipykernel_14112/3070909924.py:11: DataConversionWarning: A column-vector y was passed when a 1d array was expected. Please change the shape of y to (n_samples,), for example using ravel().\n",
      "  rf.fit(df_train_x, df_train_y)\n",
      "C:\\Users\\82106\\AppData\\Local\\Temp/ipykernel_14112/3070909924.py:11: DataConversionWarning: A column-vector y was passed when a 1d array was expected. Please change the shape of y to (n_samples,), for example using ravel().\n",
      "  rf.fit(df_train_x, df_train_y)\n",
      "C:\\Users\\82106\\AppData\\Local\\Temp/ipykernel_14112/3070909924.py:11: DataConversionWarning: A column-vector y was passed when a 1d array was expected. Please change the shape of y to (n_samples,), for example using ravel().\n",
      "  rf.fit(df_train_x, df_train_y)\n",
      "C:\\Users\\82106\\AppData\\Local\\Temp/ipykernel_14112/3070909924.py:11: DataConversionWarning: A column-vector y was passed when a 1d array was expected. Please change the shape of y to (n_samples,), for example using ravel().\n",
      "  rf.fit(df_train_x, df_train_y)\n",
      "C:\\Users\\82106\\AppData\\Local\\Temp/ipykernel_14112/3070909924.py:11: DataConversionWarning: A column-vector y was passed when a 1d array was expected. Please change the shape of y to (n_samples,), for example using ravel().\n",
      "  rf.fit(df_train_x, df_train_y)\n",
      "C:\\Users\\82106\\AppData\\Local\\Temp/ipykernel_14112/3070909924.py:11: DataConversionWarning: A column-vector y was passed when a 1d array was expected. Please change the shape of y to (n_samples,), for example using ravel().\n",
      "  rf.fit(df_train_x, df_train_y)\n",
      "C:\\Users\\82106\\AppData\\Local\\Temp/ipykernel_14112/3070909924.py:11: DataConversionWarning: A column-vector y was passed when a 1d array was expected. Please change the shape of y to (n_samples,), for example using ravel().\n",
      "  rf.fit(df_train_x, df_train_y)\n",
      "C:\\Users\\82106\\AppData\\Local\\Temp/ipykernel_14112/3070909924.py:11: DataConversionWarning: A column-vector y was passed when a 1d array was expected. Please change the shape of y to (n_samples,), for example using ravel().\n",
      "  rf.fit(df_train_x, df_train_y)\n",
      "C:\\Users\\82106\\AppData\\Local\\Temp/ipykernel_14112/3070909924.py:11: DataConversionWarning: A column-vector y was passed when a 1d array was expected. Please change the shape of y to (n_samples,), for example using ravel().\n",
      "  rf.fit(df_train_x, df_train_y)\n"
     ]
    }
   ],
   "source": [
    "# 하이퍼 파라미터 조정 : 트리의 최대 깊이 조정\n",
    "# 깊이가 깊어지면 과적합될 수 있으므로 적절히 제어 필요\n",
    "train_score = []; test_score = []\n",
    "\n",
    "para_depth=[depth for depth in range(1, 11)]\n",
    "\n",
    "for v_max_depth in para_depth :\n",
    "    rf = RandomForestRegressor(n_estimators = 150, random_state = 1234,\n",
    "                              min_samples_leaf=81,\n",
    "                              max_depth = v_max_depth)\n",
    "    rf.fit(df_train_x, df_train_y)\n",
    "    train_score.append(rf.score(df_train_x, df_train_y))\n",
    "    test_score.append(rf.score(df_test_x, df_test_y))\n",
    "\n",
    "#결과 저장\n",
    "df_score_depth = pd.DataFrame()\n",
    "df_score_depth['Depth']=para_depth\n",
    "df_score_depth['TrainScore']=train_score\n",
    "df_score_depth['TestScore']=test_score"
   ]
  },
  {
   "cell_type": "code",
   "execution_count": 55,
   "id": "73c12df6",
   "metadata": {},
   "outputs": [
    {
     "data": {
      "text/html": [
       "<div>\n",
       "<style scoped>\n",
       "    .dataframe tbody tr th:only-of-type {\n",
       "        vertical-align: middle;\n",
       "    }\n",
       "\n",
       "    .dataframe tbody tr th {\n",
       "        vertical-align: top;\n",
       "    }\n",
       "\n",
       "    .dataframe thead th {\n",
       "        text-align: right;\n",
       "    }\n",
       "</style>\n",
       "<table border=\"1\" class=\"dataframe\">\n",
       "  <thead>\n",
       "    <tr style=\"text-align: right;\">\n",
       "      <th></th>\n",
       "      <th>Depth</th>\n",
       "      <th>TrainScore</th>\n",
       "      <th>TestScore</th>\n",
       "    </tr>\n",
       "  </thead>\n",
       "  <tbody>\n",
       "    <tr>\n",
       "      <th>0</th>\n",
       "      <td>1</td>\n",
       "      <td>0.066</td>\n",
       "      <td>0.070</td>\n",
       "    </tr>\n",
       "    <tr>\n",
       "      <th>1</th>\n",
       "      <td>2</td>\n",
       "      <td>0.108</td>\n",
       "      <td>0.100</td>\n",
       "    </tr>\n",
       "    <tr>\n",
       "      <th>2</th>\n",
       "      <td>3</td>\n",
       "      <td>0.153</td>\n",
       "      <td>0.134</td>\n",
       "    </tr>\n",
       "    <tr>\n",
       "      <th>3</th>\n",
       "      <td>4</td>\n",
       "      <td>0.188</td>\n",
       "      <td>0.156</td>\n",
       "    </tr>\n",
       "    <tr>\n",
       "      <th>4</th>\n",
       "      <td>5</td>\n",
       "      <td>0.210</td>\n",
       "      <td>0.167</td>\n",
       "    </tr>\n",
       "    <tr>\n",
       "      <th>5</th>\n",
       "      <td>6</td>\n",
       "      <td>0.220</td>\n",
       "      <td>0.169</td>\n",
       "    </tr>\n",
       "    <tr>\n",
       "      <th>6</th>\n",
       "      <td>7</td>\n",
       "      <td>0.223</td>\n",
       "      <td>0.169</td>\n",
       "    </tr>\n",
       "    <tr>\n",
       "      <th>7</th>\n",
       "      <td>8</td>\n",
       "      <td>0.224</td>\n",
       "      <td>0.169</td>\n",
       "    </tr>\n",
       "    <tr>\n",
       "      <th>8</th>\n",
       "      <td>9</td>\n",
       "      <td>0.224</td>\n",
       "      <td>0.169</td>\n",
       "    </tr>\n",
       "    <tr>\n",
       "      <th>9</th>\n",
       "      <td>10</td>\n",
       "      <td>0.224</td>\n",
       "      <td>0.169</td>\n",
       "    </tr>\n",
       "  </tbody>\n",
       "</table>\n",
       "</div>"
      ],
      "text/plain": [
       "   Depth  TrainScore  TestScore\n",
       "0      1       0.066      0.070\n",
       "1      2       0.108      0.100\n",
       "2      3       0.153      0.134\n",
       "3      4       0.188      0.156\n",
       "4      5       0.210      0.167\n",
       "5      6       0.220      0.169\n",
       "6      7       0.223      0.169\n",
       "7      8       0.224      0.169\n",
       "8      9       0.224      0.169\n",
       "9     10       0.224      0.169"
      ]
     },
     "execution_count": 55,
     "metadata": {},
     "output_type": "execute_result"
    }
   ],
   "source": [
    "#모델 설명력 확인\n",
    "df_score_depth.round(3)"
   ]
  },
  {
   "cell_type": "code",
   "execution_count": 56,
   "id": "6081ccde",
   "metadata": {},
   "outputs": [
    {
     "data": {
      "text/plain": [
       "<function matplotlib.pyplot.legend(*args, **kwargs)>"
      ]
     },
     "execution_count": 56,
     "metadata": {},
     "output_type": "execute_result"
    },
    {
     "data": {
      "image/png": "[encoded data removed]",
      "text/plain": [
       "<Figure size 432x288 with 1 Axes>"
      ]
     },
     "metadata": {
      "needs_background": "light"
     },
     "output_type": "display_data"
    }
   ],
   "source": [
    "plt.plot(para_depth, train_score, linestyle='-', label = 'Train Score')\n",
    "plt.plot(para_depth, test_score, linestyle='-', label = 'Test Score')\n",
    "plt.ylabel('score'); plt.xlabel('max depth')\n",
    "plt.legend"
   ]
  },
  {
   "cell_type": "code",
   "execution_count": 57,
   "id": "8d886090",
   "metadata": {},
   "outputs": [
    {
     "name": "stderr",
     "output_type": "stream",
     "text": [
      "C:\\Users\\82106\\AppData\\Local\\Temp/ipykernel_14112/1592707993.py:4: DataConversionWarning: A column-vector y was passed when a 1d array was expected. Please change the shape of y to (n_samples,), for example using ravel().\n",
      "  rf_final.fit(df_train_x, df_train_y)\n"
     ]
    },
    {
     "name": "stdout",
     "output_type": "stream",
     "text": [
      "Score on training sef: 0.220\n",
      "Score on test set: 0.169\n"
     ]
    }
   ],
   "source": [
    "#최종 모델 생성\n",
    "rf_final=RandomForestRegressor(random_state=1234, n_estimators=150, min_samples_leaf=81,\n",
    "                               max_depth=6)\n",
    "rf_final.fit(df_train_x, df_train_y)\n",
    "print('Score on training sef: {:.3f}'.format(rf_final.score(df_train_x, df_train_y))) # train 설명력\n",
    "print('Score on test set: {:.3f}'.format(rf_final.score(df_test_x, df_test_y))) # test 설명력"
   ]
  },
  {
   "cell_type": "code",
   "execution_count": 58,
   "id": "b84a410b",
   "metadata": {},
   "outputs": [
    {
     "data": {
      "text/html": [
       "<div>\n",
       "<style scoped>\n",
       "    .dataframe tbody tr th:only-of-type {\n",
       "        vertical-align: middle;\n",
       "    }\n",
       "\n",
       "    .dataframe tbody tr th {\n",
       "        vertical-align: top;\n",
       "    }\n",
       "\n",
       "    .dataframe thead th {\n",
       "        text-align: right;\n",
       "    }\n",
       "</style>\n",
       "<table border=\"1\" class=\"dataframe\">\n",
       "  <thead>\n",
       "    <tr style=\"text-align: right;\">\n",
       "      <th></th>\n",
       "      <th>Feature</th>\n",
       "      <th>Importance</th>\n",
       "    </tr>\n",
       "  </thead>\n",
       "  <tbody>\n",
       "    <tr>\n",
       "      <th>16</th>\n",
       "      <td>AvgCharge</td>\n",
       "      <td>0.375</td>\n",
       "    </tr>\n",
       "    <tr>\n",
       "      <th>4</th>\n",
       "      <td>noReferrals</td>\n",
       "      <td>0.200</td>\n",
       "    </tr>\n",
       "    <tr>\n",
       "      <th>19</th>\n",
       "      <td>TenureMonths</td>\n",
       "      <td>0.118</td>\n",
       "    </tr>\n",
       "    <tr>\n",
       "      <th>7</th>\n",
       "      <td>OnlineSecurity</td>\n",
       "      <td>0.099</td>\n",
       "    </tr>\n",
       "    <tr>\n",
       "      <th>11</th>\n",
       "      <td>AvgDownloadGB</td>\n",
       "      <td>0.034</td>\n",
       "    </tr>\n",
       "    <tr>\n",
       "      <th>15</th>\n",
       "      <td>TotalLongDistanceCharge</td>\n",
       "      <td>0.029</td>\n",
       "    </tr>\n",
       "    <tr>\n",
       "      <th>9</th>\n",
       "      <td>TechSupport</td>\n",
       "      <td>0.024</td>\n",
       "    </tr>\n",
       "    <tr>\n",
       "      <th>3</th>\n",
       "      <td>Referrals</td>\n",
       "      <td>0.023</td>\n",
       "    </tr>\n",
       "    <tr>\n",
       "      <th>18</th>\n",
       "      <td>TotalRevenue</td>\n",
       "      <td>0.020</td>\n",
       "    </tr>\n",
       "    <tr>\n",
       "      <th>17</th>\n",
       "      <td>TotalCharge</td>\n",
       "      <td>0.020</td>\n",
       "    </tr>\n",
       "    <tr>\n",
       "      <th>1</th>\n",
       "      <td>Dependents</td>\n",
       "      <td>0.019</td>\n",
       "    </tr>\n",
       "    <tr>\n",
       "      <th>2</th>\n",
       "      <td>noDependents</td>\n",
       "      <td>0.016</td>\n",
       "    </tr>\n",
       "    <tr>\n",
       "      <th>14</th>\n",
       "      <td>AvgLongDistanceCharge</td>\n",
       "      <td>0.011</td>\n",
       "    </tr>\n",
       "    <tr>\n",
       "      <th>0</th>\n",
       "      <td>Married</td>\n",
       "      <td>0.008</td>\n",
       "    </tr>\n",
       "    <tr>\n",
       "      <th>8</th>\n",
       "      <td>DeviceProtection</td>\n",
       "      <td>0.003</td>\n",
       "    </tr>\n",
       "    <tr>\n",
       "      <th>6</th>\n",
       "      <td>PaperlessBilling</td>\n",
       "      <td>0.002</td>\n",
       "    </tr>\n",
       "    <tr>\n",
       "      <th>22</th>\n",
       "      <td>AgeGroup_40대</td>\n",
       "      <td>0.001</td>\n",
       "    </tr>\n",
       "    <tr>\n",
       "      <th>20</th>\n",
       "      <td>AgeGroup_20대</td>\n",
       "      <td>0.000</td>\n",
       "    </tr>\n",
       "    <tr>\n",
       "      <th>10</th>\n",
       "      <td>UnlimitedData</td>\n",
       "      <td>0.000</td>\n",
       "    </tr>\n",
       "    <tr>\n",
       "      <th>24</th>\n",
       "      <td>AgeGroup_60대</td>\n",
       "      <td>0.000</td>\n",
       "    </tr>\n",
       "    <tr>\n",
       "      <th>25</th>\n",
       "      <td>AgeGroup_70대</td>\n",
       "      <td>0.000</td>\n",
       "    </tr>\n",
       "    <tr>\n",
       "      <th>23</th>\n",
       "      <td>AgeGroup_50대</td>\n",
       "      <td>0.000</td>\n",
       "    </tr>\n",
       "    <tr>\n",
       "      <th>13</th>\n",
       "      <td>TotalExtraDataCharge</td>\n",
       "      <td>0.000</td>\n",
       "    </tr>\n",
       "    <tr>\n",
       "      <th>21</th>\n",
       "      <td>AgeGroup_30대</td>\n",
       "      <td>0.000</td>\n",
       "    </tr>\n",
       "    <tr>\n",
       "      <th>12</th>\n",
       "      <td>TotalRefund</td>\n",
       "      <td>0.000</td>\n",
       "    </tr>\n",
       "    <tr>\n",
       "      <th>5</th>\n",
       "      <td>Contract</td>\n",
       "      <td>0.000</td>\n",
       "    </tr>\n",
       "    <tr>\n",
       "      <th>26</th>\n",
       "      <td>AgeGroup_80대</td>\n",
       "      <td>0.000</td>\n",
       "    </tr>\n",
       "  </tbody>\n",
       "</table>\n",
       "</div>"
      ],
      "text/plain": [
       "                    Feature  Importance\n",
       "16                AvgCharge       0.375\n",
       "4               noReferrals       0.200\n",
       "19             TenureMonths       0.118\n",
       "7            OnlineSecurity       0.099\n",
       "11            AvgDownloadGB       0.034\n",
       "15  TotalLongDistanceCharge       0.029\n",
       "9               TechSupport       0.024\n",
       "3                 Referrals       0.023\n",
       "18             TotalRevenue       0.020\n",
       "17              TotalCharge       0.020\n",
       "1                Dependents       0.019\n",
       "2              noDependents       0.016\n",
       "14    AvgLongDistanceCharge       0.011\n",
       "0                   Married       0.008\n",
       "8          DeviceProtection       0.003\n",
       "6          PaperlessBilling       0.002\n",
       "22             AgeGroup_40대       0.001\n",
       "20             AgeGroup_20대       0.000\n",
       "10            UnlimitedData       0.000\n",
       "24             AgeGroup_60대       0.000\n",
       "25             AgeGroup_70대       0.000\n",
       "23             AgeGroup_50대       0.000\n",
       "13     TotalExtraDataCharge       0.000\n",
       "21             AgeGroup_30대       0.000\n",
       "12              TotalRefund       0.000\n",
       "5                  Contract       0.000\n",
       "26             AgeGroup_80대       0.000"
      ]
     },
     "execution_count": 58,
     "metadata": {},
     "output_type": "execute_result"
    }
   ],
   "source": [
    "v_feature_name=df_train_x.columns\n",
    "\n",
    "# 설명변수의 중요도\n",
    "df_importance = pd.DataFrame()\n",
    "df_importance['Feature']=v_feature_name\n",
    "df_importance['Importance']=rf_final.feature_importances_\n",
    "\n",
    "#df_feature_importance의 테이블을 중요도 순으로 정렬\n",
    "df_importance.sort_values('Importance', ascending=False, inplace=True)\n",
    "df_importance.round(3)"
   ]
  },
  {
   "cell_type": "markdown",
   "id": "4c4b3bdd",
   "metadata": {},
   "source": [
    "- 만족도에는 평균 과금액이 가장 큰 영향을 미치는 것으로 보임"
   ]
  },
  {
   "cell_type": "markdown",
   "id": "f0691fb9",
   "metadata": {},
   "source": [
    "### 이탈률 개선을 위한 분석 2\n",
    "**부가서비스 : 5가지 서비스에 따른 인사이트 도출    \n",
    "연관분석을 통해 서비스 간의 연관성 분석**"
   ]
  },
  {
   "cell_type": "code",
   "execution_count": 59,
   "id": "2112c098",
   "metadata": {},
   "outputs": [],
   "source": [
    "# !pip install mlxtend\n",
    "# 연관분석 패키지 임포트\n",
    "from mlxtend.frequent_patterns import apriori\n",
    "from mlxtend.frequent_patterns import association_rules\n",
    "from mlxtend.preprocessing import TransactionEncoder"
   ]
  },
  {
   "cell_type": "code",
   "execution_count": 60,
   "id": "4a8b9de4",
   "metadata": {},
   "outputs": [],
   "source": [
    "service = ['OnlineSecurity','OnlineBackup','DeviceProtection','TechSupport','UnlimitedData']\n",
    "\n",
    "for i in service:\n",
    "    customer_df[i] = customer_df[i].map(lambda x : 0 if x == \"No\" else 1) # lambda를 이용해 수치형으로 변환 : Yes/No > 1/0\n",
    "\n",
    "# 연관분석 패키지에 맞는 데이터 구조 만들기\n",
    "link_df = customer_df[[\"OnlineSecurity\",\"OnlineBackup\",\"DeviceProtection\",\"TechSupport\",\"UnlimitedData\"]]"
   ]
  },
  {
   "cell_type": "code",
   "execution_count": 61,
   "id": "c31e7576",
   "metadata": {},
   "outputs": [
    {
     "data": {
      "text/html": [
       "<div>\n",
       "<style scoped>\n",
       "    .dataframe tbody tr th:only-of-type {\n",
       "        vertical-align: middle;\n",
       "    }\n",
       "\n",
       "    .dataframe tbody tr th {\n",
       "        vertical-align: top;\n",
       "    }\n",
       "\n",
       "    .dataframe thead th {\n",
       "        text-align: right;\n",
       "    }\n",
       "</style>\n",
       "<table border=\"1\" class=\"dataframe\">\n",
       "  <thead>\n",
       "    <tr style=\"text-align: right;\">\n",
       "      <th></th>\n",
       "      <th>support</th>\n",
       "      <th>itemsets</th>\n",
       "    </tr>\n",
       "  </thead>\n",
       "  <tbody>\n",
       "    <tr>\n",
       "      <th>0</th>\n",
       "      <td>0.350</td>\n",
       "      <td>(OnlineSecurity)</td>\n",
       "    </tr>\n",
       "    <tr>\n",
       "      <th>1</th>\n",
       "      <td>0.417</td>\n",
       "      <td>(OnlineBackup)</td>\n",
       "    </tr>\n",
       "    <tr>\n",
       "      <th>2</th>\n",
       "      <td>0.421</td>\n",
       "      <td>(DeviceProtection)</td>\n",
       "    </tr>\n",
       "    <tr>\n",
       "      <th>3</th>\n",
       "      <td>0.354</td>\n",
       "      <td>(TechSupport)</td>\n",
       "    </tr>\n",
       "    <tr>\n",
       "      <th>4</th>\n",
       "      <td>0.677</td>\n",
       "      <td>(UnlimitedData)</td>\n",
       "    </tr>\n",
       "    <tr>\n",
       "      <th>5</th>\n",
       "      <td>0.208</td>\n",
       "      <td>(OnlineSecurity, OnlineBackup)</td>\n",
       "    </tr>\n",
       "    <tr>\n",
       "      <th>6</th>\n",
       "      <td>0.207</td>\n",
       "      <td>(OnlineSecurity, DeviceProtection)</td>\n",
       "    </tr>\n",
       "    <tr>\n",
       "      <th>7</th>\n",
       "      <td>0.202</td>\n",
       "      <td>(TechSupport, OnlineSecurity)</td>\n",
       "    </tr>\n",
       "    <tr>\n",
       "      <th>8</th>\n",
       "      <td>0.304</td>\n",
       "      <td>(OnlineSecurity, UnlimitedData)</td>\n",
       "    </tr>\n",
       "    <tr>\n",
       "      <th>9</th>\n",
       "      <td>0.246</td>\n",
       "      <td>(OnlineBackup, DeviceProtection)</td>\n",
       "    </tr>\n",
       "    <tr>\n",
       "      <th>10</th>\n",
       "      <td>0.211</td>\n",
       "      <td>(TechSupport, OnlineBackup)</td>\n",
       "    </tr>\n",
       "    <tr>\n",
       "      <th>11</th>\n",
       "      <td>0.357</td>\n",
       "      <td>(OnlineBackup, UnlimitedData)</td>\n",
       "    </tr>\n",
       "    <tr>\n",
       "      <th>12</th>\n",
       "      <td>0.222</td>\n",
       "      <td>(TechSupport, DeviceProtection)</td>\n",
       "    </tr>\n",
       "    <tr>\n",
       "      <th>13</th>\n",
       "      <td>0.365</td>\n",
       "      <td>(DeviceProtection, UnlimitedData)</td>\n",
       "    </tr>\n",
       "    <tr>\n",
       "      <th>14</th>\n",
       "      <td>0.303</td>\n",
       "      <td>(TechSupport, UnlimitedData)</td>\n",
       "    </tr>\n",
       "    <tr>\n",
       "      <th>15</th>\n",
       "      <td>0.133</td>\n",
       "      <td>(OnlineSecurity, OnlineBackup, DeviceProtection)</td>\n",
       "    </tr>\n",
       "    <tr>\n",
       "      <th>16</th>\n",
       "      <td>0.130</td>\n",
       "      <td>(TechSupport, OnlineSecurity, OnlineBackup)</td>\n",
       "    </tr>\n",
       "    <tr>\n",
       "      <th>17</th>\n",
       "      <td>0.180</td>\n",
       "      <td>(OnlineSecurity, OnlineBackup, UnlimitedData)</td>\n",
       "    </tr>\n",
       "    <tr>\n",
       "      <th>18</th>\n",
       "      <td>0.135</td>\n",
       "      <td>(TechSupport, OnlineSecurity, DeviceProtection)</td>\n",
       "    </tr>\n",
       "    <tr>\n",
       "      <th>19</th>\n",
       "      <td>0.183</td>\n",
       "      <td>(OnlineSecurity, DeviceProtection, UnlimitedData)</td>\n",
       "    </tr>\n",
       "    <tr>\n",
       "      <th>20</th>\n",
       "      <td>0.174</td>\n",
       "      <td>(TechSupport, OnlineSecurity, UnlimitedData)</td>\n",
       "    </tr>\n",
       "    <tr>\n",
       "      <th>21</th>\n",
       "      <td>0.138</td>\n",
       "      <td>(TechSupport, OnlineBackup, DeviceProtection)</td>\n",
       "    </tr>\n",
       "    <tr>\n",
       "      <th>22</th>\n",
       "      <td>0.211</td>\n",
       "      <td>(OnlineBackup, DeviceProtection, UnlimitedData)</td>\n",
       "    </tr>\n",
       "    <tr>\n",
       "      <th>23</th>\n",
       "      <td>0.180</td>\n",
       "      <td>(TechSupport, OnlineBackup, UnlimitedData)</td>\n",
       "    </tr>\n",
       "    <tr>\n",
       "      <th>24</th>\n",
       "      <td>0.191</td>\n",
       "      <td>(TechSupport, DeviceProtection, UnlimitedData)</td>\n",
       "    </tr>\n",
       "    <tr>\n",
       "      <th>25</th>\n",
       "      <td>0.091</td>\n",
       "      <td>(TechSupport, OnlineSecurity, OnlineBackup, De...</td>\n",
       "    </tr>\n",
       "    <tr>\n",
       "      <th>26</th>\n",
       "      <td>0.116</td>\n",
       "      <td>(OnlineSecurity, OnlineBackup, DeviceProtectio...</td>\n",
       "    </tr>\n",
       "    <tr>\n",
       "      <th>27</th>\n",
       "      <td>0.112</td>\n",
       "      <td>(TechSupport, OnlineSecurity, OnlineBackup, Un...</td>\n",
       "    </tr>\n",
       "    <tr>\n",
       "      <th>28</th>\n",
       "      <td>0.118</td>\n",
       "      <td>(TechSupport, OnlineSecurity, DeviceProtection...</td>\n",
       "    </tr>\n",
       "    <tr>\n",
       "      <th>29</th>\n",
       "      <td>0.118</td>\n",
       "      <td>(TechSupport, OnlineBackup, DeviceProtection, ...</td>\n",
       "    </tr>\n",
       "    <tr>\n",
       "      <th>30</th>\n",
       "      <td>0.079</td>\n",
       "      <td>(OnlineSecurity, DeviceProtection, UnlimitedDa...</td>\n",
       "    </tr>\n",
       "  </tbody>\n",
       "</table>\n",
       "</div>"
      ],
      "text/plain": [
       "    support                                           itemsets\n",
       "0     0.350                                   (OnlineSecurity)\n",
       "1     0.417                                     (OnlineBackup)\n",
       "2     0.421                                 (DeviceProtection)\n",
       "3     0.354                                      (TechSupport)\n",
       "4     0.677                                    (UnlimitedData)\n",
       "5     0.208                     (OnlineSecurity, OnlineBackup)\n",
       "6     0.207                 (OnlineSecurity, DeviceProtection)\n",
       "7     0.202                      (TechSupport, OnlineSecurity)\n",
       "8     0.304                    (OnlineSecurity, UnlimitedData)\n",
       "9     0.246                   (OnlineBackup, DeviceProtection)\n",
       "10    0.211                        (TechSupport, OnlineBackup)\n",
       "11    0.357                      (OnlineBackup, UnlimitedData)\n",
       "12    0.222                    (TechSupport, DeviceProtection)\n",
       "13    0.365                  (DeviceProtection, UnlimitedData)\n",
       "14    0.303                       (TechSupport, UnlimitedData)\n",
       "15    0.133   (OnlineSecurity, OnlineBackup, DeviceProtection)\n",
       "16    0.130        (TechSupport, OnlineSecurity, OnlineBackup)\n",
       "17    0.180      (OnlineSecurity, OnlineBackup, UnlimitedData)\n",
       "18    0.135    (TechSupport, OnlineSecurity, DeviceProtection)\n",
       "19    0.183  (OnlineSecurity, DeviceProtection, UnlimitedData)\n",
       "20    0.174       (TechSupport, OnlineSecurity, UnlimitedData)\n",
       "21    0.138      (TechSupport, OnlineBackup, DeviceProtection)\n",
       "22    0.211    (OnlineBackup, DeviceProtection, UnlimitedData)\n",
       "23    0.180         (TechSupport, OnlineBackup, UnlimitedData)\n",
       "24    0.191     (TechSupport, DeviceProtection, UnlimitedData)\n",
       "25    0.091  (TechSupport, OnlineSecurity, OnlineBackup, De...\n",
       "26    0.116  (OnlineSecurity, OnlineBackup, DeviceProtectio...\n",
       "27    0.112  (TechSupport, OnlineSecurity, OnlineBackup, Un...\n",
       "28    0.118  (TechSupport, OnlineSecurity, DeviceProtection...\n",
       "29    0.118  (TechSupport, OnlineBackup, DeviceProtection, ...\n",
       "30    0.079  (OnlineSecurity, DeviceProtection, UnlimitedDa..."
      ]
     },
     "execution_count": 61,
     "metadata": {},
     "output_type": "execute_result"
    }
   ],
   "source": [
    "v_min_sup=0.01\n",
    "link_result = apriori(link_df, min_support=v_min_sup, use_colnames=True)\n",
    "link_result.round(3)"
   ]
  },
  {
   "cell_type": "markdown",
   "id": "348a0568",
   "metadata": {},
   "source": [
    "    P(기술보호)=0.420, P(기술보호∩무제한데이터)=0.365     \n",
    "    P(기술지원)=0.354, P(기술지원∩무제한데이터)=0.304    \n",
    "    대부분 무제한데이터를 사용하고 3명 중 1명 고객정도는 추가 서비스를 하나 더 선택함"
   ]
  },
  {
   "cell_type": "markdown",
   "id": "7f52274d",
   "metadata": {},
   "source": [
    "#### 많은 고객이 사용하는 '무제한 데이터'에 대한 추가 분석"
   ]
  },
  {
   "cell_type": "code",
   "execution_count": 91,
   "id": "52da4496",
   "metadata": {},
   "outputs": [],
   "source": [
    "def unlimited_plot_hist(data, var):\n",
    "    plt.hist(data[data[\"UnlimitedData\"] == 1][var], label = \"가입\", alpha = 0.5, align='left') # 1=Yes\n",
    "    plt.hist(data[data[\"UnlimitedData\"] == 0][var], label = \"미가입\", alpha = 0.5, align='left') # 0=No"
   ]
  },
  {
   "cell_type": "code",
   "execution_count": 94,
   "id": "802c4ab6",
   "metadata": {},
   "outputs": [
    {
     "data": {
      "text/plain": [
       "<matplotlib.legend.Legend at 0x1fff2e029d0>"
      ]
     },
     "execution_count": 94,
     "metadata": {},
     "output_type": "execute_result"
    },
    {
     "data": {
      "image/png": "[encoded data removed]",
      "text/plain": [
       "<Figure size 432x288 with 1 Axes>"
      ]
     },
     "metadata": {
      "needs_background": "light"
     },
     "output_type": "display_data"
    }
   ],
   "source": [
    "unlimited_plot_hist(customer_df,'SatisScore')\n",
    "plt.legend()\n",
    "plt.title(\"무제한 데이터 가입 여부에 따른 만족도 점수\", fontsize=14, pad=10)\n",
    "plt.xlabel(\"만족도 점수\", labelpad=5)\n",
    "plt.xticks(np.arange(1,5.5,1))\n",
    "plt.ylabel(\"고객 수\", rotation=0, labelpad=25)\n",
    "plt.legend(shadow=True)\n",
    "#무제한 데이터에 가입한 고객의 만족도가 낮음"
   ]
  },
  {
   "cell_type": "code",
   "execution_count": 106,
   "id": "c243ef66",
   "metadata": {},
   "outputs": [
    {
     "data": {
      "text/plain": [
       "<matplotlib.legend.Legend at 0x1fff304a160>"
      ]
     },
     "execution_count": 106,
     "metadata": {},
     "output_type": "execute_result"
    },
    {
     "data": {
      "image/png": "[encoded data removed]",
      "text/plain": [
       "<Figure size 432x288 with 1 Axes>"
      ]
     },
     "metadata": {
      "needs_background": "light"
     },
     "output_type": "display_data"
    }
   ],
   "source": [
    "unlimited_plot_hist(customer_df,'ChurnLabel')\n",
    "plt.title(\"무제한 데이터 가입 여부에 이탈 여부\", fontsize=14, pad=10)\n",
    "plt.xlabel('이탈 여부', labelpad=5)\n",
    "plt.ylabel(\"고객 수\", rotation=0, labelpad=25)\n",
    "plt.legend(shadow=True)\n",
    "#무제한 데이터 고객 중 이탈률 22% (전체 이탈률:17.5%)"
   ]
  },
  {
   "cell_type": "markdown",
   "id": "bb5c2e2c",
   "metadata": {},
   "source": [
    "- 무제한 데이터 고객 중 이탈률 22% (전체 이탈률:17.5%)\n",
    "- 서비스 가입률은 높은 편(67.6%)이지만 만족도가 낮아 이탈자 발생 → 서비스 품질 문제 파악"
   ]
  },
  {
   "cell_type": "markdown",
   "id": "b2031b1b",
   "metadata": {},
   "source": [
    "### 이탈률 개선을 위한 분석 3\n",
    "#### 사용패턴 : 평균 과금액, 다운로드양, 계약기간에 따른 인사이트 도출"
   ]
  },
  {
   "cell_type": "code",
   "execution_count": 105,
   "id": "70b00576",
   "metadata": {},
   "outputs": [
    {
     "data": {
      "text/plain": [
       "<matplotlib.legend.Legend at 0x1fff7638fd0>"
      ]
     },
     "execution_count": 105,
     "metadata": {},
     "output_type": "execute_result"
    },
    {
     "data": {
      "image/png": "[encoded data removed]",
      "text/plain": [
       "<Figure size 432x288 with 1 Axes>"
      ]
     },
     "metadata": {
      "needs_background": "light"
     },
     "output_type": "display_data"
    }
   ],
   "source": [
    "# 평균 과금액 \n",
    "fun_plot_hist(customer_df,'AvgCharge')\n",
    "plt.title(\"이탈 여부에 따른 평균 과금액 분포\", fontsize=14, pad=10)\n",
    "plt.xlabel('평균 과금액(달러)',labelpad=10)\n",
    "plt.ylabel(\"고객 수\", rotation=0, labelpad=25)\n",
    "plt.legend(shadow=True)"
   ]
  },
  {
   "cell_type": "markdown",
   "id": "c0a8a589",
   "metadata": {},
   "source": [
    "- 평균 과금액이 높을수록 이탈자 수가 많음 → 서비스 품질에 비해 비싼 비용에 부담을 느낀다는 것을 알 수 있음    \n",
    "- 서비스 품질 관리와 요금제에 대한 개선이 필요함"
   ]
  },
  {
   "cell_type": "code",
   "execution_count": 110,
   "id": "78c3a675",
   "metadata": {},
   "outputs": [
    {
     "data": {
      "text/plain": [
       "<matplotlib.legend.Legend at 0x1fff7949bb0>"
      ]
     },
     "execution_count": 110,
     "metadata": {},
     "output_type": "execute_result"
    },
    {
     "data": {
      "image/png": "[encoded data removed]",
      "text/plain": [
       "<Figure size 432x288 with 1 Axes>"
      ]
     },
     "metadata": {
      "needs_background": "light"
     },
     "output_type": "display_data"
    }
   ],
   "source": [
    "# 다운로드양\n",
    "customer_df[customer_df['ChurnLabel']=='Yes'].groupby('AgeGroup')['AvgDownloadGB'].mean().plot(label='이탈')\n",
    "customer_df[customer_df['ChurnLabel']=='No'].groupby('AgeGroup')['AvgDownloadGB'].mean().plot(label='유지')\n",
    "plt.title(\"이탈 여부와 연령대 따른 평균 다운로드 양\", fontsize=14, pad=10)\n",
    "plt.xlabel('연령대',labelpad=10)\n",
    "plt.ylabel('평균 다운로드 양', rotation=0, labelpad=50)\n",
    "plt.legend(shadow=True)"
   ]
  },
  {
   "cell_type": "markdown",
   "id": "a4dc5aa8",
   "metadata": {},
   "source": [
    "- 예상했듯이 2030대의 다운로드 양이 가장 많음\n",
    "- 앞선 분석에서 무제한 데이터 서비스를 사용하는 고객이 많았음에도, 이탈 이유로 데이터 품질 문제가 다수 나타났기 때문에 특히나 개선이 필요\n",
    "- 다운로드 양이 많기 때문에 저장용량을 넉넉히 할 수 있는 클라우드 서비스 추천"
   ]
  },
  {
   "cell_type": "code",
   "execution_count": 111,
   "id": "9cde884f",
   "metadata": {},
   "outputs": [
    {
     "data": {
      "text/plain": [
       "<matplotlib.legend.Legend at 0x1fff78f4490>"
      ]
     },
     "execution_count": 111,
     "metadata": {},
     "output_type": "execute_result"
    },
    {
     "data": {
      "image/png": "[encoded data removed]",
      "text/plain": [
       "<Figure size 432x288 with 1 Axes>"
      ]
     },
     "metadata": {
      "needs_background": "light"
     },
     "output_type": "display_data"
    }
   ],
   "source": [
    "# 약정기간\n",
    "fun_plot_hist(customer_df,'Contract')\n",
    "plt.title(\"약정기간에 따른 이탈 여부\", fontsize=14, pad=10)\n",
    "plt.xlabel('약정기간',labelpad=10)\n",
    "plt.ylabel('고객 수', rotation=0, labelpad=50)\n",
    "plt.legend(shadow=True)"
   ]
  },
  {
   "cell_type": "markdown",
   "id": "d340bb82",
   "metadata": {},
   "source": [
    "- 약정기간 2년일 때 이탈자 수가 적음\n",
    "- 마케팅 시 1년보다는 2년 약정이 더 나을 것으로 기대"
   ]
  },
  {
   "cell_type": "markdown",
   "id": "e0dab8d3",
   "metadata": {},
   "source": [
    "# 3. 모델링 및 평가\n",
    "### 고객 이탈 여부 예측 모델링 및 평가와 LTV 모델 개선 필요성 확인"
   ]
  },
  {
   "cell_type": "markdown",
   "id": "66cf8163",
   "metadata": {},
   "source": [
    "#### 고객 이탈여부 모델\n",
    "- 이탈여부(ChurnLabel)을 알아보기때문에 분류모델 사용\n",
    "- 분류 모델에 평가 지표에는 정확도, 정밀도, 재현율, F1 Score, AUC 등이 있음\n",
    "- 고객 이탈에 대한 분류로 불균형한 데이터일 경우에는 정확도만으로는 올바른 평가를 할 수 없음\n",
    "- 정밀도와 재현율의 수치가 조합된 F1 score로 평가하는 것이 가장 적합"
   ]
  },
  {
   "cell_type": "code",
   "execution_count": 139,
   "id": "404297f6",
   "metadata": {},
   "outputs": [],
   "source": [
    "model_df = customer_df\n",
    "# model_df\n",
    "model_df.replace({'Yes':1, 'No':0},inplace=True)\n",
    "model_df.replace({'Male':1, 'Female':0},inplace=True)\n",
    "model_df.replace({'2Year':1, '1Year':0},inplace=True)"
   ]
  },
  {
   "cell_type": "code",
   "execution_count": 114,
   "id": "24293565",
   "metadata": {},
   "outputs": [
    {
     "data": {
      "text/plain": [
       "Index(['CustomerId', 'ContractID', 'CustomerLTV', 'ChurnScore', 'SatisScore',\n",
       "       'ChurnLabel', 'Gender', 'Age', 'AgeGroup', 'Married', 'Dependents',\n",
       "       'noDependents', 'Referrals', 'noReferrals', 'Contract',\n",
       "       'PaperlessBilling', 'PaymentMethod', 'OnlineSecurity', 'OnlineBackup',\n",
       "       'DeviceProtection', 'TechSupport', 'UnlimitedData', 'AvgDownloadGB',\n",
       "       'TotalRefund', 'TotalExtraDataCharge', 'AvgLongDistanceCharge',\n",
       "       'TotalLongDistanceCharge', 'StartDate', 'EndDate', 'ChurnCategory',\n",
       "       'ChurnReason', 'AvgCharge', 'TotalCharge', 'TotalRevenue',\n",
       "       'TenureMonths'],\n",
       "      dtype='object')"
      ]
     },
     "execution_count": 114,
     "metadata": {},
     "output_type": "execute_result"
    }
   ],
   "source": [
    "model_df.columns"
   ]
  },
  {
   "cell_type": "code",
   "execution_count": 115,
   "id": "10755d5c",
   "metadata": {},
   "outputs": [],
   "source": [
    "model_y = model_df['ChurnLabel']\n",
    "model_x = model_df.drop(['CustomerId','ContractID','ChurnLabel','ChurnScore','Gender','StartDate','EndDate','ChurnCategory','ChurnReason',],axis=1) # 의미없는 명목형 삭제"
   ]
  },
  {
   "cell_type": "code",
   "execution_count": 116,
   "id": "3c0084d6",
   "metadata": {},
   "outputs": [
    {
     "name": "stdout",
     "output_type": "stream",
     "text": [
      "train data X size : (3516, 34)\n",
      "train data Y size : (3516,)\n",
      "test data X size : (1507, 34)\n",
      "test data Y size : (1507,)\n"
     ]
    }
   ],
   "source": [
    "model_dummies = pd.get_dummies(model_x) # 더미변수화\n",
    "model_train_x,model_test_x,model_train_y,model_test_y = train_test_split(model_dummies,model_y,\n",
    "                                                            test_size = 0.3, random_state=1234) # train 70%, test 30%\n",
    "\n",
    "print('train data X size : {}'.format(model_train_x.shape))\n",
    "print('train data Y size : {}'.format(model_train_y.shape))\n",
    "print('test data X size : {}'.format(model_test_x.shape))\n",
    "print('test data Y size : {}'.format(model_test_y.shape))"
   ]
  },
  {
   "cell_type": "code",
   "execution_count": 118,
   "id": "81a17c63",
   "metadata": {},
   "outputs": [],
   "source": [
    "# 모델 별 평가지표 확인\n",
    "model = ['DecisionTree','RandomForest','GradientBoosting','XGB','NeuraNet','SVM'] \n",
    "\n",
    "train_accuracy = []\n",
    "test_accuracy = []\n",
    "model_f1_score = []\n",
    "model_auc = []"
   ]
  },
  {
   "cell_type": "code",
   "execution_count": 119,
   "id": "d03e7740",
   "metadata": {},
   "outputs": [],
   "source": [
    "# 1. DT 모델 \n",
    "\n",
    "#모델 생성\n",
    "dt_model = DecisionTreeClassifier(random_state=1234, max_depth=7, min_samples_leaf=16, min_samples_split=20)\n",
    "dt_model.fit(model_train_x, model_train_y)\n",
    "\n",
    "# train 정확도\n",
    "train_accuracy.append(dt_model.score(model_train_x,model_train_y))\n",
    "# test 정확도\n",
    "test_accuracy.append(dt_model.score(model_test_x,model_test_y))\n",
    "\n",
    "# 예측값\n",
    "y_pred = dt_model.predict(model_test_x)\n",
    "\n",
    "# roc_curve(실제값, 예측값), fpr = FP/(FP+TN) : 거짓 양성 비율, tpr = TP/(TP+FN) : 진짜 양성 비율(재현율)\n",
    "fpr, tpr, thresholds = roc_curve(model_test_y,y_pred)\n",
    "roc_auc = auc(fpr,tpr)\n",
    "model_auc.append(roc_auc)\n",
    "\n",
    "# f1 score\n",
    "model_f1_score.append(f1_score(model_test_y,y_pred))"
   ]
  },
  {
   "cell_type": "code",
   "execution_count": 120,
   "id": "049b273d",
   "metadata": {},
   "outputs": [],
   "source": [
    "# 2. RF 모델\n",
    "\n",
    "# 모델 생성\n",
    "rf_model = RandomForestClassifier(random_state=1234, n_estimators=60, min_samples_leaf=1, max_depth=8,min_samples_split=31)\n",
    "rf_model.fit(model_train_x,model_train_y)\n",
    "\n",
    "# train 정확도\n",
    "train_accuracy.append(rf_model.score(model_train_x,model_train_y))\n",
    "# test 정확도\n",
    "test_accuracy.append(rf_model.score(model_test_x,model_test_y))\n",
    "\n",
    "# 예측값\n",
    "y_pred = rf_model.predict(model_test_x)\n",
    "\n",
    "# roc_curve(실제값, 예측값), fpr = FP/(FP+TN) : 거짓 양성 비율, tpr = TP/(TP+FN) : 진짜 양성 비율(재현율)\n",
    "fpr, tpr, thresholds = roc_curve(model_test_y,y_pred)\n",
    "roc_auc = auc(fpr,tpr)\n",
    "model_auc.append(roc_auc)\n",
    "\n",
    "# f1 score\n",
    "model_f1_score.append(f1_score(model_test_y,y_pred))"
   ]
  },
  {
   "cell_type": "code",
   "execution_count": 121,
   "id": "48831fd9",
   "metadata": {},
   "outputs": [],
   "source": [
    "# 3. GB 모델\n",
    "\n",
    "# 모델 생성\n",
    "gb_model = GradientBoostingClassifier(min_samples_leaf = 10, max_depth = 4, n_estimators = 100, learning_rate = 1, random_state = 1234)\n",
    "gb_model.fit(model_train_x, model_train_y)\n",
    "\n",
    "# train 정확도\n",
    "train_accuracy.append(gb_model.score(model_train_x, model_train_y))\n",
    "# test 정확도\n",
    "test_accuracy.append(gb_model.score(model_test_x, model_test_y))\n",
    "\n",
    "# 예측값\n",
    "y_pred = gb_model.predict(model_test_x)\n",
    "\n",
    "# roc_curve(실제값, 예측값), fpr = FP/(FP+TN) : 거짓 양성 비율, tpr = TP/(TP+FN) : 진짜 양성 비율(재현율)\n",
    "fpr, tpr, thresholds = roc_curve(model_test_y, y_pred)\n",
    "roc_auc = auc(fpr, tpr)\n",
    "model_auc.append(roc_auc)\n",
    "\n",
    "# f1 score\n",
    "model_f1_score.append(f1_score(model_test_y,y_pred))"
   ]
  },
  {
   "cell_type": "code",
   "execution_count": 122,
   "id": "c64570de",
   "metadata": {},
   "outputs": [
    {
     "name": "stderr",
     "output_type": "stream",
     "text": [
      "C:\\Users\\82106\\anaconda3\\lib\\site-packages\\xgboost\\sklearn.py:1224: UserWarning: The use of label encoder in XGBClassifier is deprecated and will be removed in a future release. To remove this warning, do the following: 1) Pass option use_label_encoder=False when constructing XGBClassifier object; and 2) Encode your labels (y) as integers starting with 0, i.e. 0, 1, 2, ..., [num_class - 1].\n",
      "  warnings.warn(label_encoder_deprecation_msg, UserWarning)\n",
      "C:\\Users\\82106\\anaconda3\\lib\\site-packages\\xgboost\\data.py:262: FutureWarning: pandas.Int64Index is deprecated and will be removed from pandas in a future version. Use pandas.Index with the appropriate dtype instead.\n",
      "  elif isinstance(data.columns, (pd.Int64Index, pd.RangeIndex)):\n"
     ]
    },
    {
     "name": "stdout",
     "output_type": "stream",
     "text": [
      "[18:35:59] WARNING: C:/Users/Administrator/workspace/xgboost-win64_release_1.5.1/src/learner.cc:1115: Starting in XGBoost 1.3.0, the default evaluation metric used with the objective 'binary:logistic' was changed from 'error' to 'logloss'. Explicitly set eval_metric if you'd like to restore the old behavior.\n"
     ]
    },
    {
     "name": "stderr",
     "output_type": "stream",
     "text": [
      "C:\\Users\\82106\\anaconda3\\lib\\site-packages\\xgboost\\data.py:262: FutureWarning: pandas.Int64Index is deprecated and will be removed from pandas in a future version. Use pandas.Index with the appropriate dtype instead.\n",
      "  elif isinstance(data.columns, (pd.Int64Index, pd.RangeIndex)):\n",
      "C:\\Users\\82106\\anaconda3\\lib\\site-packages\\xgboost\\data.py:262: FutureWarning: pandas.Int64Index is deprecated and will be removed from pandas in a future version. Use pandas.Index with the appropriate dtype instead.\n",
      "  elif isinstance(data.columns, (pd.Int64Index, pd.RangeIndex)):\n"
     ]
    }
   ],
   "source": [
    "# 4. XGB 모델\n",
    "\n",
    "# 모델 생성\n",
    "xgb_model = XGBClassifier(n_estimators=500, learning_rate = 0.1, max_depth = 4)\n",
    "xgb_model.fit(model_train_x, model_train_y)\n",
    "\n",
    "# train 정확도\n",
    "train_accuracy.append(xgb_model.score(model_train_x, model_train_y))\n",
    "# test 정확도\n",
    "test_accuracy.append(xgb_model.score(model_test_x, model_test_y))\n",
    "\n",
    "# 예측값\n",
    "y_pred = xgb_model.predict(model_test_x)\n",
    "\n",
    "# roc_curve(실제값, 예측값), fpr = FP/(FP+TN) : 거짓 양성 비율, tpr = TP/(TP+FN) : 진짜 양성 비율(재현율)\n",
    "fpr, tpr, thresholds = roc_curve(model_test_y, y_pred)\n",
    "roc_auc = auc(fpr, tpr)\n",
    "model_auc.append(roc_auc)\n",
    "\n",
    "# f1 score\n",
    "model_f1_score.append(f1_score(model_test_y,y_pred))"
   ]
  },
  {
   "cell_type": "code",
   "execution_count": 123,
   "id": "a97b916b",
   "metadata": {},
   "outputs": [],
   "source": [
    "# 5. NeuralNet 모델\n",
    "v_feature_name = model_train_x.columns\n",
    "\n",
    "# StandaerScaler 적용\n",
    "# DT, RF, GB, XGB 모두 트리기반의 모델이므로 별도의 데이터 정규화가 필요없음\n",
    "# NeuralNet과 같이 딥러닝 모델은 scale 하는 것이 더 좋음\n",
    "\n",
    "scaler = StandardScaler()\n",
    "model_scaled = scaler.fit_transform(model_dummies)\n",
    "model_scaled = pd.DataFrame(model_scaled, columns = v_feature_name)\n",
    "\n",
    "model_train_x,model_test_x,model_train_y,model_test_y = train_test_split(model_scaled,model_y,\n",
    "                                                            test_size = 0.3, random_state=1234)\n",
    "\n",
    "# 모델 생성\n",
    "nn_model = MLPClassifier(batch_size = 110, solver = 'adam', activation = 'logistic', hidden_layer_sizes = (160,160), random_state = 1234)\n",
    "nn_model.fit(model_train_x,model_train_y)\n",
    "\n",
    "# train 정확도\n",
    "train_accuracy.append(nn_model.score(model_train_x,model_train_y))\n",
    "# test 정확도\n",
    "test_accuracy.append(nn_model.score(model_test_x,model_test_y))\n",
    "\n",
    "# 예측값\n",
    "y_pred = nn_model.predict(model_test_x)\n",
    "\n",
    "# roc_curve(실제값, 예측값), fpr = FP/(FP+TN) : 거짓 양성 비율, tpr = TP/(TP+FN) : 진짜 양성 비율(재현율)\n",
    "fpr, tpr, thresholds = roc_curve(model_test_y,y_pred)\n",
    "roc_auc = auc(fpr,tpr)\n",
    "model_auc.append(roc_auc)\n",
    "\n",
    "# f1 score\n",
    "model_f1_score.append(f1_score(model_test_y,y_pred))"
   ]
  },
  {
   "cell_type": "code",
   "execution_count": 126,
   "id": "5af20923",
   "metadata": {},
   "outputs": [],
   "source": [
    "# 6. SVM 모델\n",
    "\n",
    "# StandaerScaler 적용\n",
    "# DT, RF, GB, XGB 모두 트리기반의 모델이므로 별도의 데이터 정규화가 필요없음\n",
    "# SVM은 거리 기반의 모델로 Scale 하는 것이 더 좋음\n",
    "\n",
    "scaler = StandardScaler()\n",
    "model_scaled = scaler.fit_transform(model_dummies)\n",
    "model_scaled = pd.DataFrame(model_scaled, columns = v_feature_name)\n",
    "\n",
    "\n",
    "model_train_x,model_test_x,model_train_y,model_test_y = train_test_split(model_scaled,model_y,\n",
    "                                                            test_size = 0.3, random_state=1234)\n",
    "\n",
    "# 모델 생성\n",
    "svc_model = SVC(gamma = 0.01, C = 1, random_state=1234)\n",
    "svc_model.fit(model_train_x, model_train_y)\n",
    "\n",
    "train_accuracy.append(svc_model.score(model_train_x,model_train_y))\n",
    "\n",
    "test_accuracy.append(svc_model.score(model_test_x,model_test_y))\n",
    "\n",
    "y_pred = svc_model.predict(model_test_x)\n",
    "\n",
    "\n",
    "\n",
    "fpr, tpr, thresholds = roc_curve(model_test_y,y_pred)\n",
    "roc_auc = auc(fpr,tpr)\n",
    "model_auc.append(roc_auc)\n",
    "\n",
    "model_f1_score.append(f1_score(model_test_y,y_pred))"
   ]
  },
  {
   "cell_type": "code",
   "execution_count": 137,
   "id": "685d5a2c",
   "metadata": {},
   "outputs": [
    {
     "data": {
      "text/html": [
       "<div>\n",
       "<style scoped>\n",
       "    .dataframe tbody tr th:only-of-type {\n",
       "        vertical-align: middle;\n",
       "    }\n",
       "\n",
       "    .dataframe tbody tr th {\n",
       "        vertical-align: top;\n",
       "    }\n",
       "\n",
       "    .dataframe thead th {\n",
       "        text-align: right;\n",
       "    }\n",
       "</style>\n",
       "<table border=\"1\" class=\"dataframe\">\n",
       "  <thead>\n",
       "    <tr style=\"text-align: right;\">\n",
       "      <th></th>\n",
       "      <th>TrainAccuracy</th>\n",
       "      <th>TestAccuracy</th>\n",
       "      <th>F1Score</th>\n",
       "      <th>AUC</th>\n",
       "    </tr>\n",
       "  </thead>\n",
       "  <tbody>\n",
       "    <tr>\n",
       "      <th>DecisionTree</th>\n",
       "      <td>0.967</td>\n",
       "      <td>0.971</td>\n",
       "      <td>0.912</td>\n",
       "      <td>0.924</td>\n",
       "    </tr>\n",
       "    <tr>\n",
       "      <th>RandomForest</th>\n",
       "      <td>0.962</td>\n",
       "      <td>0.965</td>\n",
       "      <td>0.891</td>\n",
       "      <td>0.901</td>\n",
       "    </tr>\n",
       "    <tr>\n",
       "      <th>GradientBoosting</th>\n",
       "      <td>0.994</td>\n",
       "      <td>0.956</td>\n",
       "      <td>0.871</td>\n",
       "      <td>0.906</td>\n",
       "    </tr>\n",
       "    <tr>\n",
       "      <th>XGB</th>\n",
       "      <td>1.000</td>\n",
       "      <td>0.965</td>\n",
       "      <td>0.897</td>\n",
       "      <td>0.918</td>\n",
       "    </tr>\n",
       "    <tr>\n",
       "      <th>NeuraNet</th>\n",
       "      <td>0.970</td>\n",
       "      <td>0.969</td>\n",
       "      <td>0.910</td>\n",
       "      <td>0.929</td>\n",
       "    </tr>\n",
       "    <tr>\n",
       "      <th>SVM</th>\n",
       "      <td>0.961</td>\n",
       "      <td>0.963</td>\n",
       "      <td>0.884</td>\n",
       "      <td>0.896</td>\n",
       "    </tr>\n",
       "  </tbody>\n",
       "</table>\n",
       "</div>"
      ],
      "text/plain": [
       "                  TrainAccuracy  TestAccuracy  F1Score    AUC\n",
       "DecisionTree              0.967         0.971    0.912  0.924\n",
       "RandomForest              0.962         0.965    0.891  0.901\n",
       "GradientBoosting          0.994         0.956    0.871  0.906\n",
       "XGB                       1.000         0.965    0.897  0.918\n",
       "NeuraNet                  0.970         0.969    0.910  0.929\n",
       "SVM                       0.961         0.963    0.884  0.896"
      ]
     },
     "execution_count": 137,
     "metadata": {},
     "output_type": "execute_result"
    }
   ],
   "source": [
    "# 모델별 정확도 산출 및 평가\n",
    "\n",
    "model_eval = pd.DataFrame(index = model)\n",
    "\n",
    "model_eval['TrainAccuracy']= train_accuracy\n",
    "model_eval['TestAccuracy']= test_accuracy\n",
    "\n",
    "model_eval['F1Score']= model_f1_score\n",
    "model_eval['AUC']= model_auc\n",
    "\n",
    "model_eval.round(3)"
   ]
  },
  {
   "cell_type": "code",
   "execution_count": 138,
   "id": "c8092d3f",
   "metadata": {},
   "outputs": [
    {
     "data": {
      "image/png": "[encoded data removed]",
      "text/plain": [
       "<Figure size 864x432 with 1 Axes>"
      ]
     },
     "metadata": {
      "needs_background": "light"
     },
     "output_type": "display_data"
    }
   ],
   "source": [
    "model_eval.plot.bar(rot=0, figsize=(12,6))\n",
    "plt.title('모델별 평가지표 시각화', fontsize=18, pad=10)\n",
    "plt.legend(loc = 'lower right')\n",
    "plt.xlabel('모델 종류', labelpad=8)\n",
    "plt.ylabel('수치', rotation=0, labelpad=15)\n",
    "plt.grid(axis = 'y')"
   ]
  },
  {
   "cell_type": "markdown",
   "id": "c5c364c3",
   "metadata": {},
   "source": [
    "- F1 Score이 가장 높은 Neural net 모델 최종 선정\n",
    "- 고객 이탈률을 잘 예측한다고 할 수 있음"
   ]
  },
  {
   "cell_type": "markdown",
   "id": "1be9ad20",
   "metadata": {},
   "source": [
    "#### LTV(Lifetime Value) 모델 개선 : 고객의 평생 가치, 거래 기간동안 고객에서 얻는 수익 또는 손실\n",
    "- 이탈 예상 고객 중 기업에 이윤을 주는 고객을 우선 타겟팅해야함\n",
    "- 신규고객 유치하는 비용보다 장기고객을 유지하는 것이 더 효율적! (신규고객 유치금액이 장기고객 유지금액의 약 5배)\n",
    "- 데이터상, 인원과 데이터 사용량이 가장 많은 20~30대가 주요 타겟\n",
    "- LTV 점수가 높음에도 이탈률이 높은 것은, 기존 모델의 개선이 필요하다는 것 \n",
    "- 즉, 고객 특성에 맞는 LTV 모델 개선으로 정확한 고객 분류가 필요"
   ]
  },
  {
   "cell_type": "code",
   "execution_count": 63,
   "id": "62dc97a8",
   "metadata": {},
   "outputs": [
    {
     "data": {
      "image/png": "[encoded data removed]",
      "text/plain": [
       "<Figure size 432x288 with 1 Axes>"
      ]
     },
     "metadata": {
      "needs_background": "light"
     },
     "output_type": "display_data"
    }
   ],
   "source": [
    "fun_plot_hist(customer_df,'CustomerLTV')"
   ]
  },
  {
   "cell_type": "code",
   "execution_count": 90,
   "id": "1e40df7b",
   "metadata": {},
   "outputs": [
    {
     "name": "stdout",
     "output_type": "stream",
     "text": [
      "                            OLS Regression Results                            \n",
      "==============================================================================\n",
      "Dep. Variable:            CustomerLTV   R-squared:                       0.216\n",
      "Model:                            OLS   Adj. R-squared:                  0.213\n",
      "Method:                 Least Squares   F-statistic:                     91.75\n",
      "Date:                Wed, 16 Mar 2022   Prob (F-statistic):          2.97e-250\n",
      "Time:                        21:23:17   Log-Likelihood:                -41975.\n",
      "No. Observations:                5023   AIC:                         8.398e+04\n",
      "Df Residuals:                    5007   BIC:                         8.409e+04\n",
      "Df Model:                          15                                         \n",
      "Covariance Type:            nonrobust                                         \n",
      "===========================================================================================\n",
      "                              coef    std err          t      P>|t|      [0.025      0.975]\n",
      "-------------------------------------------------------------------------------------------\n",
      "Intercept                3454.2645    118.625     29.119      0.000    3221.708    3686.821\n",
      "C(Gender)[T.1]            -29.4739     29.148     -1.011      0.312     -86.617      27.669\n",
      "C(Married)[T.1]           -56.7685     32.670     -1.738      0.082    -120.816       7.279\n",
      "C(Dependents)[T.1]         26.5526     72.796      0.365      0.715    -116.160     169.265\n",
      "C(Contract)[T.1]         -412.6166     50.248     -8.212      0.000    -511.124    -314.109\n",
      "ChurnScore                  0.3100      0.780      0.398      0.691      -1.219       1.839\n",
      "SatisScore                 16.7584     14.831      1.130      0.259     -12.318      45.834\n",
      "Age                        -0.8035      0.999     -0.804      0.421      -2.762       1.155\n",
      "TotalRefund                -1.1515      1.678     -0.686      0.493      -4.442       2.139\n",
      "TotalExtraDataCharge        0.9531      0.516      1.846      0.065      -0.059       1.965\n",
      "AvgLongDistanceCharge       4.4017      2.249      1.958      0.050      -0.006       8.810\n",
      "noDependents               24.6345     31.734      0.776      0.438     -37.578      86.847\n",
      "TotalRevenue                0.0118      0.011      1.054      0.292      -0.010       0.034\n",
      "AvgDownloadGB              -0.4661      0.903     -0.516      0.606      -2.237       1.305\n",
      "TenureMonths               31.2179      1.716     18.197      0.000      27.855      34.581\n",
      "TotalLongDistanceCharge    -0.0619      0.049     -1.255      0.210      -0.159       0.035\n",
      "==============================================================================\n",
      "Omnibus:                      448.966   Durbin-Watson:                   1.847\n",
      "Prob(Omnibus):                  0.000   Jarque-Bera (JB):              149.751\n",
      "Skew:                          -0.128   Prob(JB):                     3.03e-33\n",
      "Kurtosis:                       2.194   Cond. No.                     4.23e+04\n",
      "==============================================================================\n",
      "\n",
      "Notes:\n",
      "[1] Standard Errors assume that the covariance matrix of the errors is correctly specified.\n",
      "[2] The condition number is large, 4.23e+04. This might indicate that there are\n",
      "strong multicollinearity or other numerical problems.\n"
     ]
    }
   ],
   "source": [
    "# 1. 기존의 LTV점수(변수명:CustomerLTV)를 설명하는데 어떤 변수가 가장 영향력 있었을까?\n",
    "reg_model = smf.ols(formula = \"CustomerLTV~ ChurnScore+SatisScore+C(Gender)+Age+C(Married)+C(Dependents)+C(Contract)+TotalRefund+TotalExtraDataCharge+AvgLongDistanceCharge+noDependents+TotalRevenue+AvgDownloadGB+TenureMonths+TotalLongDistanceCharge\",data=customer_df)\n",
    "reg_result = reg_model.fit()\n",
    "print(reg_result.summary())"
   ]
  },
  {
   "cell_type": "code",
   "execution_count": 142,
   "id": "1f90cf64",
   "metadata": {},
   "outputs": [],
   "source": [
    "# 2. 유의하지 않거나 배경 지식으로 인해 일부 변수를 제거 후 모델 재생성\n",
    "# 특히나 만족도는 특정 점수에서 분류 되므로 삭제, 점수라는 Y를 설명하기에 범주형은 적합하지 않다고 판단해 삭제\n",
    "# 각종 논문 분석에서, 사용형태나 구매형태에 대한 세분화는 고객 가치를 우선으로 고려해 타겟 마케팅을 실시하는 관점에서는 적당하지 않다고 함\n",
    "# 하여 계약 방법, 각종 추가 서비스에 대한 세부적인 변수는 제거하였음\n",
    "\n",
    "ltv_y = customer_df[\"CustomerLTV\"]\n",
    "ltv_x = customer_df[[\"ChurnScore\",\"SatisScore\",\"Age\",\"noDependents\",\"noReferrals\",\"AvgDownloadGB\",\"TotalRefund\",\n",
    "          \"TotalExtraDataCharge\",\"AvgLongDistanceCharge\",\"TotalLongDistanceCharge\",\"TenureMonths\"]]"
   ]
  },
  {
   "cell_type": "code",
   "execution_count": 143,
   "id": "3c29c0bc",
   "metadata": {},
   "outputs": [
    {
     "name": "stdout",
     "output_type": "stream",
     "text": [
      "train data X size:(3013, 11)\n",
      "train data Y size:(3013,)\n",
      "test data X size:(2010, 11)\n",
      "test data Y size:(2010,)\n"
     ]
    }
   ],
   "source": [
    "df_train_x, df_test_x,df_train_y,df_test_y = train_test_split(ltv_x,ltv_y,\\\n",
    "                                                             test_size=0.4, random_state=1234)\n",
    "print(\"train data X size:{}\".format(df_train_x.shape))\n",
    "print(\"train data Y size:{}\".format(df_train_y.shape))\n",
    "print(\"test data X size:{}\".format(df_test_x.shape))\n",
    "print(\"test data Y size:{}\".format(df_test_y.shape))"
   ]
  },
  {
   "cell_type": "code",
   "execution_count": 146,
   "id": "919b0409",
   "metadata": {},
   "outputs": [
    {
     "name": "stdout",
     "output_type": "stream",
     "text": [
      "Score on training set: 1.000\n",
      "Score on test set: -0.477\n"
     ]
    }
   ],
   "source": [
    "ltv_tree_uncustomized = DecisionTreeRegressor(random_state=1234)\n",
    "ltv_tree_uncustomized.fit(df_train_x, df_train_y)\n",
    "print(\"Score on training set: {:.3f}\".format(ltv_tree_uncustomized.score(df_train_x, df_train_y)))\n",
    "print(\"Score on test set: {:.3f}\".format(ltv_tree_uncustomized.score(df_test_x, df_test_y)))"
   ]
  },
  {
   "cell_type": "code",
   "execution_count": 147,
   "id": "2b6ff970",
   "metadata": {},
   "outputs": [],
   "source": [
    "train_accuracy=[]; test_accuracy=[]\n",
    "para_dept = [depth for depth in range(1,11)]\n",
    "\n",
    "for v_max_depth in para_dept:\n",
    "    tree=DecisionTreeRegressor(max_depth=v_max_depth,random_state=1234)\n",
    "    tree.fit(df_train_x,df_train_y)\n",
    "    train_accuracy.append(tree.score(df_train_x,df_train_y))\n",
    "    test_accuracy.append(tree.score(df_test_x,df_test_y))\n",
    "    \n",
    "df_accuracy_depth = pd.DataFrame()\n",
    "df_accuracy_depth[\"Depth\"] = para_dept\n",
    "df_accuracy_depth[\"TrainAccuracy\"]=train_accuracy\n",
    "df_accuracy_depth[\"TestAccuracy\"]=test_accuracy"
   ]
  },
  {
   "cell_type": "code",
   "execution_count": 96,
   "id": "24fdfe7c",
   "metadata": {},
   "outputs": [
    {
     "data": {
      "text/html": [
       "<div>\n",
       "<style scoped>\n",
       "    .dataframe tbody tr th:only-of-type {\n",
       "        vertical-align: middle;\n",
       "    }\n",
       "\n",
       "    .dataframe tbody tr th {\n",
       "        vertical-align: top;\n",
       "    }\n",
       "\n",
       "    .dataframe thead th {\n",
       "        text-align: right;\n",
       "    }\n",
       "</style>\n",
       "<table border=\"1\" class=\"dataframe\">\n",
       "  <thead>\n",
       "    <tr style=\"text-align: right;\">\n",
       "      <th></th>\n",
       "      <th>Depth</th>\n",
       "      <th>TrainAccuracy</th>\n",
       "      <th>TestAccuracy</th>\n",
       "    </tr>\n",
       "  </thead>\n",
       "  <tbody>\n",
       "    <tr>\n",
       "      <th>0</th>\n",
       "      <td>1</td>\n",
       "      <td>0.272</td>\n",
       "      <td>0.261</td>\n",
       "    </tr>\n",
       "    <tr>\n",
       "      <th>1</th>\n",
       "      <td>2</td>\n",
       "      <td>0.276</td>\n",
       "      <td>0.257</td>\n",
       "    </tr>\n",
       "    <tr>\n",
       "      <th>2</th>\n",
       "      <td>3</td>\n",
       "      <td>0.280</td>\n",
       "      <td>0.256</td>\n",
       "    </tr>\n",
       "    <tr>\n",
       "      <th>3</th>\n",
       "      <td>4</td>\n",
       "      <td>0.287</td>\n",
       "      <td>0.247</td>\n",
       "    </tr>\n",
       "    <tr>\n",
       "      <th>4</th>\n",
       "      <td>5</td>\n",
       "      <td>0.299</td>\n",
       "      <td>0.234</td>\n",
       "    </tr>\n",
       "    <tr>\n",
       "      <th>5</th>\n",
       "      <td>6</td>\n",
       "      <td>0.315</td>\n",
       "      <td>0.219</td>\n",
       "    </tr>\n",
       "    <tr>\n",
       "      <th>6</th>\n",
       "      <td>7</td>\n",
       "      <td>0.338</td>\n",
       "      <td>0.194</td>\n",
       "    </tr>\n",
       "    <tr>\n",
       "      <th>7</th>\n",
       "      <td>8</td>\n",
       "      <td>0.365</td>\n",
       "      <td>0.159</td>\n",
       "    </tr>\n",
       "    <tr>\n",
       "      <th>8</th>\n",
       "      <td>9</td>\n",
       "      <td>0.402</td>\n",
       "      <td>0.124</td>\n",
       "    </tr>\n",
       "    <tr>\n",
       "      <th>9</th>\n",
       "      <td>10</td>\n",
       "      <td>0.441</td>\n",
       "      <td>0.096</td>\n",
       "    </tr>\n",
       "  </tbody>\n",
       "</table>\n",
       "</div>"
      ],
      "text/plain": [
       "   Depth  TrainAccuracy  TestAccuracy\n",
       "0      1          0.272         0.261\n",
       "1      2          0.276         0.257\n",
       "2      3          0.280         0.256\n",
       "3      4          0.287         0.247\n",
       "4      5          0.299         0.234\n",
       "5      6          0.315         0.219\n",
       "6      7          0.338         0.194\n",
       "7      8          0.365         0.159\n",
       "8      9          0.402         0.124\n",
       "9     10          0.441         0.096"
      ]
     },
     "execution_count": 96,
     "metadata": {},
     "output_type": "execute_result"
    }
   ],
   "source": [
    "df_accuracy_depth.round(3)"
   ]
  },
  {
   "cell_type": "code",
   "execution_count": 97,
   "id": "cf77b7c5",
   "metadata": {},
   "outputs": [
    {
     "data": {
      "text/plain": [
       "<matplotlib.legend.Legend at 0x2a1e5189a30>"
      ]
     },
     "execution_count": 97,
     "metadata": {},
     "output_type": "execute_result"
    },
    {
     "data": {
      "image/png": "[encoded data removed]",
      "text/plain": [
       "<Figure size 432x288 with 1 Axes>"
      ]
     },
     "metadata": {
      "needs_background": "light"
     },
     "output_type": "display_data"
    }
   ],
   "source": [
    "plt.plot(para_dept,train_accuracy,linestyle=\"-\", label=\"Train Accuracy\")\n",
    "plt.plot(para_dept,test_accuracy,linestyle=\"--\", label=\"Test Accuracy\")\n",
    "plt.legend()"
   ]
  },
  {
   "cell_type": "code",
   "execution_count": 98,
   "id": "df5c0c1e",
   "metadata": {},
   "outputs": [],
   "source": [
    "v_feature_name = df_train_x.columns\n",
    "tree_low = DecisionTreeRegressor(max_depth=4, random_state=1234)\n",
    "tree_low.fit(df_train_x,df_train_y)\n",
    "\n",
    "export_graphviz(tree_low, out_file=\"tree_low.dot\",\n",
    "               feature_names=v_feature_name,impurity=True, filled=True)\n"
   ]
  },
  {
   "cell_type": "code",
   "execution_count": 99,
   "id": "6d83cae7",
   "metadata": {},
   "outputs": [
    {
     "data": {
      "text/html": [
       "<div>\n",
       "<style scoped>\n",
       "    .dataframe tbody tr th:only-of-type {\n",
       "        vertical-align: middle;\n",
       "    }\n",
       "\n",
       "    .dataframe tbody tr th {\n",
       "        vertical-align: top;\n",
       "    }\n",
       "\n",
       "    .dataframe thead th {\n",
       "        text-align: right;\n",
       "    }\n",
       "</style>\n",
       "<table border=\"1\" class=\"dataframe\">\n",
       "  <thead>\n",
       "    <tr style=\"text-align: right;\">\n",
       "      <th></th>\n",
       "      <th>Feature</th>\n",
       "      <th>Importance</th>\n",
       "    </tr>\n",
       "  </thead>\n",
       "  <tbody>\n",
       "    <tr>\n",
       "      <th>10</th>\n",
       "      <td>TenureMonths</td>\n",
       "      <td>0.953</td>\n",
       "    </tr>\n",
       "    <tr>\n",
       "      <th>9</th>\n",
       "      <td>TotalLongDistanceCharge</td>\n",
       "      <td>0.017</td>\n",
       "    </tr>\n",
       "    <tr>\n",
       "      <th>8</th>\n",
       "      <td>AvgLongDistanceCharge</td>\n",
       "      <td>0.010</td>\n",
       "    </tr>\n",
       "    <tr>\n",
       "      <th>5</th>\n",
       "      <td>AvgDownloadGB</td>\n",
       "      <td>0.008</td>\n",
       "    </tr>\n",
       "    <tr>\n",
       "      <th>0</th>\n",
       "      <td>ChurnScore</td>\n",
       "      <td>0.007</td>\n",
       "    </tr>\n",
       "    <tr>\n",
       "      <th>4</th>\n",
       "      <td>noReferrals</td>\n",
       "      <td>0.006</td>\n",
       "    </tr>\n",
       "    <tr>\n",
       "      <th>1</th>\n",
       "      <td>SatisScore</td>\n",
       "      <td>0.000</td>\n",
       "    </tr>\n",
       "    <tr>\n",
       "      <th>2</th>\n",
       "      <td>Age</td>\n",
       "      <td>0.000</td>\n",
       "    </tr>\n",
       "    <tr>\n",
       "      <th>3</th>\n",
       "      <td>noDependents</td>\n",
       "      <td>0.000</td>\n",
       "    </tr>\n",
       "    <tr>\n",
       "      <th>6</th>\n",
       "      <td>TotalRefund</td>\n",
       "      <td>0.000</td>\n",
       "    </tr>\n",
       "    <tr>\n",
       "      <th>7</th>\n",
       "      <td>TotalExtraDataCharge</td>\n",
       "      <td>0.000</td>\n",
       "    </tr>\n",
       "  </tbody>\n",
       "</table>\n",
       "</div>"
      ],
      "text/plain": [
       "                    Feature  Importance\n",
       "10             TenureMonths       0.953\n",
       "9   TotalLongDistanceCharge       0.017\n",
       "8     AvgLongDistanceCharge       0.010\n",
       "5             AvgDownloadGB       0.008\n",
       "0                ChurnScore       0.007\n",
       "4               noReferrals       0.006\n",
       "1                SatisScore       0.000\n",
       "2                       Age       0.000\n",
       "3              noDependents       0.000\n",
       "6               TotalRefund       0.000\n",
       "7      TotalExtraDataCharge       0.000"
      ]
     },
     "execution_count": 99,
     "metadata": {},
     "output_type": "execute_result"
    }
   ],
   "source": [
    "df_importance=pd.DataFrame()\n",
    "df_importance[\"Feature\"]=v_feature_name\n",
    "df_importance[\"Importance\"]=tree_low.feature_importances_\n",
    "\n",
    "df_importance.sort_values(\"Importance\",ascending=False, inplace=True)\n",
    "df_importance.round(3)\n",
    "\n",
    "# 사용기간(TenureMonths)이 가장 중요한 Feature"
   ]
  },
  {
   "cell_type": "code",
   "execution_count": 100,
   "id": "6850ac0d",
   "metadata": {},
   "outputs": [
    {
     "name": "stdout",
     "output_type": "stream",
     "text": [
      "                            OLS Regression Results                            \n",
      "==============================================================================\n",
      "Dep. Variable:            CustomerLTV   R-squared:                       0.202\n",
      "Model:                            OLS   Adj. R-squared:                  0.202\n",
      "Method:                 Least Squares   F-statistic:                     1268.\n",
      "Date:                Wed, 16 Mar 2022   Prob (F-statistic):          6.68e-248\n",
      "Time:                        21:23:17   Log-Likelihood:                -42019.\n",
      "No. Observations:                5023   AIC:                         8.404e+04\n",
      "Df Residuals:                    5021   BIC:                         8.406e+04\n",
      "Df Model:                           1                                         \n",
      "Covariance Type:            nonrobust                                         \n",
      "================================================================================\n",
      "                   coef    std err          t      P>|t|      [0.025      0.975]\n",
      "--------------------------------------------------------------------------------\n",
      "Intercept     3427.2184     34.480     99.398      0.000    3359.623    3494.814\n",
      "TenureMonths    26.0032      0.730     35.615      0.000      24.572      27.435\n",
      "==============================================================================\n",
      "Omnibus:                      343.665   Durbin-Watson:                   1.821\n",
      "Prob(Omnibus):                  0.000   Jarque-Bera (JB):              138.043\n",
      "Skew:                          -0.166   Prob(JB):                     1.06e-30\n",
      "Kurtosis:                       2.258   Cond. No.                         111.\n",
      "==============================================================================\n",
      "\n",
      "Notes:\n",
      "[1] Standard Errors assume that the covariance matrix of the errors is correctly specified.\n"
     ]
    }
   ],
   "source": [
    "# 3. 특히나 사용기간(TenureMonths)이 큰 차지를 하고 있는데 변수 하나의 설명력은 어느정도 될까?\n",
    "reg_model = smf.ols(formula = \"CustomerLTV~TenureMonths\",data=customer_df)\n",
    "reg_result = reg_model.fit()\n",
    "print(reg_result.summary())\n",
    "\n",
    "# 기존의 0.216에서 0.202로 다양한 변수를 넣은 모델과 큰 차이가 없음"
   ]
  },
  {
   "cell_type": "code",
   "execution_count": 101,
   "id": "377c659c",
   "metadata": {},
   "outputs": [
    {
     "data": {
      "text/plain": [
       "array([[<AxesSubplot:title={'center':'TenureMonths'}>,\n",
       "        <AxesSubplot:title={'center':'CustomerLTV'}>]], dtype=object)"
      ]
     },
     "execution_count": 101,
     "metadata": {},
     "output_type": "execute_result"
    },
    {
     "data": {
      "image/png": "[encoded data removed]",
      "text/plain": [
       "<Figure size 432x288 with 2 Axes>"
      ]
     },
     "metadata": {
      "needs_background": "light"
     },
     "output_type": "display_data"
    }
   ],
   "source": [
    "customer_df[[\"TenureMonths\",\"CustomerLTV\"]].hist()"
   ]
  },
  {
   "cell_type": "code",
   "execution_count": 105,
   "id": "b6ee455e",
   "metadata": {},
   "outputs": [
    {
     "name": "stdout",
     "output_type": "stream",
     "text": [
      "                            OLS Regression Results                            \n",
      "==============================================================================\n",
      "Dep. Variable:           TotalRevenue   R-squared:                       0.758\n",
      "Model:                            OLS   Adj. R-squared:                  0.758\n",
      "Method:                 Least Squares   F-statistic:                     2618.\n",
      "Date:                Wed, 16 Mar 2022   Prob (F-statistic):               0.00\n",
      "Time:                        21:23:23   Log-Likelihood:                -43441.\n",
      "No. Observations:                5023   AIC:                         8.690e+04\n",
      "Df Residuals:                    5016   BIC:                         8.694e+04\n",
      "Df Model:                           6                                         \n",
      "Covariance Type:            nonrobust                                         \n",
      "=========================================================================================\n",
      "                            coef    std err          t      P>|t|      [0.025      0.975]\n",
      "-----------------------------------------------------------------------------------------\n",
      "Intercept             -3519.6279     89.925    -39.139      0.000   -3695.921   -3343.335\n",
      "Age                      25.2163      1.274     19.789      0.000      22.718      27.714\n",
      "TotalRefund              -3.1749      2.243     -1.415      0.157      -7.573       1.223\n",
      "AvgLongDistanceCharge    56.5091      1.264     44.700      0.000      54.031      58.987\n",
      "noDependents           -257.3630     19.795    -13.001      0.000    -296.170    -218.556\n",
      "AvgDownloadGB            39.1451      1.052     37.220      0.000      37.083      41.207\n",
      "TenureMonths            105.9964      0.972    109.019      0.000     104.090     107.902\n",
      "==============================================================================\n",
      "Omnibus:                       29.536   Durbin-Watson:                   1.890\n",
      "Prob(Omnibus):                  0.000   Jarque-Bera (JB):               29.966\n",
      "Skew:                          -0.186   Prob(JB):                     3.11e-07\n",
      "Kurtosis:                       2.932   Cond. No.                         336.\n",
      "==============================================================================\n",
      "\n",
      "Notes:\n",
      "[1] Standard Errors assume that the covariance matrix of the errors is correctly specified.\n"
     ]
    }
   ],
   "source": [
    "# 5. LTV는 LifetimeValue로 고객의 평생가치로, 거래 기간동안 고객에서 얻는 수익이나 손실을 말함\n",
    "# 위의 거래기간이 중요한 만큼 총 매출(TotalRevenue)에 영향을 줄 수 있는 변수들은 무엇일까?\n",
    "reg_model = smf.ols(formula = \"TotalRevenue~Age+TotalRefund+AvgLongDistanceCharge+noDependents+AvgDownloadGB+TenureMonths\",data=customer_df)\n",
    "reg_result = reg_model.fit()\n",
    "print(reg_result.summary())\n",
    "\n",
    "# 총 매출에 높은 설명력을 보여주는 모델로 나타남\n",
    "# 나이, 총환불액, 평균장거리요금, 부양자수, 평균다운로드양, 사용기간 등으로 실제로 총매출과 연관있는 변수임"
   ]
  },
  {
   "cell_type": "code",
   "execution_count": 66,
   "id": "b7aea59c",
   "metadata": {},
   "outputs": [],
   "source": [
    "# 6. 위의 모델들을 참고하여 유의미한 변수였던 변수로 모델링을 해봄\n",
    "reg_model1 = smf.ols(formula = \"CustomerLTV~SatisScore+C(Gender)+Age+C(Married)+ noDependents+noReferrals+C(Contract)+AvgCharge+TotalRefund+TenureMonths\",data=customer_df)"
   ]
  },
  {
   "cell_type": "code",
   "execution_count": 67,
   "id": "749aae71",
   "metadata": {},
   "outputs": [
    {
     "name": "stdout",
     "output_type": "stream",
     "text": [
      "                            OLS Regression Results                            \n",
      "==============================================================================\n",
      "Dep. Variable:            CustomerLTV   R-squared:                       0.214\n",
      "Model:                            OLS   Adj. R-squared:                  0.212\n",
      "Method:                 Least Squares   F-statistic:                     136.4\n",
      "Date:                Wed, 06 Apr 2022   Prob (F-statistic):          4.48e-253\n",
      "Time:                        00:33:04   Log-Likelihood:                -41981.\n",
      "No. Observations:                5023   AIC:                         8.398e+04\n",
      "Df Residuals:                    5012   BIC:                         8.405e+04\n",
      "Df Model:                          10                                         \n",
      "Covariance Type:            nonrobust                                         \n",
      "========================================================================================\n",
      "                           coef    std err          t      P>|t|      [0.025      0.975]\n",
      "----------------------------------------------------------------------------------------\n",
      "Intercept             3521.8364     82.489     42.694      0.000    3360.121    3683.552\n",
      "C(Gender)[T.Male]      -27.8028     29.156     -0.954      0.340     -84.962      29.357\n",
      "C(Married)[T.Yes]      -41.9058     40.478     -1.035      0.301    -121.261      37.449\n",
      "C(Contract)[T.2Year]  -415.6814     50.210     -8.279      0.000    -514.115    -317.248\n",
      "SatisScore              17.7406     14.002      1.267      0.205      -9.709      45.190\n",
      "Age                     -0.6127      0.897     -0.683      0.495      -2.371       1.146\n",
      "noDependents            32.9086     15.693      2.097      0.036       2.143      63.675\n",
      "noReferrals             -2.8886      6.130     -0.471      0.638     -14.907       9.130\n",
      "AvgCharge                0.5997      0.490      1.223      0.221      -0.361       1.561\n",
      "TotalRefund             -1.2724      1.678     -0.758      0.448      -4.562       2.017\n",
      "TenureMonths            30.8768      0.981     31.460      0.000      28.953      32.801\n",
      "==============================================================================\n",
      "Omnibus:                      454.307   Durbin-Watson:                   1.847\n",
      "Prob(Omnibus):                  0.000   Jarque-Bera (JB):              150.464\n",
      "Skew:                          -0.128   Prob(JB):                     2.12e-33\n",
      "Kurtosis:                       2.191   Cond. No.                         577.\n",
      "==============================================================================\n",
      "\n",
      "Notes:\n",
      "[1] Standard Errors assume that the covariance matrix of the errors is correctly specified.\n"
     ]
    }
   ],
   "source": [
    "reg_result1 = reg_model1.fit()          \n",
    "print(reg_result1.summary())"
   ]
  },
  {
   "cell_type": "code",
   "execution_count": 69,
   "id": "954eddeb",
   "metadata": {},
   "outputs": [],
   "source": [
    "# 7. 기존의 LTV점수가 현 상황을 표현하지 못한다면, 계수들을 반대로 하여서 조정하면 나오지 않을까?\n",
    "# 일정 상수를 지정하여 기본 값에서 움직이도록 함\n",
    "customer_df['test1'] = 100 + 0.5527 * customer_df['Age'] - 10 * customer_df['noDependents'] + 1.1639 * customer_df['TotalRefund'] + 10 * customer_df['TenureMonths'] + 0.026 * customer_df['TotalCharge']\n",
    "\n",
    "# 나이, 부양자수, 총환불액, 사용기간, 총과금액"
   ]
  },
  {
   "cell_type": "code",
   "execution_count": 70,
   "id": "215fd35c",
   "metadata": {},
   "outputs": [
    {
     "data": {
      "image/png": "[encoded data removed]",
      "text/plain": [
       "<Figure size 432x288 with 1 Axes>"
      ]
     },
     "metadata": {
      "needs_background": "light"
     },
     "output_type": "display_data"
    }
   ],
   "source": [
    "fun_plot_hist(customer_df,'test1')\n",
    "# 기존의 LTV 점수보다 개선됨을 알 수 있음"
   ]
  },
  {
   "cell_type": "code",
   "execution_count": 71,
   "id": "0ce3a97d",
   "metadata": {},
   "outputs": [],
   "source": [
    "# 8. 기존의 점수에서 파라미터 조정 \n",
    "customer_df['test2'] = 100 + 0.5527 * customer_df['Age'] - 10 * customer_df['noDependents'] + 1.1639 * customer_df['TotalRefund'] + 15 * customer_df['TenureMonths'] + 0.026 * customer_df['TotalCharge']"
   ]
  },
  {
   "cell_type": "code",
   "execution_count": 72,
   "id": "bc9f48f2",
   "metadata": {},
   "outputs": [
    {
     "data": {
      "image/png": "[encoded data removed]",
      "text/plain": [
       "<Figure size 432x288 with 1 Axes>"
      ]
     },
     "metadata": {
      "needs_background": "light"
     },
     "output_type": "display_data"
    }
   ],
   "source": [
    "fun_plot_hist(customer_df,'test2')\n",
    "# test1과 비슷한 모양을 보이며 위보다 순차적으로 낮아지는 모양을 보임"
   ]
  },
  {
   "cell_type": "code",
   "execution_count": 73,
   "id": "1e999deb",
   "metadata": {},
   "outputs": [],
   "source": [
    "# 9. 총 매출도 좋지만 사용기간 대비 높은 비용을 사용하는 고객을 고려하기 위해 평균 과금액을 넣어봄\n",
    "customer_df['test3'] = 120 - 0.236 * customer_df['Age'] - 0.08 * customer_df['TotalRefund'] + 2.28 * customer_df['noDependents'] + 0.3 * customer_df['AvgCharge'] + 1.386 * customer_df['TenureMonths']\n",
    "\n",
    "# 나이, 총환불액, 부양자수, 평균과금액, 사용기간"
   ]
  },
  {
   "cell_type": "code",
   "execution_count": 74,
   "id": "b0c80b9c",
   "metadata": {},
   "outputs": [
    {
     "data": {
      "image/png": "[encoded data removed]",
      "text/plain": [
       "<Figure size 432x288 with 1 Axes>"
      ]
     },
     "metadata": {
      "needs_background": "light"
     },
     "output_type": "display_data"
    }
   ],
   "source": [
    "fun_plot_hist(customer_df,'test3')\n",
    "# 위보다 개선된 분포를 보여주고 있음"
   ]
  },
  {
   "cell_type": "code",
   "execution_count": 75,
   "id": "b9aa0721",
   "metadata": {},
   "outputs": [],
   "source": [
    "# 10. 위의 모델 파라미터 조정했으나 기존이 나음\n",
    "customer_df['test4'] = 150 - 0.36 * customer_df['Age'] - 0.08 * customer_df['TotalRefund'] + 2.28 * customer_df['noDependents'] + 0.4 * customer_df['AvgCharge'] + 1.386 * customer_df['TenureMonths']"
   ]
  },
  {
   "cell_type": "code",
   "execution_count": 77,
   "id": "b4cca43b",
   "metadata": {},
   "outputs": [
    {
     "data": {
      "image/png": "[encoded data removed]",
      "text/plain": [
       "<Figure size 432x288 with 1 Axes>"
      ]
     },
     "metadata": {
      "needs_background": "light"
     },
     "output_type": "display_data"
    }
   ],
   "source": [
    "fun_plot_hist(customer_df,'test4')"
   ]
  },
  {
   "cell_type": "markdown",
   "id": "27f2f1f5",
   "metadata": {},
   "source": [
    "- 최종 모델 : LTV점수 = 120 - 0.236 * 연령 - 0.08 * 총환불액 + 2.28 * 부양자수 + 0.3 * 평균 과금액 + 1.386 * 사용기간\n",
    "- 연령 : 연령대가 높아질 수록 이탈 확률이 높기때문에 LTV 점수 하락 요인\n",
    "- 총환불액 : 기간동안 고객에게 환불해주는 비용으로 LTV 점수 하락 요인\n",
    "- 부양자 수 : 기존의 탐색적 분석에서 부양자 수가 높아질 수록 이탈률이 낮았기 때문에 LTV 점수 상승 요인\n",
    "- 평균 과금액 : 기간동안 얻어진 수익에 대한 평균 비용이므로 LTV 점수 상승 요인\n",
    "- 사용 기간 : 평생 가치에 가장 밀접한 관계로 LTV 점수 상승 요인"
   ]
  },
  {
   "cell_type": "code",
   "execution_count": 78,
   "id": "f6f4f982",
   "metadata": {},
   "outputs": [
    {
     "data": {
      "image/png": "[encoded data removed]",
      "text/plain": [
       "<Figure size 432x288 with 1 Axes>"
      ]
     },
     "metadata": {
      "needs_background": "light"
     },
     "output_type": "display_data"
    }
   ],
   "source": [
    "# 기존 LTV 점수와 총매출의 관계\n",
    "plt.scatter('CustomerLTV','TotalRevenue',data=customer_df, s=15)\n",
    "plt.title('기존 LTV', fontsize=13)\n",
    "plt.xlabel('LTV 점수')\n",
    "plt.ylabel('총 매출액', rotation='horizontal', labelpad = 20)\n",
    "plt.grid(alpha=0.6)"
   ]
  },
  {
   "cell_type": "code",
   "execution_count": 79,
   "id": "6b1a04bd",
   "metadata": {},
   "outputs": [
    {
     "data": {
      "image/png": "[encoded data removed]",
      "text/plain": [
       "<Figure size 432x288 with 1 Axes>"
      ]
     },
     "metadata": {
      "needs_background": "light"
     },
     "output_type": "display_data"
    }
   ],
   "source": [
    "# 개선된 LTV 점수는 총매출액에 비례하여 설명함\n",
    "plt.scatter('test1','TotalRevenue',data=customer_df, s=15)\n",
    "plt.title('수정된 LTV', fontsize=13)\n",
    "plt.xlabel('LTV 점수')\n",
    "plt.ylabel('총 매출액', rotation='horizontal', labelpad = 20)\n",
    "plt.grid(alpha=0.6)\n",
    "\n",
    "\n",
    "# 편차가 감소하여 설명력이 증가 됨을 알 수 있음"
   ]
  }
 ],
 "metadata": {
  "kernelspec": {
   "display_name": "Python 3 (ipykernel)",
   "language": "python",
   "name": "python3"
  },
  "language_info": {
   "codemirror_mode": {
    "name": "ipython",
    "version": 3
   },
   "file_extension": ".py",
   "mimetype": "text/x-python",
   "name": "python",
   "nbconvert_exporter": "python",
   "pygments_lexer": "ipython3",
   "version": "3.9.7"
  }
 },
 "nbformat": 4,
 "nbformat_minor": 5
}
